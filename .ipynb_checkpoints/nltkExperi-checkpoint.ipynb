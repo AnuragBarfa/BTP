{
 "cells": [
  {
   "cell_type": "code",
   "execution_count": 69,
   "metadata": {},
   "outputs": [],
   "source": [
    "import pandas as pd\n",
    "from nltk.tokenize import RegexpTokenizer\n",
    "import nltk \n",
    "from nltk.tokenize import sent_tokenize\n",
    "from nltk.tokenize import casual_tokenize\n",
    "from nltk.tokenize import TweetTokenizer"
   ]
  },
  {
   "cell_type": "code",
   "execution_count": null,
   "metadata": {},
   "outputs": [],
   "source": []
  },
  {
   "cell_type": "code",
   "execution_count": 161,
   "metadata": {},
   "outputs": [
    {
     "name": "stdout",
     "output_type": "stream",
     "text": [
      "@switchfoot http://twitpic.com/2y1zl - Awww, that's a bummer.  You shoulda got David Carr of Third Day to do it. ;D\n",
      "['w']\n"
     ]
    }
   ],
   "source": [
    "tokenizer = RegexpTokenizer('\\\\w(.)\\\\1{2,}')\n",
    "print(tweet)\n",
    "filterdText=tokenizer.tokenize(tweet)\n",
    "print(filterdText)\n",
    "def is_word_ext(word):\n",
    "    pass"
   ]
  },
  {
   "cell_type": "code",
   "execution_count": 193,
   "metadata": {},
   "outputs": [
    {
     "name": "stdout",
     "output_type": "stream",
     "text": [
      "@switchfoot http://twitpic.com/2y1zl - Awww, that's a bummer.  You shoulda got David Carr of Third Day to do it. ;D\n",
      "['o', 't', 'w', 'm', 'r']\n"
     ]
    }
   ],
   "source": [
    "tokenizer = RegexpTokenizer('([a-z])\\\\1')\n",
    "print(tweet)\n",
    "filterdText=tokenizer.tokenize(tweet)\n",
    "print(filterdText)\n",
    "def is_word_ext(word):\n",
    "    pass"
   ]
  },
  {
   "cell_type": "code",
   "execution_count": 67,
   "metadata": {},
   "outputs": [],
   "source": [
    "def get_sentences(tweet):\n",
    "    return sent_tokenize(tweet)\n",
    "    "
   ]
  },
  {
   "cell_type": "code",
   "execution_count": 88,
   "metadata": {},
   "outputs": [],
   "source": [
    "def get_words(sentence):\n",
    "    return TweetTokenizer().tokenize(sentence)"
   ]
  },
  {
   "cell_type": "code",
   "execution_count": 91,
   "metadata": {},
   "outputs": [],
   "source": [
    "#1.a)\n",
    "def no_word_per_tweet(tweet):\n",
    "    total_words=0\n",
    "    sentences=get_sentences(tweet)\n",
    "    for sentence in sentences:\n",
    "        print(get_words(sentence))\n",
    "        total_words=total_words+len(get_words(sentence))\n",
    "    return total_words    "
   ]
  },
  {
   "cell_type": "code",
   "execution_count": 93,
   "metadata": {},
   "outputs": [],
   "source": [
    "#1.b)\n",
    "def no_sent_per_tweet(tweet):\n",
    "    return len(get_sentences(tweet))"
   ]
  },
  {
   "cell_type": "code",
   "execution_count": 96,
   "metadata": {},
   "outputs": [],
   "source": [
    "#1.c)\n",
    "def no_word_per_sent(tweet):\n",
    "    return [len(get_words(sentence)) for sentence in get_sentences(tweet)]"
   ]
  },
  {
   "cell_type": "code",
   "execution_count": 60,
   "metadata": {},
   "outputs": [],
   "source": [
    "from nltk.corpus import words as eng_dict\n",
    "low_eng_dict=[x.lower() for x in eng_dict.words()]\n",
    "#1.d)\n",
    "def freq_dict_word(words):\n",
    "    eng_word_count=0\n",
    "    print(words)\n",
    "    for word in words:\n",
    "        if word.lower() in low_eng_dict:\n",
    "            print(word)\n",
    "            eng_word_count=eng_word_count+1\n",
    "    return eng_word_count/len(words)   "
   ]
  },
  {
   "cell_type": "code",
   "execution_count": null,
   "metadata": {},
   "outputs": [],
   "source": [
    "#1.e)\n",
    "def freq_word_ext(word):\n",
    "    "
   ]
  },
  {
   "cell_type": "code",
   "execution_count": 59,
   "metadata": {},
   "outputs": [],
   "source": [
    "#1.f)\n",
    "def lexical_diversity(text):\n",
    "    return len(set(text)) / len(text)"
   ]
  },
  {
   "cell_type": "code",
   "execution_count": null,
   "metadata": {},
   "outputs": [],
   "source": [
    "#2.a)"
   ]
  },
  {
   "cell_type": "code",
   "execution_count": 108,
   "metadata": {},
   "outputs": [],
   "source": [
    "#2.b)\n",
    "def no_punc_per_sent(sentence):\n",
    "    pun=0\n",
    "    for word in get_words(sentence):\n",
    "        if word in string.punctuation:\n",
    "            pun=pun+1\n",
    "    return pun       "
   ]
  },
  {
   "cell_type": "code",
   "execution_count": null,
   "metadata": {},
   "outputs": [],
   "source": []
  },
  {
   "cell_type": "code",
   "execution_count": 99,
   "metadata": {
    "scrolled": true
   },
   "outputs": [
    {
     "data": {
      "text/plain": [
       "'!\"#$%&\\'()*+,-./:;<=>?@[\\\\]^_`{|}~'"
      ]
     },
     "execution_count": 99,
     "metadata": {},
     "output_type": "execute_result"
    }
   ],
   "source": [
    "import string\n",
    "string.punctuation"
   ]
  },
  {
   "cell_type": "code",
   "execution_count": 106,
   "metadata": {},
   "outputs": [
    {
     "name": "stdout",
     "output_type": "stream",
     "text": [
      "@switchfoot http://twitpic.com/2y1zl - Awww, that's a bummer.  You shoulda got David Carr of Third Day to do it. ;D\n"
     ]
    }
   ],
   "source": [
    "\\w+\\w{3}\\w+"
   ]
  },
  {
   "cell_type": "code",
   "execution_count": 107,
   "metadata": {},
   "outputs": [
    {
     "name": "stdout",
     "output_type": "stream",
     "text": [
      "@switchfoot\n",
      "http://twitpic.com/2y1zl\n",
      "-\n",
      "Awww\n",
      ",\n",
      "that's\n",
      "a\n",
      "bummer\n",
      ".\n",
      "You\n",
      "shoulda\n",
      "got\n",
      "David\n",
      "Carr\n",
      "of\n",
      "Third\n",
      "Day\n",
      "to\n",
      "do\n",
      "it\n",
      ".\n",
      ";D\n"
     ]
    },
    {
     "data": {
      "text/plain": [
       "4"
      ]
     },
     "execution_count": 107,
     "metadata": {},
     "output_type": "execute_result"
    }
   ],
   "source": [
    "no_punc_per_sent(tweet)"
   ]
  },
  {
   "cell_type": "code",
   "execution_count": 87,
   "metadata": {},
   "outputs": [
    {
     "name": "stdout",
     "output_type": "stream",
     "text": [
      "@switchfoot http://twitpic.com/2y1zl - Awww, that's a bummer.\n"
     ]
    },
    {
     "data": {
      "text/plain": [
       "['@switchfoot',\n",
       " 'http://twitpic.com/2y1zl',\n",
       " '-',\n",
       " 'Awww',\n",
       " ',',\n",
       " \"that's\",\n",
       " 'a',\n",
       " 'bummer',\n",
       " '.']"
      ]
     },
     "execution_count": 87,
     "metadata": {},
     "output_type": "execute_result"
    }
   ],
   "source": [
    "get_words(sent)"
   ]
  },
  {
   "cell_type": "code",
   "execution_count": 20,
   "metadata": {},
   "outputs": [
    {
     "name": "stdout",
     "output_type": "stream",
     "text": [
      "['Hello', 'Guru99', 'You', 'have', 'build', 'a', 'very', 'good', 'site', 'and', 'I', 'love', 'visiting', 'your', 'site']\n"
     ]
    }
   ],
   "source": [
    "\n",
    "\n",
    "tokenizer = RegexpTokenizer(r'\\w+')\n",
    "filterdText=tokenizer.tokenize('Hello Guru99, You have build a very good site and I love visiting your site.')\n",
    "print(filterdText)"
   ]
  },
  {
   "cell_type": "code",
   "execution_count": null,
   "metadata": {},
   "outputs": [],
   "source": []
  },
  {
   "cell_type": "code",
   "execution_count": 21,
   "metadata": {},
   "outputs": [],
   "source": [
    "\n",
    "data=pd.read_csv('training.1600000.processed.noemoticon.csv',encoding = 'utf-8',header=None)"
   ]
  },
  {
   "cell_type": "code",
   "execution_count": 119,
   "metadata": {
    "collapsed": true
   },
   "outputs": [
    {
     "data": {
      "text/html": [
       "<div>\n",
       "<style scoped>\n",
       "    .dataframe tbody tr th:only-of-type {\n",
       "        vertical-align: middle;\n",
       "    }\n",
       "\n",
       "    .dataframe tbody tr th {\n",
       "        vertical-align: top;\n",
       "    }\n",
       "\n",
       "    .dataframe thead th {\n",
       "        text-align: right;\n",
       "    }\n",
       "</style>\n",
       "<table border=\"1\" class=\"dataframe\">\n",
       "  <thead>\n",
       "    <tr style=\"text-align: right;\">\n",
       "      <th></th>\n",
       "      <th>0</th>\n",
       "      <th>1</th>\n",
       "      <th>2</th>\n",
       "      <th>3</th>\n",
       "      <th>4</th>\n",
       "      <th>5</th>\n",
       "    </tr>\n",
       "  </thead>\n",
       "  <tbody>\n",
       "    <tr>\n",
       "      <th>0</th>\n",
       "      <td>0</td>\n",
       "      <td>1467810369</td>\n",
       "      <td>Mon Apr 06 22:19:45 PDT 2009</td>\n",
       "      <td>NO_QUERY</td>\n",
       "      <td>_TheSpecialOne_</td>\n",
       "      <td>@switchfoot http://twitpic.com/2y1zl - Awww, t...</td>\n",
       "    </tr>\n",
       "    <tr>\n",
       "      <th>1</th>\n",
       "      <td>0</td>\n",
       "      <td>1467810672</td>\n",
       "      <td>Mon Apr 06 22:19:49 PDT 2009</td>\n",
       "      <td>NO_QUERY</td>\n",
       "      <td>scotthamilton</td>\n",
       "      <td>is upset that he can't update his Facebook by ...</td>\n",
       "    </tr>\n",
       "    <tr>\n",
       "      <th>2</th>\n",
       "      <td>0</td>\n",
       "      <td>1467810917</td>\n",
       "      <td>Mon Apr 06 22:19:53 PDT 2009</td>\n",
       "      <td>NO_QUERY</td>\n",
       "      <td>mattycus</td>\n",
       "      <td>@Kenichan I dived many times for the ball. Man...</td>\n",
       "    </tr>\n",
       "    <tr>\n",
       "      <th>3</th>\n",
       "      <td>0</td>\n",
       "      <td>1467811184</td>\n",
       "      <td>Mon Apr 06 22:19:57 PDT 2009</td>\n",
       "      <td>NO_QUERY</td>\n",
       "      <td>ElleCTF</td>\n",
       "      <td>my whole body feels itchy and like its on fire</td>\n",
       "    </tr>\n",
       "    <tr>\n",
       "      <th>4</th>\n",
       "      <td>0</td>\n",
       "      <td>1467811193</td>\n",
       "      <td>Mon Apr 06 22:19:57 PDT 2009</td>\n",
       "      <td>NO_QUERY</td>\n",
       "      <td>Karoli</td>\n",
       "      <td>@nationwideclass no, it's not behaving at all....</td>\n",
       "    </tr>\n",
       "    <tr>\n",
       "      <th>5</th>\n",
       "      <td>0</td>\n",
       "      <td>1467811372</td>\n",
       "      <td>Mon Apr 06 22:20:00 PDT 2009</td>\n",
       "      <td>NO_QUERY</td>\n",
       "      <td>joy_wolf</td>\n",
       "      <td>@Kwesidei not the whole crew</td>\n",
       "    </tr>\n",
       "    <tr>\n",
       "      <th>6</th>\n",
       "      <td>0</td>\n",
       "      <td>1467811592</td>\n",
       "      <td>Mon Apr 06 22:20:03 PDT 2009</td>\n",
       "      <td>NO_QUERY</td>\n",
       "      <td>mybirch</td>\n",
       "      <td>Need a hug</td>\n",
       "    </tr>\n",
       "    <tr>\n",
       "      <th>7</th>\n",
       "      <td>0</td>\n",
       "      <td>1467811594</td>\n",
       "      <td>Mon Apr 06 22:20:03 PDT 2009</td>\n",
       "      <td>NO_QUERY</td>\n",
       "      <td>coZZ</td>\n",
       "      <td>@LOLTrish hey  long time no see! Yes.. Rains a...</td>\n",
       "    </tr>\n",
       "    <tr>\n",
       "      <th>8</th>\n",
       "      <td>0</td>\n",
       "      <td>1467811795</td>\n",
       "      <td>Mon Apr 06 22:20:05 PDT 2009</td>\n",
       "      <td>NO_QUERY</td>\n",
       "      <td>2Hood4Hollywood</td>\n",
       "      <td>@Tatiana_K nope they didn't have it</td>\n",
       "    </tr>\n",
       "    <tr>\n",
       "      <th>9</th>\n",
       "      <td>0</td>\n",
       "      <td>1467812025</td>\n",
       "      <td>Mon Apr 06 22:20:09 PDT 2009</td>\n",
       "      <td>NO_QUERY</td>\n",
       "      <td>mimismo</td>\n",
       "      <td>@twittera que me muera ?</td>\n",
       "    </tr>\n",
       "    <tr>\n",
       "      <th>10</th>\n",
       "      <td>0</td>\n",
       "      <td>1467812416</td>\n",
       "      <td>Mon Apr 06 22:20:16 PDT 2009</td>\n",
       "      <td>NO_QUERY</td>\n",
       "      <td>erinx3leannexo</td>\n",
       "      <td>spring break in plain city... it's snowing</td>\n",
       "    </tr>\n",
       "    <tr>\n",
       "      <th>11</th>\n",
       "      <td>0</td>\n",
       "      <td>1467812579</td>\n",
       "      <td>Mon Apr 06 22:20:17 PDT 2009</td>\n",
       "      <td>NO_QUERY</td>\n",
       "      <td>pardonlauren</td>\n",
       "      <td>I just re-pierced my ears</td>\n",
       "    </tr>\n",
       "    <tr>\n",
       "      <th>12</th>\n",
       "      <td>0</td>\n",
       "      <td>1467812723</td>\n",
       "      <td>Mon Apr 06 22:20:19 PDT 2009</td>\n",
       "      <td>NO_QUERY</td>\n",
       "      <td>TLeC</td>\n",
       "      <td>@caregiving I couldn't bear to watch it.  And ...</td>\n",
       "    </tr>\n",
       "    <tr>\n",
       "      <th>13</th>\n",
       "      <td>0</td>\n",
       "      <td>1467812771</td>\n",
       "      <td>Mon Apr 06 22:20:19 PDT 2009</td>\n",
       "      <td>NO_QUERY</td>\n",
       "      <td>robrobbierobert</td>\n",
       "      <td>@octolinz16 It it counts, idk why I did either...</td>\n",
       "    </tr>\n",
       "    <tr>\n",
       "      <th>14</th>\n",
       "      <td>0</td>\n",
       "      <td>1467812784</td>\n",
       "      <td>Mon Apr 06 22:20:20 PDT 2009</td>\n",
       "      <td>NO_QUERY</td>\n",
       "      <td>bayofwolves</td>\n",
       "      <td>@smarrison i would've been the first, but i di...</td>\n",
       "    </tr>\n",
       "    <tr>\n",
       "      <th>15</th>\n",
       "      <td>0</td>\n",
       "      <td>1467812799</td>\n",
       "      <td>Mon Apr 06 22:20:20 PDT 2009</td>\n",
       "      <td>NO_QUERY</td>\n",
       "      <td>HairByJess</td>\n",
       "      <td>@iamjazzyfizzle I wish I got to watch it with ...</td>\n",
       "    </tr>\n",
       "    <tr>\n",
       "      <th>16</th>\n",
       "      <td>0</td>\n",
       "      <td>1467812964</td>\n",
       "      <td>Mon Apr 06 22:20:22 PDT 2009</td>\n",
       "      <td>NO_QUERY</td>\n",
       "      <td>lovesongwriter</td>\n",
       "      <td>Hollis' death scene will hurt me severely to w...</td>\n",
       "    </tr>\n",
       "    <tr>\n",
       "      <th>17</th>\n",
       "      <td>0</td>\n",
       "      <td>1467813137</td>\n",
       "      <td>Mon Apr 06 22:20:25 PDT 2009</td>\n",
       "      <td>NO_QUERY</td>\n",
       "      <td>armotley</td>\n",
       "      <td>about to file taxes</td>\n",
       "    </tr>\n",
       "    <tr>\n",
       "      <th>18</th>\n",
       "      <td>0</td>\n",
       "      <td>1467813579</td>\n",
       "      <td>Mon Apr 06 22:20:31 PDT 2009</td>\n",
       "      <td>NO_QUERY</td>\n",
       "      <td>starkissed</td>\n",
       "      <td>@LettyA ahh ive always wanted to see rent  lov...</td>\n",
       "    </tr>\n",
       "    <tr>\n",
       "      <th>19</th>\n",
       "      <td>0</td>\n",
       "      <td>1467813782</td>\n",
       "      <td>Mon Apr 06 22:20:34 PDT 2009</td>\n",
       "      <td>NO_QUERY</td>\n",
       "      <td>gi_gi_bee</td>\n",
       "      <td>@FakerPattyPattz Oh dear. Were you drinking ou...</td>\n",
       "    </tr>\n",
       "    <tr>\n",
       "      <th>20</th>\n",
       "      <td>0</td>\n",
       "      <td>1467813985</td>\n",
       "      <td>Mon Apr 06 22:20:37 PDT 2009</td>\n",
       "      <td>NO_QUERY</td>\n",
       "      <td>quanvu</td>\n",
       "      <td>@alydesigns i was out most of the day so didn'...</td>\n",
       "    </tr>\n",
       "    <tr>\n",
       "      <th>21</th>\n",
       "      <td>0</td>\n",
       "      <td>1467813992</td>\n",
       "      <td>Mon Apr 06 22:20:38 PDT 2009</td>\n",
       "      <td>NO_QUERY</td>\n",
       "      <td>swinspeedx</td>\n",
       "      <td>one of my friend called me, and asked to meet ...</td>\n",
       "    </tr>\n",
       "    <tr>\n",
       "      <th>22</th>\n",
       "      <td>0</td>\n",
       "      <td>1467814119</td>\n",
       "      <td>Mon Apr 06 22:20:40 PDT 2009</td>\n",
       "      <td>NO_QUERY</td>\n",
       "      <td>cooliodoc</td>\n",
       "      <td>@angry_barista I baked you a cake but I ated it</td>\n",
       "    </tr>\n",
       "    <tr>\n",
       "      <th>23</th>\n",
       "      <td>0</td>\n",
       "      <td>1467814180</td>\n",
       "      <td>Mon Apr 06 22:20:40 PDT 2009</td>\n",
       "      <td>NO_QUERY</td>\n",
       "      <td>viJILLante</td>\n",
       "      <td>this week is not going as i had hoped</td>\n",
       "    </tr>\n",
       "    <tr>\n",
       "      <th>24</th>\n",
       "      <td>0</td>\n",
       "      <td>1467814192</td>\n",
       "      <td>Mon Apr 06 22:20:41 PDT 2009</td>\n",
       "      <td>NO_QUERY</td>\n",
       "      <td>Ljelli3166</td>\n",
       "      <td>blagh class at 8 tomorrow</td>\n",
       "    </tr>\n",
       "    <tr>\n",
       "      <th>25</th>\n",
       "      <td>0</td>\n",
       "      <td>1467814438</td>\n",
       "      <td>Mon Apr 06 22:20:44 PDT 2009</td>\n",
       "      <td>NO_QUERY</td>\n",
       "      <td>ChicagoCubbie</td>\n",
       "      <td>I hate when I have to call and wake people up</td>\n",
       "    </tr>\n",
       "    <tr>\n",
       "      <th>26</th>\n",
       "      <td>0</td>\n",
       "      <td>1467814783</td>\n",
       "      <td>Mon Apr 06 22:20:50 PDT 2009</td>\n",
       "      <td>NO_QUERY</td>\n",
       "      <td>KatieAngell</td>\n",
       "      <td>Just going to cry myself to sleep after watchi...</td>\n",
       "    </tr>\n",
       "    <tr>\n",
       "      <th>27</th>\n",
       "      <td>0</td>\n",
       "      <td>1467814883</td>\n",
       "      <td>Mon Apr 06 22:20:52 PDT 2009</td>\n",
       "      <td>NO_QUERY</td>\n",
       "      <td>gagoo</td>\n",
       "      <td>im sad now  Miss.Lilly</td>\n",
       "    </tr>\n",
       "    <tr>\n",
       "      <th>28</th>\n",
       "      <td>0</td>\n",
       "      <td>1467815199</td>\n",
       "      <td>Mon Apr 06 22:20:56 PDT 2009</td>\n",
       "      <td>NO_QUERY</td>\n",
       "      <td>abel209</td>\n",
       "      <td>ooooh.... LOL  that leslie.... and ok I won't ...</td>\n",
       "    </tr>\n",
       "    <tr>\n",
       "      <th>29</th>\n",
       "      <td>0</td>\n",
       "      <td>1467815753</td>\n",
       "      <td>Mon Apr 06 22:21:04 PDT 2009</td>\n",
       "      <td>NO_QUERY</td>\n",
       "      <td>BaptisteTheFool</td>\n",
       "      <td>Meh... Almost Lover is the exception... this t...</td>\n",
       "    </tr>\n",
       "    <tr>\n",
       "      <th>...</th>\n",
       "      <td>...</td>\n",
       "      <td>...</td>\n",
       "      <td>...</td>\n",
       "      <td>...</td>\n",
       "      <td>...</td>\n",
       "      <td>...</td>\n",
       "    </tr>\n",
       "    <tr>\n",
       "      <th>1599970</th>\n",
       "      <td>4</td>\n",
       "      <td>2193578196</td>\n",
       "      <td>Tue Jun 16 08:38:54 PDT 2009</td>\n",
       "      <td>NO_QUERY</td>\n",
       "      <td>adbillingsley</td>\n",
       "      <td>Thanks @eastwestchic &amp;amp; @wangyip Thanks! Th...</td>\n",
       "    </tr>\n",
       "    <tr>\n",
       "      <th>1599971</th>\n",
       "      <td>4</td>\n",
       "      <td>2193578237</td>\n",
       "      <td>Tue Jun 16 08:38:54 PDT 2009</td>\n",
       "      <td>NO_QUERY</td>\n",
       "      <td>gekkko</td>\n",
       "      <td>@marttn thanks Martin. not the most imaginativ...</td>\n",
       "    </tr>\n",
       "    <tr>\n",
       "      <th>1599972</th>\n",
       "      <td>4</td>\n",
       "      <td>2193578269</td>\n",
       "      <td>Tue Jun 16 08:38:54 PDT 2009</td>\n",
       "      <td>NO_QUERY</td>\n",
       "      <td>millerslab</td>\n",
       "      <td>@MikeJonesPhoto Congrats Mike  Way to go!</td>\n",
       "    </tr>\n",
       "    <tr>\n",
       "      <th>1599973</th>\n",
       "      <td>4</td>\n",
       "      <td>2193578319</td>\n",
       "      <td>Tue Jun 16 08:38:55 PDT 2009</td>\n",
       "      <td>NO_QUERY</td>\n",
       "      <td>luckygeorgeblog</td>\n",
       "      <td>http://twitpic.com/7jp4n - OMG! Office Space.....</td>\n",
       "    </tr>\n",
       "    <tr>\n",
       "      <th>1599974</th>\n",
       "      <td>4</td>\n",
       "      <td>2193578345</td>\n",
       "      <td>Tue Jun 16 08:38:55 PDT 2009</td>\n",
       "      <td>NO_QUERY</td>\n",
       "      <td>Kristah_Diggs</td>\n",
       "      <td>@yrclndstnlvr ahaha nooo you were just away fr...</td>\n",
       "    </tr>\n",
       "    <tr>\n",
       "      <th>1599975</th>\n",
       "      <td>4</td>\n",
       "      <td>2193578347</td>\n",
       "      <td>Tue Jun 16 08:38:55 PDT 2009</td>\n",
       "      <td>NO_QUERY</td>\n",
       "      <td>CoachChic</td>\n",
       "      <td>@BizCoachDeb  Hey, I'm baack! And, thanks so m...</td>\n",
       "    </tr>\n",
       "    <tr>\n",
       "      <th>1599976</th>\n",
       "      <td>4</td>\n",
       "      <td>2193578348</td>\n",
       "      <td>Tue Jun 16 08:38:55 PDT 2009</td>\n",
       "      <td>NO_QUERY</td>\n",
       "      <td>serianna</td>\n",
       "      <td>@mattycus Yeah, my conscience would be clear i...</td>\n",
       "    </tr>\n",
       "    <tr>\n",
       "      <th>1599977</th>\n",
       "      <td>4</td>\n",
       "      <td>2193578386</td>\n",
       "      <td>Tue Jun 16 08:38:55 PDT 2009</td>\n",
       "      <td>NO_QUERY</td>\n",
       "      <td>TeamUKskyvixen</td>\n",
       "      <td>@MayorDorisWolfe Thats my girl - dishing out t...</td>\n",
       "    </tr>\n",
       "    <tr>\n",
       "      <th>1599978</th>\n",
       "      <td>4</td>\n",
       "      <td>2193578395</td>\n",
       "      <td>Tue Jun 16 08:38:55 PDT 2009</td>\n",
       "      <td>NO_QUERY</td>\n",
       "      <td>LaurenMoo10</td>\n",
       "      <td>@shebbs123 i second that</td>\n",
       "    </tr>\n",
       "    <tr>\n",
       "      <th>1599979</th>\n",
       "      <td>4</td>\n",
       "      <td>2193578576</td>\n",
       "      <td>Tue Jun 16 08:38:57 PDT 2009</td>\n",
       "      <td>NO_QUERY</td>\n",
       "      <td>angel_sammy04</td>\n",
       "      <td>In the garden</td>\n",
       "    </tr>\n",
       "    <tr>\n",
       "      <th>1599980</th>\n",
       "      <td>4</td>\n",
       "      <td>2193578679</td>\n",
       "      <td>Tue Jun 16 08:38:56 PDT 2009</td>\n",
       "      <td>NO_QUERY</td>\n",
       "      <td>puchal_ek</td>\n",
       "      <td>@myheartandmind jo jen by nemuselo zrovna té h...</td>\n",
       "    </tr>\n",
       "    <tr>\n",
       "      <th>1599981</th>\n",
       "      <td>4</td>\n",
       "      <td>2193578716</td>\n",
       "      <td>Tue Jun 16 08:38:57 PDT 2009</td>\n",
       "      <td>NO_QUERY</td>\n",
       "      <td>youtubelatest</td>\n",
       "      <td>Another Commenting Contest! [;: Yay!!!  http:/...</td>\n",
       "    </tr>\n",
       "    <tr>\n",
       "      <th>1599982</th>\n",
       "      <td>4</td>\n",
       "      <td>2193578739</td>\n",
       "      <td>Tue Jun 16 08:38:57 PDT 2009</td>\n",
       "      <td>NO_QUERY</td>\n",
       "      <td>Mandi_Davenport</td>\n",
       "      <td>@thrillmesoon i figured out how to see my twee...</td>\n",
       "    </tr>\n",
       "    <tr>\n",
       "      <th>1599983</th>\n",
       "      <td>4</td>\n",
       "      <td>2193578758</td>\n",
       "      <td>Tue Jun 16 08:38:57 PDT 2009</td>\n",
       "      <td>NO_QUERY</td>\n",
       "      <td>xoAurixo</td>\n",
       "      <td>@oxhot theri tomorrow, drinking coffee, talkin...</td>\n",
       "    </tr>\n",
       "    <tr>\n",
       "      <th>1599984</th>\n",
       "      <td>4</td>\n",
       "      <td>2193578847</td>\n",
       "      <td>Tue Jun 16 08:38:57 PDT 2009</td>\n",
       "      <td>NO_QUERY</td>\n",
       "      <td>RobFoxKerr</td>\n",
       "      <td>You heard it here first -- We're having a girl...</td>\n",
       "    </tr>\n",
       "    <tr>\n",
       "      <th>1599985</th>\n",
       "      <td>4</td>\n",
       "      <td>2193578982</td>\n",
       "      <td>Tue Jun 16 08:38:58 PDT 2009</td>\n",
       "      <td>NO_QUERY</td>\n",
       "      <td>LISKFEST</td>\n",
       "      <td>if ur the lead singer in a band, beware fallin...</td>\n",
       "    </tr>\n",
       "    <tr>\n",
       "      <th>1599986</th>\n",
       "      <td>4</td>\n",
       "      <td>2193579087</td>\n",
       "      <td>Tue Jun 16 08:38:58 PDT 2009</td>\n",
       "      <td>NO_QUERY</td>\n",
       "      <td>marhgil</td>\n",
       "      <td>@tarayqueen too much ads on my blog.</td>\n",
       "    </tr>\n",
       "    <tr>\n",
       "      <th>1599987</th>\n",
       "      <td>4</td>\n",
       "      <td>2193579092</td>\n",
       "      <td>Tue Jun 16 08:38:58 PDT 2009</td>\n",
       "      <td>NO_QUERY</td>\n",
       "      <td>cathriiin</td>\n",
       "      <td>@La_r_a NEVEER  I think that you both will get...</td>\n",
       "    </tr>\n",
       "    <tr>\n",
       "      <th>1599988</th>\n",
       "      <td>4</td>\n",
       "      <td>2193579191</td>\n",
       "      <td>Tue Jun 16 08:38:59 PDT 2009</td>\n",
       "      <td>NO_QUERY</td>\n",
       "      <td>tellman</td>\n",
       "      <td>@Roy_Everitt ha- good job. that's right - we g...</td>\n",
       "    </tr>\n",
       "    <tr>\n",
       "      <th>1599989</th>\n",
       "      <td>4</td>\n",
       "      <td>2193579211</td>\n",
       "      <td>Tue Jun 16 08:38:59 PDT 2009</td>\n",
       "      <td>NO_QUERY</td>\n",
       "      <td>jazzstixx</td>\n",
       "      <td>@Ms_Hip_Hop im glad ur doing well</td>\n",
       "    </tr>\n",
       "    <tr>\n",
       "      <th>1599990</th>\n",
       "      <td>4</td>\n",
       "      <td>2193579249</td>\n",
       "      <td>Tue Jun 16 08:38:59 PDT 2009</td>\n",
       "      <td>NO_QUERY</td>\n",
       "      <td>razzberry5594</td>\n",
       "      <td>WOOOOO! Xbox is back</td>\n",
       "    </tr>\n",
       "    <tr>\n",
       "      <th>1599991</th>\n",
       "      <td>4</td>\n",
       "      <td>2193579284</td>\n",
       "      <td>Tue Jun 16 08:38:59 PDT 2009</td>\n",
       "      <td>NO_QUERY</td>\n",
       "      <td>AgustinaP</td>\n",
       "      <td>@rmedina @LaTati Mmmm  That sounds absolutely ...</td>\n",
       "    </tr>\n",
       "    <tr>\n",
       "      <th>1599992</th>\n",
       "      <td>4</td>\n",
       "      <td>2193579434</td>\n",
       "      <td>Tue Jun 16 08:39:00 PDT 2009</td>\n",
       "      <td>NO_QUERY</td>\n",
       "      <td>sdancingsteph</td>\n",
       "      <td>ReCoVeRiNg FrOm ThE lOnG wEeKeNd</td>\n",
       "    </tr>\n",
       "    <tr>\n",
       "      <th>1599993</th>\n",
       "      <td>4</td>\n",
       "      <td>2193579477</td>\n",
       "      <td>Tue Jun 16 08:39:00 PDT 2009</td>\n",
       "      <td>NO_QUERY</td>\n",
       "      <td>ChloeAmisha</td>\n",
       "      <td>@SCOOBY_GRITBOYS</td>\n",
       "    </tr>\n",
       "    <tr>\n",
       "      <th>1599994</th>\n",
       "      <td>4</td>\n",
       "      <td>2193579489</td>\n",
       "      <td>Tue Jun 16 08:39:00 PDT 2009</td>\n",
       "      <td>NO_QUERY</td>\n",
       "      <td>EvolveTom</td>\n",
       "      <td>@Cliff_Forster Yeah, that does work better tha...</td>\n",
       "    </tr>\n",
       "    <tr>\n",
       "      <th>1599995</th>\n",
       "      <td>4</td>\n",
       "      <td>2193601966</td>\n",
       "      <td>Tue Jun 16 08:40:49 PDT 2009</td>\n",
       "      <td>NO_QUERY</td>\n",
       "      <td>AmandaMarie1028</td>\n",
       "      <td>Just woke up. Having no school is the best fee...</td>\n",
       "    </tr>\n",
       "    <tr>\n",
       "      <th>1599996</th>\n",
       "      <td>4</td>\n",
       "      <td>2193601969</td>\n",
       "      <td>Tue Jun 16 08:40:49 PDT 2009</td>\n",
       "      <td>NO_QUERY</td>\n",
       "      <td>TheWDBoards</td>\n",
       "      <td>TheWDB.com - Very cool to hear old Walt interv...</td>\n",
       "    </tr>\n",
       "    <tr>\n",
       "      <th>1599997</th>\n",
       "      <td>4</td>\n",
       "      <td>2193601991</td>\n",
       "      <td>Tue Jun 16 08:40:49 PDT 2009</td>\n",
       "      <td>NO_QUERY</td>\n",
       "      <td>bpbabe</td>\n",
       "      <td>Are you ready for your MoJo Makeover? Ask me f...</td>\n",
       "    </tr>\n",
       "    <tr>\n",
       "      <th>1599998</th>\n",
       "      <td>4</td>\n",
       "      <td>2193602064</td>\n",
       "      <td>Tue Jun 16 08:40:49 PDT 2009</td>\n",
       "      <td>NO_QUERY</td>\n",
       "      <td>tinydiamondz</td>\n",
       "      <td>Happy 38th Birthday to my boo of alll time!!! ...</td>\n",
       "    </tr>\n",
       "    <tr>\n",
       "      <th>1599999</th>\n",
       "      <td>4</td>\n",
       "      <td>2193602129</td>\n",
       "      <td>Tue Jun 16 08:40:50 PDT 2009</td>\n",
       "      <td>NO_QUERY</td>\n",
       "      <td>RyanTrevMorris</td>\n",
       "      <td>happy #charitytuesday @theNSPCC @SparksCharity...</td>\n",
       "    </tr>\n",
       "  </tbody>\n",
       "</table>\n",
       "<p>1600000 rows × 6 columns</p>\n",
       "</div>"
      ],
      "text/plain": [
       "         0           1                             2         3  \\\n",
       "0        0  1467810369  Mon Apr 06 22:19:45 PDT 2009  NO_QUERY   \n",
       "1        0  1467810672  Mon Apr 06 22:19:49 PDT 2009  NO_QUERY   \n",
       "2        0  1467810917  Mon Apr 06 22:19:53 PDT 2009  NO_QUERY   \n",
       "3        0  1467811184  Mon Apr 06 22:19:57 PDT 2009  NO_QUERY   \n",
       "4        0  1467811193  Mon Apr 06 22:19:57 PDT 2009  NO_QUERY   \n",
       "5        0  1467811372  Mon Apr 06 22:20:00 PDT 2009  NO_QUERY   \n",
       "6        0  1467811592  Mon Apr 06 22:20:03 PDT 2009  NO_QUERY   \n",
       "7        0  1467811594  Mon Apr 06 22:20:03 PDT 2009  NO_QUERY   \n",
       "8        0  1467811795  Mon Apr 06 22:20:05 PDT 2009  NO_QUERY   \n",
       "9        0  1467812025  Mon Apr 06 22:20:09 PDT 2009  NO_QUERY   \n",
       "10       0  1467812416  Mon Apr 06 22:20:16 PDT 2009  NO_QUERY   \n",
       "11       0  1467812579  Mon Apr 06 22:20:17 PDT 2009  NO_QUERY   \n",
       "12       0  1467812723  Mon Apr 06 22:20:19 PDT 2009  NO_QUERY   \n",
       "13       0  1467812771  Mon Apr 06 22:20:19 PDT 2009  NO_QUERY   \n",
       "14       0  1467812784  Mon Apr 06 22:20:20 PDT 2009  NO_QUERY   \n",
       "15       0  1467812799  Mon Apr 06 22:20:20 PDT 2009  NO_QUERY   \n",
       "16       0  1467812964  Mon Apr 06 22:20:22 PDT 2009  NO_QUERY   \n",
       "17       0  1467813137  Mon Apr 06 22:20:25 PDT 2009  NO_QUERY   \n",
       "18       0  1467813579  Mon Apr 06 22:20:31 PDT 2009  NO_QUERY   \n",
       "19       0  1467813782  Mon Apr 06 22:20:34 PDT 2009  NO_QUERY   \n",
       "20       0  1467813985  Mon Apr 06 22:20:37 PDT 2009  NO_QUERY   \n",
       "21       0  1467813992  Mon Apr 06 22:20:38 PDT 2009  NO_QUERY   \n",
       "22       0  1467814119  Mon Apr 06 22:20:40 PDT 2009  NO_QUERY   \n",
       "23       0  1467814180  Mon Apr 06 22:20:40 PDT 2009  NO_QUERY   \n",
       "24       0  1467814192  Mon Apr 06 22:20:41 PDT 2009  NO_QUERY   \n",
       "25       0  1467814438  Mon Apr 06 22:20:44 PDT 2009  NO_QUERY   \n",
       "26       0  1467814783  Mon Apr 06 22:20:50 PDT 2009  NO_QUERY   \n",
       "27       0  1467814883  Mon Apr 06 22:20:52 PDT 2009  NO_QUERY   \n",
       "28       0  1467815199  Mon Apr 06 22:20:56 PDT 2009  NO_QUERY   \n",
       "29       0  1467815753  Mon Apr 06 22:21:04 PDT 2009  NO_QUERY   \n",
       "...     ..         ...                           ...       ...   \n",
       "1599970  4  2193578196  Tue Jun 16 08:38:54 PDT 2009  NO_QUERY   \n",
       "1599971  4  2193578237  Tue Jun 16 08:38:54 PDT 2009  NO_QUERY   \n",
       "1599972  4  2193578269  Tue Jun 16 08:38:54 PDT 2009  NO_QUERY   \n",
       "1599973  4  2193578319  Tue Jun 16 08:38:55 PDT 2009  NO_QUERY   \n",
       "1599974  4  2193578345  Tue Jun 16 08:38:55 PDT 2009  NO_QUERY   \n",
       "1599975  4  2193578347  Tue Jun 16 08:38:55 PDT 2009  NO_QUERY   \n",
       "1599976  4  2193578348  Tue Jun 16 08:38:55 PDT 2009  NO_QUERY   \n",
       "1599977  4  2193578386  Tue Jun 16 08:38:55 PDT 2009  NO_QUERY   \n",
       "1599978  4  2193578395  Tue Jun 16 08:38:55 PDT 2009  NO_QUERY   \n",
       "1599979  4  2193578576  Tue Jun 16 08:38:57 PDT 2009  NO_QUERY   \n",
       "1599980  4  2193578679  Tue Jun 16 08:38:56 PDT 2009  NO_QUERY   \n",
       "1599981  4  2193578716  Tue Jun 16 08:38:57 PDT 2009  NO_QUERY   \n",
       "1599982  4  2193578739  Tue Jun 16 08:38:57 PDT 2009  NO_QUERY   \n",
       "1599983  4  2193578758  Tue Jun 16 08:38:57 PDT 2009  NO_QUERY   \n",
       "1599984  4  2193578847  Tue Jun 16 08:38:57 PDT 2009  NO_QUERY   \n",
       "1599985  4  2193578982  Tue Jun 16 08:38:58 PDT 2009  NO_QUERY   \n",
       "1599986  4  2193579087  Tue Jun 16 08:38:58 PDT 2009  NO_QUERY   \n",
       "1599987  4  2193579092  Tue Jun 16 08:38:58 PDT 2009  NO_QUERY   \n",
       "1599988  4  2193579191  Tue Jun 16 08:38:59 PDT 2009  NO_QUERY   \n",
       "1599989  4  2193579211  Tue Jun 16 08:38:59 PDT 2009  NO_QUERY   \n",
       "1599990  4  2193579249  Tue Jun 16 08:38:59 PDT 2009  NO_QUERY   \n",
       "1599991  4  2193579284  Tue Jun 16 08:38:59 PDT 2009  NO_QUERY   \n",
       "1599992  4  2193579434  Tue Jun 16 08:39:00 PDT 2009  NO_QUERY   \n",
       "1599993  4  2193579477  Tue Jun 16 08:39:00 PDT 2009  NO_QUERY   \n",
       "1599994  4  2193579489  Tue Jun 16 08:39:00 PDT 2009  NO_QUERY   \n",
       "1599995  4  2193601966  Tue Jun 16 08:40:49 PDT 2009  NO_QUERY   \n",
       "1599996  4  2193601969  Tue Jun 16 08:40:49 PDT 2009  NO_QUERY   \n",
       "1599997  4  2193601991  Tue Jun 16 08:40:49 PDT 2009  NO_QUERY   \n",
       "1599998  4  2193602064  Tue Jun 16 08:40:49 PDT 2009  NO_QUERY   \n",
       "1599999  4  2193602129  Tue Jun 16 08:40:50 PDT 2009  NO_QUERY   \n",
       "\n",
       "                       4                                                  5  \n",
       "0        _TheSpecialOne_  @switchfoot http://twitpic.com/2y1zl - Awww, t...  \n",
       "1          scotthamilton  is upset that he can't update his Facebook by ...  \n",
       "2               mattycus  @Kenichan I dived many times for the ball. Man...  \n",
       "3                ElleCTF    my whole body feels itchy and like its on fire   \n",
       "4                 Karoli  @nationwideclass no, it's not behaving at all....  \n",
       "5               joy_wolf                      @Kwesidei not the whole crew   \n",
       "6                mybirch                                        Need a hug   \n",
       "7                   coZZ  @LOLTrish hey  long time no see! Yes.. Rains a...  \n",
       "8        2Hood4Hollywood               @Tatiana_K nope they didn't have it   \n",
       "9                mimismo                          @twittera que me muera ?   \n",
       "10        erinx3leannexo        spring break in plain city... it's snowing   \n",
       "11          pardonlauren                         I just re-pierced my ears   \n",
       "12                  TLeC  @caregiving I couldn't bear to watch it.  And ...  \n",
       "13       robrobbierobert  @octolinz16 It it counts, idk why I did either...  \n",
       "14           bayofwolves  @smarrison i would've been the first, but i di...  \n",
       "15            HairByJess  @iamjazzyfizzle I wish I got to watch it with ...  \n",
       "16        lovesongwriter  Hollis' death scene will hurt me severely to w...  \n",
       "17              armotley                               about to file taxes   \n",
       "18            starkissed  @LettyA ahh ive always wanted to see rent  lov...  \n",
       "19             gi_gi_bee  @FakerPattyPattz Oh dear. Were you drinking ou...  \n",
       "20                quanvu  @alydesigns i was out most of the day so didn'...  \n",
       "21            swinspeedx  one of my friend called me, and asked to meet ...  \n",
       "22             cooliodoc   @angry_barista I baked you a cake but I ated it   \n",
       "23            viJILLante             this week is not going as i had hoped   \n",
       "24            Ljelli3166                         blagh class at 8 tomorrow   \n",
       "25         ChicagoCubbie     I hate when I have to call and wake people up   \n",
       "26           KatieAngell  Just going to cry myself to sleep after watchi...  \n",
       "27                 gagoo                             im sad now  Miss.Lilly  \n",
       "28               abel209  ooooh.... LOL  that leslie.... and ok I won't ...  \n",
       "29       BaptisteTheFool  Meh... Almost Lover is the exception... this t...  \n",
       "...                  ...                                                ...  \n",
       "1599970    adbillingsley  Thanks @eastwestchic &amp; @wangyip Thanks! Th...  \n",
       "1599971           gekkko  @marttn thanks Martin. not the most imaginativ...  \n",
       "1599972       millerslab          @MikeJonesPhoto Congrats Mike  Way to go!  \n",
       "1599973  luckygeorgeblog  http://twitpic.com/7jp4n - OMG! Office Space.....  \n",
       "1599974    Kristah_Diggs  @yrclndstnlvr ahaha nooo you were just away fr...  \n",
       "1599975        CoachChic  @BizCoachDeb  Hey, I'm baack! And, thanks so m...  \n",
       "1599976         serianna  @mattycus Yeah, my conscience would be clear i...  \n",
       "1599977   TeamUKskyvixen  @MayorDorisWolfe Thats my girl - dishing out t...  \n",
       "1599978      LaurenMoo10                          @shebbs123 i second that   \n",
       "1599979    angel_sammy04                                     In the garden   \n",
       "1599980        puchal_ek  @myheartandmind jo jen by nemuselo zrovna té h...  \n",
       "1599981    youtubelatest  Another Commenting Contest! [;: Yay!!!  http:/...  \n",
       "1599982  Mandi_Davenport  @thrillmesoon i figured out how to see my twee...  \n",
       "1599983         xoAurixo  @oxhot theri tomorrow, drinking coffee, talkin...  \n",
       "1599984       RobFoxKerr  You heard it here first -- We're having a girl...  \n",
       "1599985         LISKFEST  if ur the lead singer in a band, beware fallin...  \n",
       "1599986          marhgil              @tarayqueen too much ads on my blog.   \n",
       "1599987        cathriiin  @La_r_a NEVEER  I think that you both will get...  \n",
       "1599988          tellman  @Roy_Everitt ha- good job. that's right - we g...  \n",
       "1599989        jazzstixx                 @Ms_Hip_Hop im glad ur doing well   \n",
       "1599990    razzberry5594                              WOOOOO! Xbox is back   \n",
       "1599991        AgustinaP  @rmedina @LaTati Mmmm  That sounds absolutely ...  \n",
       "1599992    sdancingsteph                  ReCoVeRiNg FrOm ThE lOnG wEeKeNd   \n",
       "1599993      ChloeAmisha                                  @SCOOBY_GRITBOYS   \n",
       "1599994        EvolveTom  @Cliff_Forster Yeah, that does work better tha...  \n",
       "1599995  AmandaMarie1028  Just woke up. Having no school is the best fee...  \n",
       "1599996      TheWDBoards  TheWDB.com - Very cool to hear old Walt interv...  \n",
       "1599997           bpbabe  Are you ready for your MoJo Makeover? Ask me f...  \n",
       "1599998     tinydiamondz  Happy 38th Birthday to my boo of alll time!!! ...  \n",
       "1599999   RyanTrevMorris  happy #charitytuesday @theNSPCC @SparksCharity...  \n",
       "\n",
       "[1600000 rows x 6 columns]"
      ]
     },
     "execution_count": 119,
     "metadata": {},
     "output_type": "execute_result"
    }
   ],
   "source": [
    "data"
   ]
  },
  {
   "cell_type": "code",
   "execution_count": 122,
   "metadata": {},
   "outputs": [],
   "source": [
    "data.columns=['a','b','c','d','e','f']"
   ]
  },
  {
   "cell_type": "code",
   "execution_count": null,
   "metadata": {
    "scrolled": true
   },
   "outputs": [],
   "source": []
  },
  {
   "cell_type": "code",
   "execution_count": 126,
   "metadata": {
    "scrolled": true
   },
   "outputs": [],
   "source": [
    "df = data[['e','f']]"
   ]
  },
  {
   "cell_type": "code",
   "execution_count": 57,
   "metadata": {},
   "outputs": [
    {
     "ename": "NameError",
     "evalue": "name 'df' is not defined",
     "output_type": "error",
     "traceback": [
      "\u001b[1;31m---------------------------------------------------------------------------\u001b[0m",
      "\u001b[1;31mNameError\u001b[0m                                 Traceback (most recent call last)",
      "\u001b[1;32m<ipython-input-57-2bbc60edee55>\u001b[0m in \u001b[0;36m<module>\u001b[1;34m\u001b[0m\n\u001b[0;32m      1\u001b[0m \u001b[1;31m# b = df['e'].drop_duplicates()\u001b[0m\u001b[1;33m\u001b[0m\u001b[1;33m\u001b[0m\u001b[1;33m\u001b[0m\u001b[0m\n\u001b[1;32m----> 2\u001b[1;33m \u001b[0mdf\u001b[0m\u001b[1;33m[\u001b[0m\u001b[1;34m'e'\u001b[0m\u001b[1;33m]\u001b[0m\u001b[1;33m.\u001b[0m\u001b[0mvalue_counts\u001b[0m\u001b[1;33m(\u001b[0m\u001b[1;33m)\u001b[0m\u001b[1;33m.\u001b[0m\u001b[0msort_values\u001b[0m\u001b[1;33m(\u001b[0m\u001b[0mascending\u001b[0m\u001b[1;33m=\u001b[0m\u001b[1;32mFalse\u001b[0m\u001b[1;33m)\u001b[0m\u001b[1;33m\u001b[0m\u001b[1;33m\u001b[0m\u001b[0m\n\u001b[0m",
      "\u001b[1;31mNameError\u001b[0m: name 'df' is not defined"
     ]
    }
   ],
   "source": [
    "# b = df['e'].drop_duplicates()\n",
    "df['e'].value_counts().sort_values(ascending=False)"
   ]
  },
  {
   "cell_type": "code",
   "execution_count": 139,
   "metadata": {},
   "outputs": [],
   "source": [
    "dfg = df.groupby('e')"
   ]
  },
  {
   "cell_type": "code",
   "execution_count": 55,
   "metadata": {},
   "outputs": [
    {
     "ename": "NameError",
     "evalue": "name 'dfg' is not defined",
     "output_type": "error",
     "traceback": [
      "\u001b[1;31m---------------------------------------------------------------------------\u001b[0m",
      "\u001b[1;31mNameError\u001b[0m                                 Traceback (most recent call last)",
      "\u001b[1;32m<ipython-input-55-c799208ba4e4>\u001b[0m in \u001b[0;36m<module>\u001b[1;34m\u001b[0m\n\u001b[1;32m----> 1\u001b[1;33m \u001b[0mdfg\u001b[0m\u001b[1;33m.\u001b[0m\u001b[0mfirst\u001b[0m\u001b[1;33m(\u001b[0m\u001b[1;33m)\u001b[0m\u001b[1;33m\u001b[0m\u001b[1;33m\u001b[0m\u001b[0m\n\u001b[0m",
      "\u001b[1;31mNameError\u001b[0m: name 'dfg' is not defined"
     ]
    }
   ],
   "source": [
    "dfg.first()"
   ]
  },
  {
   "cell_type": "code",
   "execution_count": 143,
   "metadata": {},
   "outputs": [],
   "source": [
    "a = dfg.get_group('lost_dog').reset_index(drop=True)"
   ]
  },
  {
   "cell_type": "markdown",
   "metadata": {},
   "source": [
    "## HEY JUDE DONT BE AFRAID"
   ]
  },
  {
   "cell_type": "code",
   "execution_count": 22,
   "metadata": {},
   "outputs": [],
   "source": [
    "tweet=data[5][0]"
   ]
  },
  {
   "cell_type": "code",
   "execution_count": 117,
   "metadata": {},
   "outputs": [],
   "source": [
    "data2 = data.iloc[:][[4,5]]"
   ]
  },
  {
   "cell_type": "code",
   "execution_count": 54,
   "metadata": {},
   "outputs": [
    {
     "ename": "NameError",
     "evalue": "name 'data2' is not defined",
     "output_type": "error",
     "traceback": [
      "\u001b[1;31m---------------------------------------------------------------------------\u001b[0m",
      "\u001b[1;31mNameError\u001b[0m                                 Traceback (most recent call last)",
      "\u001b[1;32m<ipython-input-54-eff1098d818d>\u001b[0m in \u001b[0;36m<module>\u001b[1;34m\u001b[0m\n\u001b[1;32m----> 1\u001b[1;33m \u001b[0mdata2\u001b[0m\u001b[1;33m\u001b[0m\u001b[1;33m\u001b[0m\u001b[0m\n\u001b[0m",
      "\u001b[1;31mNameError\u001b[0m: name 'data2' is not defined"
     ]
    }
   ],
   "source": [
    "data2"
   ]
  },
  {
   "cell_type": "code",
   "execution_count": 15,
   "metadata": {
    "scrolled": false
   },
   "outputs": [
    {
     "data": {
      "text/html": [
       "<div>\n",
       "<style scoped>\n",
       "    .dataframe tbody tr th:only-of-type {\n",
       "        vertical-align: middle;\n",
       "    }\n",
       "\n",
       "    .dataframe tbody tr th {\n",
       "        vertical-align: top;\n",
       "    }\n",
       "\n",
       "    .dataframe thead th {\n",
       "        text-align: right;\n",
       "    }\n",
       "</style>\n",
       "<table border=\"1\" class=\"dataframe\">\n",
       "  <thead>\n",
       "    <tr style=\"text-align: right;\">\n",
       "      <th></th>\n",
       "      <th>0</th>\n",
       "      <th>1</th>\n",
       "      <th>2</th>\n",
       "      <th>3</th>\n",
       "      <th>4</th>\n",
       "      <th>5</th>\n",
       "    </tr>\n",
       "  </thead>\n",
       "  <tbody>\n",
       "    <tr>\n",
       "      <th>1</th>\n",
       "      <td>0</td>\n",
       "      <td>1467810672</td>\n",
       "      <td>Mon Apr 06 22:19:49 PDT 2009</td>\n",
       "      <td>NO_QUERY</td>\n",
       "      <td>scotthamilton</td>\n",
       "      <td>is upset that he can't update his Facebook by ...</td>\n",
       "    </tr>\n",
       "    <tr>\n",
       "      <th>2</th>\n",
       "      <td>0</td>\n",
       "      <td>1467810917</td>\n",
       "      <td>Mon Apr 06 22:19:53 PDT 2009</td>\n",
       "      <td>NO_QUERY</td>\n",
       "      <td>mattycus</td>\n",
       "      <td>@Kenichan I dived many times for the ball. Man...</td>\n",
       "    </tr>\n",
       "    <tr>\n",
       "      <th>3</th>\n",
       "      <td>0</td>\n",
       "      <td>1467811184</td>\n",
       "      <td>Mon Apr 06 22:19:57 PDT 2009</td>\n",
       "      <td>NO_QUERY</td>\n",
       "      <td>ElleCTF</td>\n",
       "      <td>my whole body feels itchy and like its on fire</td>\n",
       "    </tr>\n",
       "    <tr>\n",
       "      <th>4</th>\n",
       "      <td>0</td>\n",
       "      <td>1467811193</td>\n",
       "      <td>Mon Apr 06 22:19:57 PDT 2009</td>\n",
       "      <td>NO_QUERY</td>\n",
       "      <td>Karoli</td>\n",
       "      <td>@nationwideclass no, it's not behaving at all....</td>\n",
       "    </tr>\n",
       "  </tbody>\n",
       "</table>\n",
       "</div>"
      ],
      "text/plain": [
       "   0           1                             2         3              4  \\\n",
       "1  0  1467810672  Mon Apr 06 22:19:49 PDT 2009  NO_QUERY  scotthamilton   \n",
       "2  0  1467810917  Mon Apr 06 22:19:53 PDT 2009  NO_QUERY       mattycus   \n",
       "3  0  1467811184  Mon Apr 06 22:19:57 PDT 2009  NO_QUERY        ElleCTF   \n",
       "4  0  1467811193  Mon Apr 06 22:19:57 PDT 2009  NO_QUERY         Karoli   \n",
       "\n",
       "                                                   5  \n",
       "1  is upset that he can't update his Facebook by ...  \n",
       "2  @Kenichan I dived many times for the ball. Man...  \n",
       "3    my whole body feels itchy and like its on fire   \n",
       "4  @nationwideclass no, it's not behaving at all....  "
      ]
     },
     "execution_count": 15,
     "metadata": {},
     "output_type": "execute_result"
    }
   ],
   "source": [
    "data[1:5]"
   ]
  },
  {
   "cell_type": "code",
   "execution_count": 79,
   "metadata": {},
   "outputs": [],
   "source": []
  },
  {
   "cell_type": "code",
   "execution_count": 80,
   "metadata": {},
   "outputs": [
    {
     "data": {
      "text/plain": [
       "0.3217391304347826"
      ]
     },
     "execution_count": 80,
     "metadata": {},
     "output_type": "execute_result"
    }
   ],
   "source": [
    "lexical_diversity(tweet)"
   ]
  },
  {
   "cell_type": "code",
   "execution_count": 76,
   "metadata": {},
   "outputs": [
    {
     "name": "stdout",
     "output_type": "stream",
     "text": [
      "[[], [], []]\n"
     ]
    }
   ],
   "source": [
    "\n",
    "sentences = casual_tokenize(tweet)\n",
    "\n",
    "words = []\n",
    "tokenizer = RegexpTokenizer(r'(http:\\/\\/www)')\n",
    "for sentence in sentences:\n",
    "    words.append(tokenizer.tokenize(sentence))\n",
    "print(words)"
   ]
  },
  {
   "cell_type": "code",
   "execution_count": 78,
   "metadata": {},
   "outputs": [
    {
     "name": "stdout",
     "output_type": "stream",
     "text": [
      "['@switchfoot', 'http://twitpic.com/2y1zl', '-', 'Awww', ',', \"that's\", 'a', 'bummer', '.', 'You', 'shoulda', 'got', 'David', 'Carr', 'of', 'Third', 'Day', 'to', 'do', 'it', '.', ';D']\n"
     ]
    }
   ],
   "source": [
    "\n",
    "sentences = casual_tokenize(tweet)\n",
    "print(sentences)"
   ]
  },
  {
   "cell_type": "code",
   "execution_count": 34,
   "metadata": {},
   "outputs": [
    {
     "name": "stderr",
     "output_type": "stream",
     "text": [
      "[nltk_data] Downloading package punkt to C:\\Users\\Ashish\n",
      "[nltk_data]     Ranjan\\AppData\\Roaming\\nltk_data...\n",
      "[nltk_data]   Unzipping tokenizers\\punkt.zip.\n"
     ]
    },
    {
     "data": {
      "text/plain": [
       "True"
      ]
     },
     "execution_count": 34,
     "metadata": {},
     "output_type": "execute_result"
    }
   ],
   "source": [
    "nltk.download('punkt')"
   ]
  },
  {
   "cell_type": "code",
   "execution_count": 26,
   "metadata": {},
   "outputs": [
    {
     "data": {
      "text/plain": [
       "115"
      ]
     },
     "execution_count": 26,
     "metadata": {},
     "output_type": "execute_result"
    }
   ],
   "source": [
    "len(tweet)"
   ]
  },
  {
   "cell_type": "code",
   "execution_count": 28,
   "metadata": {},
   "outputs": [
    {
     "data": {
      "text/plain": [
       "\"@switchfoot http://twitpic.com/2y1zl - Awww, that's a bummer.  You shoulda got David Carr of Third Day to do it. ;D\""
      ]
     },
     "execution_count": 28,
     "metadata": {},
     "output_type": "execute_result"
    }
   ],
   "source": [
    "tweet"
   ]
  },
  {
   "cell_type": "code",
   "execution_count": null,
   "metadata": {},
   "outputs": [],
   "source": []
  },
  {
   "cell_type": "code",
   "execution_count": 24,
   "metadata": {},
   "outputs": [
    {
     "ename": "AttributeError",
     "evalue": "'str' object has no attribute 'decode'",
     "output_type": "error",
     "traceback": [
      "\u001b[1;31m---------------------------------------------------------------------------\u001b[0m",
      "\u001b[1;31mAttributeError\u001b[0m                            Traceback (most recent call last)",
      "\u001b[1;32m<ipython-input-24-3d717b5d6e0a>\u001b[0m in \u001b[0;36m<module>\u001b[1;34m\u001b[0m\n\u001b[0;32m      1\u001b[0m \u001b[1;32mimport\u001b[0m \u001b[0mnltk\u001b[0m\u001b[1;33m\u001b[0m\u001b[1;33m\u001b[0m\u001b[0m\n\u001b[1;32m----> 2\u001b[1;33m \u001b[0mtweet\u001b[0m \u001b[1;33m=\u001b[0m \u001b[0mnltk\u001b[0m\u001b[1;33m.\u001b[0m\u001b[0mText\u001b[0m\u001b[1;33m(\u001b[0m\u001b[0mnltk\u001b[0m\u001b[1;33m.\u001b[0m\u001b[0mword_tokenize\u001b[0m\u001b[1;33m(\u001b[0m\u001b[0mtweet\u001b[0m\u001b[1;33m.\u001b[0m\u001b[0mdecode\u001b[0m\u001b[1;33m(\u001b[0m\u001b[1;34m'utf-8'\u001b[0m\u001b[1;33m)\u001b[0m\u001b[1;33m)\u001b[0m\u001b[1;33m)\u001b[0m\u001b[1;33m\u001b[0m\u001b[1;33m\u001b[0m\u001b[0m\n\u001b[0m\u001b[0;32m      3\u001b[0m \u001b[0mfdist\u001b[0m \u001b[1;33m=\u001b[0m \u001b[0mnltk\u001b[0m\u001b[1;33m.\u001b[0m\u001b[0mFreqDist\u001b[0m\u001b[1;33m(\u001b[0m\u001b[0mraw\u001b[0m\u001b[1;33m)\u001b[0m\u001b[1;33m\u001b[0m\u001b[1;33m\u001b[0m\u001b[0m\n\u001b[0;32m      4\u001b[0m \u001b[0mprint\u001b[0m \u001b[1;33m(\u001b[0m\u001b[0mfdist\u001b[0m\u001b[1;33m.\u001b[0m\u001b[0mN\u001b[0m\u001b[1;33m(\u001b[0m\u001b[1;33m)\u001b[0m\u001b[1;33m)\u001b[0m\u001b[1;33m\u001b[0m\u001b[1;33m\u001b[0m\u001b[0m\n",
      "\u001b[1;31mAttributeError\u001b[0m: 'str' object has no attribute 'decode'"
     ]
    }
   ],
   "source": [
    "\n",
    "tweet = nltk.Text(nltk.word_tokenize(tweet.decode('utf-8')))\n",
    "fdist = nltk.FreqDist(raw)\n",
    "print (fdist.N())"
   ]
  },
  {
   "cell_type": "code",
   "execution_count": 11,
   "metadata": {},
   "outputs": [
    {
     "data": {
      "text/plain": [
       "\"@switchfoot http://twitpic.com/2y1zl - Awww, that's a bummer.  You shoulda got David Carr of Third Day to do it. ;D\""
      ]
     },
     "execution_count": 11,
     "metadata": {},
     "output_type": "execute_result"
    }
   ],
   "source": [
    "tweet"
   ]
  },
  {
   "cell_type": "code",
   "execution_count": 1,
   "metadata": {},
   "outputs": [],
   "source": [
    "from nltk.corpus import words"
   ]
  },
  {
   "cell_type": "code",
   "execution_count": 12,
   "metadata": {},
   "outputs": [
    {
     "name": "stdout",
     "output_type": "stream",
     "text": [
      "['beefer', 'beefhead', 'beefheaded', 'beefily', 'beefin', 'beefiness', 'beefish', 'beefishness', 'beefless', 'beeflower', 'beefsteak', 'beeftongue', 'beefwood', 'beefy', 'beegerite', 'beehead', 'beeheaded', 'beeherd', 'beehive', 'beehouse', 'beeish', 'beeishness', 'beek', 'beekeeper', 'beekeeping', 'beekite', 'Beekmantown', 'beelbow', 'beelike', 'beeline', 'beelol', 'Beelzebub', 'Beelzebubian', 'Beelzebul', 'beeman', 'beemaster', 'been', 'beennut', 'beer', 'beerage', 'beerbachite', 'beerbibber', 'beerhouse', 'beerily', 'beeriness', 'beerish', 'beerishly', 'beermaker', 'beermaking', 'beermonger', 'beerocracy', 'Beerothite', 'beerpull', 'beery', 'bees', 'beest', 'beestings', 'beeswax', 'beeswing', 'beeswinged', 'beet', 'beeth', 'Beethovenian', 'Beethovenish', 'Beethovian', 'beetle', 'beetled', 'beetlehead', 'beetleheaded', 'beetler', 'beetlestock', 'beetlestone', 'beetleweed', 'beetmister', 'beetrave', 'beetroot', 'beetrooty', 'beety', 'beeve', 'beevish', 'beeware', 'beeway', 'beeweed', 'beewise', 'beewort', 'befall', 'befame', 'befamilied', 'befamine', 'befan', 'befancy', 'befanned', 'befathered', 'befavor', 'befavour', 'befeather', 'beferned', 'befetished', 'befetter', 'befezzed', 'befiddle', 'befilch', 'befile', 'befilleted', 'befilmed', 'befilth', 'befinger', 'befire', 'befist', 'befit', 'befitting', 'befittingly', 'befittingness', 'beflag', 'beflannel', 'beflap', 'beflatter', 'beflea', 'befleck', 'beflounce', 'beflour', 'beflout', 'beflower', 'beflum', 'befluster', 'befoam', 'befog', 'befool', 'befoolment', 'befop', 'before', 'beforehand', 'beforeness', 'beforested', 'beforetime', 'beforetimes', 'befortune', 'befoul', 'befouler', 'befoulment', 'befountained', 'befraught', 'befreckle', 'befreeze', 'befreight', 'befret', 'befriend', 'befriender', 'befriendment', 'befrill', 'befringe', 'befriz', 'befrocked', 'befrogged', 'befrounce', 'befrumple', 'befuddle', 'befuddlement', 'befuddler', 'befume', 'befurbelowed', 'befurred', 'beg', 'begabled', 'begad', 'begall', 'begani', 'begar', 'begari', 'begarlanded', 'begarnish', 'begartered', 'begash', 'begat', 'begaud', 'begaudy', 'begay', 'begaze', 'begeck', 'begem', 'beget', 'begettal', 'begetter', 'beggable', 'beggar', 'beggardom', 'beggarer', 'beggaress', 'beggarhood', 'beggarism', 'beggarlike', 'beggarliness', 'beggarly', 'beggarman', 'beggarweed', 'beggarwise', 'beggarwoman', 'beggary', 'Beggiatoa', 'Beggiatoaceae', 'beggiatoaceous', 'begging', 'beggingly', 'beggingwise', 'Beghard', 'begift', 'begiggle', 'begild', 'begin', 'beginger', 'beginner', 'beginning', 'begird', 'begirdle', 'beglad', 'beglamour', 'beglare', 'beglerbeg', 'beglerbeglic', 'beglerbegluc', 'beglerbegship', 'beglerbey', 'beglic', 'beglide', 'beglitter', 'beglobed', 'begloom', 'begloze', 'begluc', 'beglue', 'begnaw', 'bego', 'begob', 'begobs', 'begoggled', 'begohm', 'begone', 'begonia', 'Begoniaceae', 'begoniaceous', 'Begoniales', 'begorra', 'begorry', 'begotten', 'begottenness', 'begoud', 'begowk', 'begowned', 'begrace', 'begrain', 'begrave', 'begray', 'begrease', 'begreen', 'begrett', 'begrim', 'begrime', 'begrimer', 'begroan', 'begrown', 'begrudge', 'begrudgingly', 'begruntle', 'begrutch', 'begrutten', 'beguard', 'beguess', 'beguile', 'beguileful', 'beguilement', 'beguiler', 'beguiling', 'beguilingly', 'Beguin', 'Beguine', 'beguine', 'begulf', 'begum', 'begun', 'begunk', 'begut', 'behale', 'behalf', 'behallow', 'behammer', 'behap', 'behatted', 'behave', 'behavior', 'behavioral', 'behaviored', 'behaviorism', 'behaviorist', 'behavioristic', 'behavioristically', 'behead', 'beheadal', 'beheader', 'beheadlined', 'behear', 'behears', 'behearse', 'behedge', 'beheld', 'behelp', 'behemoth', 'behen', 'behenate', 'behenic', 'behest', 'behind', 'behinder', 'behindhand', 'behindsight', 'behint', 'behn', 'behold', 'beholdable', 'beholden', 'beholder', 'beholding', 'beholdingness', 'behoney', 'behoof', 'behooped', 'behoot', 'behoove', 'behooveful', 'behoovefully', 'behoovefulness', 'behooves', 'behooving', 'behoovingly', 'behorn', 'behorror', 'behowl', 'behung', 'behusband', 'behymn', 'behypocrite', 'beice', 'Beid', 'beige', 'being', 'beingless', 'beingness', 'beinked', 'beira', 'beisa', 'Beja', 'bejabers', 'bejade', 'bejan', 'bejant', 'bejaundice', 'bejazz', 'bejel', 'bejewel', 'bejezebel', 'bejig', 'bejuggle', 'bejumble', 'bekah', 'bekerchief', 'bekick', 'bekilted', 'beking', 'bekinkinite', 'bekiss', 'bekko', 'beknave', 'beknight', 'beknit', 'beknived', 'beknotted', 'beknottedly', 'beknottedness', 'beknow', 'beknown', 'Bel', 'bel', 'bela', 'belabor', 'belaced', 'beladle', 'belady', 'belage', 'belah', 'Belait', 'Belaites', 'belam', 'Belamcanda', 'belanda', 'belar', 'belard', 'belash', 'belate', 'belated', 'belatedly', 'belatedness', 'belatticed', 'belaud', 'belauder', 'belavendered', 'belay', 'belayer', 'belch', 'belcher', 'beld', 'beldam', 'beldamship', 'belderroot', 'belduque', 'beleaf', 'beleaguer', 'beleaguerer', 'beleaguerment', 'beleap', 'beleave', 'belecture', 'beledgered', 'belee', 'belemnid', 'belemnite', 'Belemnites', 'belemnitic', 'Belemnitidae', 'belemnoid', 'Belemnoidea', 'beletter', 'belfried', 'belfry', 'belga', 'Belgae', 'Belgian', 'Belgic', 'Belgophile', 'Belgrade', 'Belgravia', 'Belgravian', 'Belial', 'Belialic', 'Belialist', 'belibel', 'belick', 'belie', 'belief', 'beliefful', 'belieffulness', 'beliefless', 'belier', 'believability', 'believable', 'believableness', 'believe', 'believer', 'believing', 'believingly', 'belight', 'beliked', 'Belili', 'belimousined', 'Belinda', 'Belinuridae', 'Belinurus', 'belion', 'beliquor', 'Belis', 'belite', 'belitter', 'belittle', 'belittlement', 'belittler', 'belive', 'bell', 'Bella', 'Bellabella', 'Bellacoola', 'belladonna', 'bellarmine', 'Bellatrix', 'bellbind', 'bellbird', 'bellbottle', 'bellboy', 'belle', 'belled', 'belledom', 'Belleek', 'bellehood', 'belleric', 'Bellerophon', 'Bellerophontidae', 'belletrist', 'belletristic', 'bellflower', 'bellhanger', 'bellhanging', 'bellhop', 'bellhouse', 'bellicism', 'bellicose', 'bellicosely', 'bellicoseness', 'bellicosity', 'bellied', 'belliferous', 'belligerence', 'belligerency', 'belligerent', 'belligerently', 'belling', 'bellipotent', 'Bellis', 'bellite', 'bellmaker', 'bellmaking', 'bellman', 'bellmanship', 'bellmaster', 'bellmouth', 'bellmouthed', 'Bellona', 'Bellonian', 'bellonion', 'bellote', 'Bellovaci', 'bellow', 'bellower', 'bellows', 'bellowsful', 'bellowslike', 'bellowsmaker', 'bellowsmaking', 'bellowsman', 'bellpull', 'belltail', 'belltopper', 'belltopperdom', 'bellware', 'bellwaver', 'bellweed', 'bellwether', 'bellwind', 'bellwine', 'bellwood', 'bellwort', 'belly', 'bellyache', 'bellyband', 'bellyer', 'bellyfish', 'bellyflaught', 'bellyful', 'bellying', 'bellyland', 'bellylike', 'bellyman', 'bellypiece', 'bellypinch', 'beloam', 'beloeilite', 'beloid', 'belomancy', 'Belone', 'belonesite', 'belong', 'belonger', 'belonging', 'belonid', 'Belonidae', 'belonite', 'belonoid', 'belonosphaerite', 'belord', 'Belostoma', 'Belostomatidae', 'Belostomidae', 'belout', 'belove', 'beloved', 'below', 'belowstairs', 'belozenged', 'Belshazzar', 'Belshazzaresque', 'belsire', 'belt', 'Beltane', 'belted', 'Beltene', 'belter', 'Beltian', 'beltie', 'beltine', 'belting', 'Beltir', 'Beltis', 'beltmaker', 'beltmaking', 'beltman', 'belton', 'beltwise', 'Beluchi', 'Belucki', 'beluga', 'belugite', 'belute', 'belve', 'belvedere', 'Belverdian', 'bely', 'belying', 'belyingly', 'belzebuth', 'bema', 'bemad', 'bemadam', 'bemaddening', 'bemail', 'bemaim', 'bemajesty', 'beman', 'bemangle', 'bemantle', 'bemar', 'bemartyr', 'bemask', 'bemaster', 'bemat', 'bemata', 'bemaul', 'bemazed', 'Bemba', 'Bembecidae', 'Bembex', 'bemeal', 'bemean', 'bemedaled', 'bemedalled', 'bementite', 'bemercy', 'bemingle', 'beminstrel', 'bemire', 'bemirement', 'bemirror', 'bemirrorment', 'bemist', 'bemistress', 'bemitered', 'bemitred', 'bemix', 'bemoan', 'bemoanable', 'bemoaner', 'bemoaning', 'bemoaningly', 'bemoat', 'bemock', 'bemoil', 'bemoisten', 'bemole', 'bemolt', 'bemonster', 'bemoon', 'bemotto', 'bemoult', 'bemouth', 'bemuck', 'bemud', 'bemuddle', 'bemuddlement', 'bemuddy', 'bemuffle', 'bemurmur', 'bemuse', 'bemused', 'bemusedly', 'bemusement', 'bemusk', 'bemuslined', 'bemuzzle', 'Ben', 'ben', 'bena', 'benab', 'Benacus', 'bename', 'benami', 'benamidar', 'benasty', 'benben', 'bench', 'benchboard', 'bencher', 'benchership', 'benchfellow', 'benchful', 'benching', 'benchland', 'benchlet', 'benchman', 'benchwork', 'benchy', 'bencite', 'bend', 'benda', 'bendability', 'bendable', 'bended', 'bender', 'bending', 'bendingly', 'bendlet', 'bendsome', 'bendwise', 'bendy', 'bene', 'beneaped', 'beneath', 'beneception', 'beneceptive', 'beneceptor', 'benedicite', 'Benedict', 'benedict', 'Benedicta', 'Benedictine', 'Benedictinism', 'benediction', 'benedictional', 'benedictionary', 'benedictive', 'benedictively', 'benedictory', 'Benedictus', 'benedight', 'benefaction', 'benefactive', 'benefactor', 'benefactorship', 'benefactory', 'benefactress', 'benefic', 'benefice', 'beneficed', 'beneficeless', 'beneficence', 'beneficent', 'beneficential', 'beneficently', 'beneficial', 'beneficially', 'beneficialness', 'beneficiary', 'beneficiaryship', 'beneficiate', 'beneficiation', 'benefit', 'benefiter', 'beneighbored', 'Benelux', 'benempt', 'benempted', 'beneplacito', 'benet', 'Benetnasch', 'benettle', 'Beneventan', 'Beneventana', 'benevolence', 'benevolent', 'benevolently', 'benevolentness', 'benevolist', 'beng', 'Bengal', 'Bengalese', 'Bengali', 'Bengalic', 'bengaline', 'Bengola', 'Beni', 'beni', 'benight', 'benighted', 'benightedness', 'benighten', 'benighter', 'benightmare', 'benightment', 'benign', 'benignancy', 'benignant', 'benignantly', 'benignity', 'benignly', 'Benin', 'Benincasa', 'benison', 'benitoite', 'benj', 'Benjamin', 'benjamin', 'benjaminite', 'Benjamite', 'Benjy', 'benjy', 'Benkulen', 'benmost', 'benn', 'benne', 'bennel', 'Bennet', 'bennet', 'Bennettitaceae', 'bennettitaceous', 'Bennettitales', 'Bennettites', 'bennetweed', 'Benny', 'benny', 'beno', 'benorth', 'benote', 'bensel', 'bensh', 'benshea', 'benshee', 'benshi', 'Benson', 'bent', 'bentang', 'benthal', 'Benthamic', 'Benthamism', 'Benthamite', 'benthic', 'benthon', 'benthonic', 'benthos', 'Bentincks', 'bentiness', 'benting', 'Benton', 'bentonite', 'bentstar', 'bentwood', 'benty', 'Benu', 'benumb', 'benumbed', 'benumbedness', 'benumbing', 'benumbingly', 'benumbment', 'benward', 'benweed', 'benzacridine', 'benzal', 'benzalacetone', 'benzalacetophenone', 'benzalaniline', 'benzalazine', 'benzalcohol', 'benzalcyanhydrin', 'benzaldehyde', 'benzaldiphenyl', 'benzaldoxime', 'benzalethylamine', 'benzalhydrazine', 'benzalphenylhydrazone', 'benzalphthalide', 'benzamide', 'benzamido', 'benzamine', 'benzaminic', 'benzamino', 'benzanalgen', 'benzanilide', 'benzanthrone', 'benzantialdoxime', 'benzazide', 'benzazimide', 'benzazine', 'benzazole', 'benzbitriazole', 'benzdiazine', 'benzdifuran', 'benzdioxazine', 'benzdioxdiazine', 'benzdioxtriazine', 'Benzedrine', 'benzein', 'benzene', 'benzenediazonium', 'benzenoid', 'benzenyl', 'benzhydrol', 'benzhydroxamic', 'benzidine', 'benzidino', 'benzil', 'benzilic', 'benzimidazole', 'benziminazole', 'benzinduline', 'benzine', 'benzo', 'benzoate', 'benzoated', 'benzoazurine', 'benzobis', 'benzocaine', 'benzocoumaran', 'benzodiazine', 'benzodiazole', 'benzoflavine', 'benzofluorene', 'benzofulvene', 'benzofuran', 'benzofuroquinoxaline', 'benzofuryl', 'benzoglycolic', 'benzoglyoxaline', 'benzohydrol', 'benzoic', 'benzoid', 'benzoin', 'benzoinated', 'benzoiodohydrin', 'benzol', 'benzolate', 'benzole', 'benzolize', 'benzomorpholine', 'benzonaphthol', 'benzonitrile', 'benzonitrol', 'benzoperoxide', 'benzophenanthrazine', 'benzophenanthroline', 'benzophenazine', 'benzophenol', 'benzophenone', 'benzophenothiazine', 'benzophenoxazine', 'benzophloroglucinol', 'benzophosphinic', 'benzophthalazine', 'benzopinacone', 'benzopyran', 'benzopyranyl', 'benzopyrazolone', 'benzopyrylium', 'benzoquinoline', 'benzoquinone', 'benzoquinoxaline', 'benzosulphimide', 'benzotetrazine', 'benzotetrazole', 'benzothiazine', 'benzothiazole', 'benzothiazoline', 'benzothiodiazole', 'benzothiofuran', 'benzothiophene', 'benzothiopyran', 'benzotoluide', 'benzotriazine', 'benzotriazole', 'benzotrichloride', 'benzotrifuran', 'benzoxate', 'benzoxy', 'benzoxyacetic', 'benzoxycamphor', 'benzoxyphenanthrene', 'benzoyl', 'benzoylate', 'benzoylation', 'benzoylformic', 'benzoylglycine', 'benzpinacone', 'benzthiophen', 'benztrioxazine', 'benzyl', 'benzylamine', 'benzylic', 'benzylidene', 'benzylpenicillin', 'beode', 'Beothuk', 'Beothukan', 'Beowulf', 'bepaid', 'Bepaint', 'bepale', 'bepaper', 'beparch', 'beparody', 'beparse', 'bepart', 'bepaste', 'bepastured', 'bepat', 'bepatched', 'bepaw', 'bepearl', 'bepelt', 'bepen', 'bepepper', 'beperiwigged', 'bepester', 'bepewed', 'bephilter', 'bephrase', 'bepicture', 'bepiece', 'bepierce', 'bepile', 'bepill', 'bepillared', 'bepimple', 'bepinch', 'bepistoled', 'bepity', 'beplague', 'beplaided', 'beplaster', 'beplumed', 'bepommel', 'bepowder', 'bepraise', 'bepraisement', 'bepraiser', 'beprank', 'bepray', 'bepreach', 'bepress', 'bepretty', 'bepride', 'beprose', 'bepuddle', 'bepuff', 'bepun', 'bepurple', 'bepuzzle', 'bepuzzlement', 'bequalm', 'bequeath', 'bequeathable', 'bequeathal', 'bequeather', 'bequeathment', 'bequest', 'bequirtle', 'bequote', 'ber', 'berain', 'berairou', 'berakah', 'berake', 'berakoth', 'berapt', 'berascal', 'berat', 'berate', 'berattle', 'beraunite', 'beray', 'berbamine', 'Berber', 'Berberi', 'Berberian', 'berberid', 'Berberidaceae', 'berberidaceous', 'berberine', 'Berberis', 'berberry', 'Berchemia', 'Berchta', 'berdache', 'bere', 'Berean', 'bereason', 'bereave', 'bereavement', 'bereaven', 'bereaver', 'bereft', 'berend', 'Berengaria', 'Berengarian', 'Berengarianism', 'berengelite', 'Berenice', 'Bereshith', 'beresite', 'beret', 'berewick', 'berg', 'bergalith', 'Bergama', 'Bergamask', 'bergamiol', 'Bergamo', 'Bergamot', 'bergamot', 'bergander', 'bergaptene', 'berger', 'berghaan', 'berginization', 'berginize', 'berglet', 'bergschrund', 'Bergsonian', 'Bergsonism', 'bergut', 'bergy', 'bergylt', 'berhyme', 'Beri', 'beribanded', 'beribboned', 'beriberi', 'beriberic', 'beride', 'berigora', 'beringed', 'beringite', 'beringleted', 'berinse', 'berith', 'Berkeleian', 'Berkeleianism', 'Berkeleyism', 'Berkeleyite', 'berkelium', 'berkovets', 'berkowitz', 'Berkshire', 'berley', 'berlin', 'berline', 'Berliner', 'berlinite', 'Berlinize', 'berm', 'Bermuda', 'Bermudian', 'bermudite', 'Bern', 'Bernard', 'Bernardina', 'Bernardine', 'berne', 'Bernese', 'Bernice', 'Bernicia', 'bernicle', 'Bernie', 'Berninesque', 'Bernoullian', 'berobed', 'Beroe', 'Beroida', 'Beroidae', 'beroll', 'Berossos', 'berouged', 'beround', 'berrendo', 'berret', 'berri', 'berried', 'berrier', 'berrigan', 'berrugate', 'berry', 'berrybush', 'berryless', 'berrylike', 'berrypicker', 'berrypicking', 'berseem', 'berserk', 'berserker', 'Bersiamite', 'Bersil', 'Bert', 'Bertat', 'Berteroa', 'berth', 'Bertha', 'berthage', 'berthed', 'berther', 'berthierite', 'berthing', 'Berthold', 'Bertholletia', 'Bertie', 'Bertolonia', 'Bertram', 'bertram', 'Bertrand', 'bertrandite', 'bertrum', 'beruffed', 'beruffled', 'berust', 'bervie', 'berycid', 'Berycidae', 'beryciform', 'berycine', 'berycoid', 'Berycoidea', 'berycoidean', 'Berycoidei', 'Berycomorphi', 'beryl', 'berylate', 'beryllia', 'berylline', 'berylliosis', 'beryllium', 'berylloid', 'beryllonate', 'beryllonite', 'beryllosis', 'Berytidae', 'Beryx', 'berzelianite', 'berzeliite', 'bes', 'besa', 'besagne', 'besaiel', 'besaint', 'besan', 'besanctify', 'besauce', 'bescab', 'bescarf', 'bescatter', 'bescent', 'bescorch', 'bescorn', 'bescoundrel', 'bescour', 'bescourge', 'bescramble', 'bescrape', 'bescratch', 'bescrawl', 'bescreen', 'bescribble', 'bescurf', 'bescurvy', 'bescutcheon', 'beseam', 'besee', 'beseech', 'beseecher', 'beseeching', 'beseechingly', 'beseechingness', 'beseechment', 'beseem', 'beseeming', 'beseemingly', 'beseemingness', 'beseemliness', 'beseemly', 'beseen', 'beset', 'besetment', 'besetter', 'besetting', 'beshackle', 'beshade', 'beshadow', 'beshag', 'beshake', 'beshame', 'beshawled', 'beshear', 'beshell', 'beshield', 'beshine', 'beshiver', 'beshlik', 'beshod', 'beshout', 'beshow', 'beshower', 'beshrew', 'beshriek', 'beshrivel', 'beshroud', 'besiclometer', 'beside', 'besides', 'besiege', 'besieged', 'besiegement', 'besieger', 'besieging', 'besiegingly', 'besigh', 'besilver', 'besin', 'besing', 'besiren', 'besit', 'beslab', 'beslap', 'beslash', 'beslave', 'beslaver', 'besleeve', 'beslime', 'beslimer', 'beslings', 'beslipper', 'beslobber', 'beslow', 'beslubber', 'beslur', 'beslushed', 'besmear', 'besmearer', 'besmell', 'besmile', 'besmirch', 'besmircher', 'besmirchment', 'besmoke', 'besmooth', 'besmother', 'besmouch', 'besmudge', 'besmut', 'besmutch', 'besnare', 'besneer', 'besnivel', 'besnow', 'besnuff', 'besodden', 'besogne', 'besognier', 'besoil', 'besom', 'besomer', 'besonnet', 'besoot', 'besoothe', 'besoothement', 'besot', 'besotment', 'besotted', 'besottedly', 'besottedness', 'besotting', 'besottingly', 'besought', 'besoul', 'besour', 'bespangle', 'bespate', 'bespatter', 'bespatterer', 'bespatterment', 'bespawl', 'bespeak', 'bespeakable', 'bespeaker', 'bespecked', 'bespeckle', 'bespecklement', 'bespectacled', 'besped', 'bespeech', 'bespeed', 'bespell', 'bespelled', 'bespend', 'bespete', 'bespew', 'bespice', 'bespill', 'bespin', 'bespirit', 'bespit', 'besplash', 'besplatter', 'besplit', 'bespoke', 'bespoken', 'bespot', 'bespottedness', 'bespouse', 'bespout', 'bespray', 'bespread', 'besprent', 'besprinkle', 'besprinkler', 'bespurred', 'besputter', 'bespy', 'besqueeze', 'besquib', 'besra', 'Bess', 'Bessarabian', 'Besselian', 'Bessemer', 'bessemer', 'Bessemerize', 'bessemerize', 'Bessera', 'Bessi', 'Bessie', 'Bessy', 'best', 'bestab', 'bestain', 'bestamp', 'bestar', 'bestare', 'bestarve', 'bestatued', 'bestay', 'bestayed', 'bestead', 'besteer', 'bestench', 'bester', 'bestial', 'bestialism', 'bestialist', 'bestiality', 'bestialize', 'bestially', 'bestiarian', 'bestiarianism', 'bestiary', 'bestick', 'bestill', 'bestink', 'bestir', 'bestness', 'bestock', 'bestore', 'bestorm', 'bestove', 'bestow', 'bestowable', 'bestowage', 'bestowal', 'bestower', 'bestowing', 'bestowment', 'bestraddle', 'bestrapped', 'bestraught', 'bestraw', 'bestreak', 'bestream', 'bestrew', 'bestrewment', 'bestride', 'bestripe', 'bestrode', 'bestubbled', 'bestuck', 'bestud', 'besugar', 'besuit', 'besully', 'beswarm', 'besweatered', 'besweeten', 'beswelter', 'beswim', 'beswinge', 'beswitch', 'bet', 'Beta', 'beta', 'betacism', 'betacismus', 'betafite']\n"
     ]
    }
   ],
   "source": [
    "print(words.words()[20000:21500])"
   ]
  },
  {
   "cell_type": "code",
   "execution_count": 3,
   "metadata": {},
   "outputs": [
    {
     "name": "stderr",
     "output_type": "stream",
     "text": [
      "[nltk_data] Downloading package words to C:\\Users\\Ashish\n",
      "[nltk_data]     Ranjan\\AppData\\Roaming\\nltk_data...\n",
      "[nltk_data]   Unzipping corpora\\words.zip.\n"
     ]
    },
    {
     "data": {
      "text/plain": [
       "True"
      ]
     },
     "execution_count": 3,
     "metadata": {},
     "output_type": "execute_result"
    }
   ],
   "source": [
    "import nltk\n",
    "nltk.download('words')"
   ]
  },
  {
   "cell_type": "code",
   "execution_count": 18,
   "metadata": {},
   "outputs": [
    {
     "data": {
      "text/plain": [
       "False"
      ]
     },
     "execution_count": 18,
     "metadata": {},
     "output_type": "execute_result"
    }
   ],
   "source": [
    "'' in words.words()"
   ]
  },
  {
   "cell_type": "code",
   "execution_count": 23,
   "metadata": {},
   "outputs": [
    {
     "name": "stdout",
     "output_type": "stream",
     "text": [
      "@switchfoot http://twitpic.com/2y1zl - Awww, that's a bummer.  You shoulda got David Carr of Third Day to do it. ;D\n"
     ]
    }
   ],
   "source": [
    "from nltk.tokenize import TweetTokenizer\n",
    "print(tweet)"
   ]
  },
  {
   "cell_type": "code",
   "execution_count": 24,
   "metadata": {},
   "outputs": [
    {
     "data": {
      "text/plain": [
       "['@switchfoot',\n",
       " 'http://twitpic.com/2y1zl',\n",
       " '-',\n",
       " 'Awww',\n",
       " ',',\n",
       " \"that's\",\n",
       " 'a',\n",
       " 'bummer',\n",
       " '.',\n",
       " 'You',\n",
       " 'shoulda',\n",
       " 'got',\n",
       " 'David',\n",
       " 'Carr',\n",
       " 'of',\n",
       " 'Third',\n",
       " 'Day',\n",
       " 'to',\n",
       " 'do',\n",
       " 'it',\n",
       " '.',\n",
       " ';D']"
      ]
     },
     "execution_count": 24,
     "metadata": {},
     "output_type": "execute_result"
    }
   ],
   "source": [
    "TweetTokenizer().tokenize(tweet)"
   ]
  },
  {
   "cell_type": "code",
   "execution_count": 52,
   "metadata": {},
   "outputs": [],
   "source": [
    "    "
   ]
  },
  {
   "cell_type": "code",
   "execution_count": 53,
   "metadata": {},
   "outputs": [
    {
     "name": "stdout",
     "output_type": "stream",
     "text": [
      "['@switchfoot', 'http://twitpic.com/2y1zl', '-', 'Awww', ',', \"that's\", 'a', 'bummer', '.', 'You', 'shoulda', 'got', 'David', 'Carr', 'of', 'Third', 'Day', 'to', 'do', 'it', '.', ';D']\n",
      "a\n",
      "bummer\n",
      "You\n",
      "got\n",
      "David\n",
      "Carr\n",
      "of\n",
      "Third\n",
      "Day\n",
      "to\n",
      "do\n",
      "it\n"
     ]
    },
    {
     "data": {
      "text/plain": [
       "0.5454545454545454"
      ]
     },
     "execution_count": 53,
     "metadata": {},
     "output_type": "execute_result"
    }
   ],
   "source": [
    "freq_dict_word(TweetTokenizer().tokenize(tweet))"
   ]
  },
  {
   "cell_type": "code",
   "execution_count": 49,
   "metadata": {},
   "outputs": [
    {
     "data": {
      "text/plain": [
       "False"
      ]
     },
     "execution_count": 49,
     "metadata": {},
     "output_type": "execute_result"
    }
   ],
   "source": [
    "def get_sentence(tweet):\n",
    "    "
   ]
  },
  {
   "cell_type": "code",
   "execution_count": null,
   "metadata": {},
   "outputs": [],
   "source": []
  }
 ],
 "metadata": {
  "kernelspec": {
   "display_name": "Python 3",
   "language": "python",
   "name": "python3"
  },
  "language_info": {
   "codemirror_mode": {
    "name": "ipython",
    "version": 3
   },
   "file_extension": ".py",
   "mimetype": "text/x-python",
   "name": "python",
   "nbconvert_exporter": "python",
   "pygments_lexer": "ipython3",
   "version": "3.6.7"
  }
 },
 "nbformat": 4,
 "nbformat_minor": 2
}
