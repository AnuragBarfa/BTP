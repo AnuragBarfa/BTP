{
 "cells": [
  {
   "cell_type": "code",
   "execution_count": null,
   "metadata": {},
   "outputs": [],
   "source": [
    "import re, math\n",
    "from collections import Counter\n",
    "\n",
    "WORD = re.compile(r'\\w+')\n",
    "\n",
    "def get_cosine(vec1, vec2):\n",
    "     intersection = set(vec1.keys()) & set(vec2.keys())\n",
    "     numerator = sum([vec1[x] * vec2[x] for x in intersection])\n",
    "\n",
    "     sum1 = sum([vec1[x]**2 for x in vec1.keys()])\n",
    "     sum2 = sum([vec2[x]**2 for x in vec2.keys()])\n",
    "     denominator = math.sqrt(sum1) * math.sqrt(sum2)\n",
    "\n",
    "     if not denominator:\n",
    "        return 0.0\n",
    "     else:\n",
    "        return float(numerator) / denominator\n",
    "\n",
    "def text_to_vector(text):\n",
    "     words = WORD.findall(text)\n",
    "     return Counter(words)\n",
    "\n",
    "text1 = 'This is a foo bar sentence .'\n",
    "text2 = 'This sentence is similar to a foo bar sentence .'\n",
    "\n",
    "vector1 = text_to_vector(text1)\n",
    "vector2 = text_to_vector(text2)\n",
    "\n",
    "cosine = get_cosine(vector1, vector2)\n",
    "\n",
    "print('Cosine:', cosine)"
   ]
  },
  {
   "cell_type": "code",
   "execution_count": null,
   "metadata": {},
   "outputs": [],
   "source": [
    "pip install tweepy"
   ]
  },
  {
   "cell_type": "code",
   "execution_count": null,
   "metadata": {},
   "outputs": [],
   "source": [
    "import os\n",
    "import pandas as pd\n",
    "import tweepy as tw\n"
   ]
  },
  {
   "cell_type": "code",
   "execution_count": null,
   "metadata": {},
   "outputs": [],
   "source": [
    "pip install python-twitter --user"
   ]
  },
  {
   "cell_type": "code",
   "execution_count": null,
   "metadata": {},
   "outputs": [],
   "source": [
    "import twitter"
   ]
  },
  {
   "cell_type": "code",
   "execution_count": null,
   "metadata": {},
   "outputs": [],
   "source": [
    "api = twitter.Api(consumer_key='5QUCmsZc97JKVhSW7UqB4PmGO',\n",
    "                      consumer_secret='Szv1qILgFywnl1IbLakJDIqbt44unJOXWEWY7iZ2ksw6WZvDjx',\n",
    "                      access_token_key='1159073576495923200-s1eAfxDF86zf9J7brJoe2CEFwU0UW0',\n",
    "                      access_token_secret='sxA356gk2uPJFU5iIyoB2yKLUrAbnvZpSGV9cRtqzEWb7')"
   ]
  },
  {
   "cell_type": "code",
   "execution_count": null,
   "metadata": {
    "scrolled": true
   },
   "outputs": [],
   "source": [
    "users = api.GetFriends()\n",
    "print([u.name for u in users])\n",
    "timel=api.GetHomeTimeline()\n",
    "tie2=api.GetUserTimeline(screen_name=\"MMitanshu\")\n",
    "for ti in tie2:\n",
    "    print(ti)"
   ]
  },
  {
   "cell_type": "code",
   "execution_count": null,
   "metadata": {},
   "outputs": [],
   "source": [
    "results = api.GetSearch(\n",
    "    raw_query=\"q=twitter%20&result_type=recent&since=2014-07-19&count=100\")\n",
    "for res in results:\n",
    "    print(res)"
   ]
  },
  {
   "cell_type": "code",
   "execution_count": null,
   "metadata": {},
   "outputs": [],
   "source": [
    "results = api.GetSearch(raw_query=\"q=shiny pants&result_type=recent&since=2014-07-19\",result_type='mixed')\n",
    "for res in results:\n",
    "    print(res)"
   ]
  },
  {
   "cell_type": "code",
   "execution_count": null,
   "metadata": {
    "scrolled": true
   },
   "outputs": [],
   "source": [
    "pip install beautifulsoup4"
   ]
  },
  {
   "cell_type": "code",
   "execution_count": null,
   "metadata": {},
   "outputs": [],
   "source": [
    "from requests import get\n",
    "url = 'https://twitter.com/search?q=shiny%20pants&src=typed_query'\n",
    "response = get(url)\n",
    "print(response.text)\n",
    "from bs4 import BeautifulSoup\n",
    "html_soup = BeautifulSoup(response.text, 'html.parser')"
   ]
  },
  {
   "cell_type": "code",
   "execution_count": null,
   "metadata": {
    "scrolled": true
   },
   "outputs": [],
   "source": [
    "movie_containers = html_soup.find_all('div')\n",
    "print(type(movie_containers))\n",
    "print(len(movie_containers))\n",
    "for m in movie_containers:\n",
    "    print(m)"
   ]
  },
  {
   "cell_type": "code",
   "execution_count": null,
   "metadata": {},
   "outputs": [],
   "source": [
    "pip install -U selenium --user"
   ]
  },
  {
   "cell_type": "code",
   "execution_count": null,
   "metadata": {},
   "outputs": [],
   "source": [
    "#tweet_mode used to get full text inplace of truncated\n",
    "results = api.GetSearch(\n",
    "    raw_query=\"q=holi%20&tweet_mode=extended\",include_entities=True,result_type='recent')\n",
    "for res in results:\n",
    "    print(res)"
   ]
  },
  {
   "cell_type": "code",
   "execution_count": 2,
   "metadata": {},
   "outputs": [
    {
     "name": "stdout",
     "output_type": "stream",
     "text": [
      "9\n",
      "8\n",
      "7\n",
      "6\n",
      "5\n"
     ]
    }
   ],
   "source": [
    "from selenium import webdriver\n",
    "from selenium.webdriver.common.keys import Keys\n",
    "#from selenium.common.exceptions import TimeOutException, NoSuchElementException\n",
    "from selenium.webdriver.chrome.options import Options\n",
    "from selenium.webdriver.common.by import By\n",
    "from bs4 import BeautifulSoup\n",
    "\n",
    "import time\n",
    "from selenium.webdriver.support.ui import WebDriverWait\n",
    "from selenium.webdriver.support import expected_conditions as EC\n",
    "import csv\n",
    "import json\n",
    "import logging\n",
    "\n",
    "# path where the selenium driver is copied.\n",
    "#for lab pc ashish\n",
    "#driver_path = '/home/ashishranjan/chromedriver'\n",
    "#for home pc ashish\n",
    "# driver_path = '/home/ashish/Downloads/chromedriver'\n",
    "#for lab pc anurag\n",
    "driver_path = '/home/anurag.barfa/mywork/btp/chromedriver'\n",
    "#for home pc anurag\n",
    "# driver_path = '/home/anurag/Work/btp/BTP/chromedriver'\n",
    "# This will open a new chrome session.\n",
    "\n",
    "chrome_options = webdriver.ChromeOptions()\n",
    "chrome_options.add_argument(\"--disable-notifications\")\n",
    "# https://stackoverflow.com/questions/53902507/unknown-error-session-deleted-because-of-page-crash-from-unknown-error-cannot\n",
    "chrome_options.add_argument('--no-sandbox') \n",
    "chrome_options.add_argument('--disable-dev-shm-usage')\n",
    "driver = webdriver.Chrome(executable_path = driver_path,options=chrome_options)\n",
    "#driver.get(\"https://twitter.com/search?q=delhi%20election&src=typed_query\")\n",
    "query=\"test\"\n",
    "# driver.get(\"https://twitter.com/search?q=\"+query+\"&src=typed_query\")\n",
    "driver.get(\"https://twitter.com/gautamkaulgud\")\n",
    "SCROLL_PAUSE_TIME = 9\n",
    "\n",
    "# Get scroll height\n",
    "last_height = driver.execute_script(\"return document.body.scrollHeight\")\n",
    "scroll_count=10 #number of times you want to scroll the page\n",
    "tweet_boxes=[]\n",
    "while True:\n",
    "    # Scroll down to bottom\n",
    "    driver.execute_script(\"window.scrollTo(0, document.body.scrollHeight);\")\n",
    "\n",
    "    # Wait to load page\n",
    "    time.sleep(SCROLL_PAUSE_TIME)\n",
    "\n",
    "    # Calculate new scroll height and compare with last scroll height\n",
    "    new_height = driver.execute_script(\"return document.body.scrollHeight\")\n",
    "    if new_height == last_height:\n",
    "        break\n",
    "    last_height = new_height\n",
    "    tutorial_soup = BeautifulSoup(driver.page_source, 'html.parser')\n",
    "    tutorial_code_soup = tutorial_soup.find_all('div',attrs={'class':'css-1dbjc4n r-18u37iz r-thb0q2'})\n",
    "    tweet = tutorial_soup.find_all('div',{'class':'css-1dbjc4n r-1iusvr4 r-16y2uox r-1777fci r-5f2r5o r-1mi0q7o'})\n",
    "    tweet_boxes=tweet_boxes+tweet\n",
    "    scroll_count=scroll_count-1\n",
    "    print(scroll_count)\n",
    "    if scroll_count==0:\n",
    "        break\n",
    "            \n",
    "#tutorial_soup = BeautifulSoup(driver.page_source, 'html.parser')\n",
    "# tutorial_code_soup1 = tutorial_soup.find_all('div',attrs={'class':'css-1dbjc4n r-18u37iz r-thb0q2'})\n",
    "# for tweet in tutorial_code_soup1:\n",
    "#     print(tweet)\n",
    "# # tutorial_code_soup2 = tutorial_soup.find_all('ol',attrs={'id':'stream-items-id'})\n",
    "# tutorial_code_soup2 = tutorial_soup.find_all('li',attrs={'class':'js-stream-item stream-item stream-item'})\n",
    "# for tweet in tutorial_code_soup2:\n",
    "#     print(tweet)"
   ]
  },
  {
   "cell_type": "code",
   "execution_count": 3,
   "metadata": {},
   "outputs": [
    {
     "data": {
      "text/plain": [
       "43"
      ]
     },
     "execution_count": 3,
     "metadata": {},
     "output_type": "execute_result"
    }
   ],
   "source": [
    "tweetstemp=[]\n",
    " \n",
    "for i in tweet_boxes:\n",
    "    # Add to the new list\n",
    "    # only if not present\n",
    "    if i not in tweetstemp:\n",
    "        tweetstemp.append(i)\n",
    "tweet_boxes = tweetstemp\n",
    "len(tweet_boxes)"
   ]
  },
  {
   "cell_type": "code",
   "execution_count": null,
   "metadata": {},
   "outputs": [],
   "source": [
    "def cleanText(text):\n",
    "    "
   ]
  },
  {
   "cell_type": "code",
   "execution_count": 4,
   "metadata": {
    "scrolled": true
   },
   "outputs": [],
   "source": [
    "import re, math\n",
    "from collections import Counter\n",
    "\n",
    "WORD = re.compile(r'\\w+')\n",
    "\n",
    "def text_to_vector(text):\n",
    "     words = WORD.findall(text)\n",
    "     return Counter(words)\n",
    "\n",
    "def cosine(tweet,query):\n",
    "    vec1 = text_to_vector(tweet.lower())\n",
    "    vec2 = text_to_vector(query.lower())\n",
    "    intersection = set(vec1.keys()) & set(vec2.keys())\n",
    "#     print(intersection)\n",
    "    numerator = sum([vec1[x] * vec2[x] for x in intersection])\n",
    "    sum1 = sum([vec1[x]**2 for x in vec1.keys()])\n",
    "    sum2 = sum([vec2[x]**2 for x in vec2.keys()])\n",
    "    denominator = math.sqrt(sum1) * math.sqrt(sum2)\n",
    "    if not denominator:\n",
    "        return 0.0\n",
    "    else:\n",
    "        return float(numerator) / denominator\n",
    "\n",
    "def jaccard(tweet,query):\n",
    "    vec1 = text_to_vector(tweet.lower())\n",
    "    vec2 = text_to_vector(query.lower())\n",
    "    intersection = set(vec1.keys()) & set(vec2.keys())\n",
    "    union =set(vec1.keys()) | set(vec2.keys())"
   ]
  },
  {
   "cell_type": "code",
   "execution_count": 5,
   "metadata": {},
   "outputs": [],
   "source": [
    "def gettweet(box,query):\n",
    "    tweet=box.findChildren('div',recursive=False)[1].text\n",
    "    user=box.findChildren('div',recursive=False)[0].findChildren('div',recursive=False)[0].findChildren('div',recursive=False)[0].findChildren(recursive=False)[0].text\n",
    "    date=box.findChildren('div',recursive=False)[0].findChildren('div',recursive=False)[0].findChildren('div',recursive=False)[0].findChildren(recursive=False)[2].attrs['title']\n",
    "    likes = comments = retweet = 'None'\n",
    "    span = box.find_all('div',{'class':'css-901oao r-1awozwy r-1re7ezh r-6koalj r-1qd0xha r-a023e6 r-16dba41 r-1h0z5md r-ad9z0x r-bcqeeo r-o7ynqc r-clp7b1 r-3s2u2q r-qvutc0'})\n",
    "    likes = span[3].text\n",
    "    retweet = span[2].text\n",
    "    comments = span[1].text\n",
    "    tags=[]\n",
    "    mentions=[]\n",
    "    urls=0\n",
    "    for anchor in box.find_all('a'):\n",
    "        #print(anchor.text+\"######\")\n",
    "        if 'href' in anchor.attrs:\n",
    "            if anchor.attrs['href'].split('/')[1]=='hashtag':\n",
    "                tags.append(anchor.text)\n",
    "            if anchor.attrs['href'].split(':')[0]=='https':\n",
    "                urls=urls+1\n",
    "        if len(anchor.text)>0 and anchor.text[0]=='@':\n",
    "#             mentions.append(anchor.text)\n",
    "            if not ('aria-haspopup' in anchor.attrs and anchor.attrs['aria-haspopup']==\"false\"):\n",
    "                mentions.append(anchor.text)\n",
    "        \n",
    "    #print(tags)\n",
    "    #print(mentions)\n",
    "    cosine_similarity=cosine(tweet,query)*100\n",
    "    multimedia_flag=0\n",
    "    s = str(box.find('img'))\n",
    "    if ((box.find('img') and s.find('format')!=-1 )  or box.find('video')):\n",
    "        multimedia_flag=1  \n",
    "    return tweet,likes,comments,retweet,user,date,tags,mentions,multimedia_flag,urls,cosine_similarity"
   ]
  },
  {
   "cell_type": "code",
   "execution_count": 6,
   "metadata": {},
   "outputs": [],
   "source": [
    "import csv\n",
    "with open('data/sample_'+query+'.csv', mode='w') as sample:\n",
    "    count=0\n",
    "    sample_writer = csv.writer(sample, delimiter=',')\n",
    "    sample_writer.writerow(['Query','Date','user','Tweet','Img_present','Likes','commnets','retweet','tags','mentions','url_count','length','cosine_similarity(%)'])\n",
    "    for boxes in tweet_boxes:\n",
    "        try:\n",
    "            tweet,likes,comments,retweet,user,date,tags,mentions,multimedia_flag,urls,cosine_similarity = gettweet(boxes,query)\n",
    "            sample_writer.writerow([query,date, user, tweet, multimedia_flag,likes,comments,retweet,\",\".join(tags),\",\".join(mentions),urls,len(tweet),cosine_similarity])\n",
    "        except:\n",
    "            pass"
   ]
  },
  {
   "cell_type": "code",
   "execution_count": 40,
   "metadata": {},
   "outputs": [
    {
     "ename": "NameError",
     "evalue": "name 'e' is not defined",
     "output_type": "error",
     "traceback": [
      "\u001b[0;31m---------------------------------------------------------------------------\u001b[0m",
      "\u001b[0;31mIndexError\u001b[0m                                Traceback (most recent call last)",
      "\u001b[0;32m<ipython-input-40-d805b6b4f5b2>\u001b[0m in \u001b[0;36m<module>\u001b[0;34m\u001b[0m\n\u001b[1;32m      3\u001b[0m \u001b[0;31m#     box=tweet_boxes[1426]\u001b[0m\u001b[0;34m\u001b[0m\u001b[0;34m\u001b[0m\u001b[0m\n\u001b[0;32m----> 4\u001b[0;31m     \u001b[0mgettweet\u001b[0m\u001b[0;34m(\u001b[0m\u001b[0mtweet_boxes\u001b[0m\u001b[0;34m[\u001b[0m\u001b[0;36m1426\u001b[0m\u001b[0;34m]\u001b[0m\u001b[0;34m,\u001b[0m\u001b[0mquery\u001b[0m\u001b[0;34m)\u001b[0m\u001b[0;34m\u001b[0m\u001b[0m\n\u001b[0m\u001b[1;32m      5\u001b[0m \u001b[0;32mexcept\u001b[0m\u001b[0;34m:\u001b[0m\u001b[0;34m\u001b[0m\u001b[0m\n",
      "\u001b[0;32m<ipython-input-23-496cf20293ab>\u001b[0m in \u001b[0;36mgettweet\u001b[0;34m(box, query)\u001b[0m\n\u001b[1;32m      1\u001b[0m \u001b[0;32mdef\u001b[0m \u001b[0mgettweet\u001b[0m\u001b[0;34m(\u001b[0m\u001b[0mbox\u001b[0m\u001b[0;34m,\u001b[0m\u001b[0mquery\u001b[0m\u001b[0;34m)\u001b[0m\u001b[0;34m:\u001b[0m\u001b[0;34m\u001b[0m\u001b[0m\n\u001b[0;32m----> 2\u001b[0;31m     \u001b[0mtweet\u001b[0m\u001b[0;34m=\u001b[0m\u001b[0mbox\u001b[0m\u001b[0;34m.\u001b[0m\u001b[0mfindChildren\u001b[0m\u001b[0;34m(\u001b[0m\u001b[0;34m'div'\u001b[0m\u001b[0;34m,\u001b[0m\u001b[0mrecursive\u001b[0m\u001b[0;34m=\u001b[0m\u001b[0;32mFalse\u001b[0m\u001b[0;34m)\u001b[0m\u001b[0;34m[\u001b[0m\u001b[0;36m1\u001b[0m\u001b[0;34m]\u001b[0m\u001b[0;34m.\u001b[0m\u001b[0mtext\u001b[0m\u001b[0;34m\u001b[0m\u001b[0m\n\u001b[0m\u001b[1;32m      3\u001b[0m     \u001b[0muser\u001b[0m\u001b[0;34m=\u001b[0m\u001b[0mbox\u001b[0m\u001b[0;34m.\u001b[0m\u001b[0mfindChildren\u001b[0m\u001b[0;34m(\u001b[0m\u001b[0;34m'div'\u001b[0m\u001b[0;34m,\u001b[0m\u001b[0mrecursive\u001b[0m\u001b[0;34m=\u001b[0m\u001b[0;32mFalse\u001b[0m\u001b[0;34m)\u001b[0m\u001b[0;34m[\u001b[0m\u001b[0;36m0\u001b[0m\u001b[0;34m]\u001b[0m\u001b[0;34m.\u001b[0m\u001b[0mfindChildren\u001b[0m\u001b[0;34m(\u001b[0m\u001b[0;34m'div'\u001b[0m\u001b[0;34m,\u001b[0m\u001b[0mrecursive\u001b[0m\u001b[0;34m=\u001b[0m\u001b[0;32mFalse\u001b[0m\u001b[0;34m)\u001b[0m\u001b[0;34m[\u001b[0m\u001b[0;36m0\u001b[0m\u001b[0;34m]\u001b[0m\u001b[0;34m.\u001b[0m\u001b[0mfindChildren\u001b[0m\u001b[0;34m(\u001b[0m\u001b[0;34m'div'\u001b[0m\u001b[0;34m,\u001b[0m\u001b[0mrecursive\u001b[0m\u001b[0;34m=\u001b[0m\u001b[0;32mFalse\u001b[0m\u001b[0;34m)\u001b[0m\u001b[0;34m[\u001b[0m\u001b[0;36m0\u001b[0m\u001b[0;34m]\u001b[0m\u001b[0;34m.\u001b[0m\u001b[0mfindChildren\u001b[0m\u001b[0;34m(\u001b[0m\u001b[0mrecursive\u001b[0m\u001b[0;34m=\u001b[0m\u001b[0;32mFalse\u001b[0m\u001b[0;34m)\u001b[0m\u001b[0;34m[\u001b[0m\u001b[0;36m0\u001b[0m\u001b[0;34m]\u001b[0m\u001b[0;34m.\u001b[0m\u001b[0mtext\u001b[0m\u001b[0;34m\u001b[0m\u001b[0m\n",
      "\u001b[0;31mIndexError\u001b[0m: list index out of range",
      "\nDuring handling of the above exception, another exception occurred:\n",
      "\u001b[0;31mNameError\u001b[0m                                 Traceback (most recent call last)",
      "\u001b[0;32m<ipython-input-40-d805b6b4f5b2>\u001b[0m in \u001b[0;36m<module>\u001b[0;34m\u001b[0m\n\u001b[1;32m      4\u001b[0m     \u001b[0mgettweet\u001b[0m\u001b[0;34m(\u001b[0m\u001b[0mtweet_boxes\u001b[0m\u001b[0;34m[\u001b[0m\u001b[0;36m1426\u001b[0m\u001b[0;34m]\u001b[0m\u001b[0;34m,\u001b[0m\u001b[0mquery\u001b[0m\u001b[0;34m)\u001b[0m\u001b[0;34m\u001b[0m\u001b[0m\n\u001b[1;32m      5\u001b[0m \u001b[0;32mexcept\u001b[0m\u001b[0;34m:\u001b[0m\u001b[0;34m\u001b[0m\u001b[0m\n\u001b[0;32m----> 6\u001b[0;31m     \u001b[0mprint\u001b[0m\u001b[0;34m(\u001b[0m\u001b[0me\u001b[0m\u001b[0;34m)\u001b[0m\u001b[0;34m\u001b[0m\u001b[0m\n\u001b[0m\u001b[1;32m      7\u001b[0m \u001b[0;31m# print(box.text)\u001b[0m\u001b[0;34m\u001b[0m\u001b[0;34m\u001b[0m\u001b[0m\n\u001b[1;32m      8\u001b[0m \u001b[0;31m# tweet=box.findChildren('div',recursive=False)[1].text\u001b[0m\u001b[0;34m\u001b[0m\u001b[0;34m\u001b[0m\u001b[0m\n",
      "\u001b[0;31mNameError\u001b[0m: name 'e' is not defined"
     ]
    }
   ],
   "source": [
    "# gettweet(tweet_boxes[1426],query)\n",
    "try:\n",
    "#     box=tweet_boxes[1426]\n",
    "    gettweet(tweet_boxes[1426],query)\n",
    "except:\n",
    "    print(e)\n",
    "# print(box.text)\n",
    "# tweet=box.findChildren('div',recursive=False)[1].text\n",
    "# user=box.findChildren('div',recursive=False)[0].findChildren('div',recursive=False)[0].findChildren('div',recursive=False)[0].findChildren(recursive=False)[0].text\n",
    "# date=box.findChildren('div',recursive=False)[0].findChildren('div',recursive=False)[0].findChildren('div',recursive=False)[0].findChildren(recursive=False)[2].attrs['title']\n",
    "# likes = comments = retweet = 'None'\n",
    "# span = box.find_all('div',{'class':'css-901oao r-1awozwy r-1re7ezh r-6koalj r-1qd0xha r-a023e6 r-16dba41 r-1h0z5md r-ad9z0x r-bcqeeo r-o7ynqc r-clp7b1 r-3s2u2q r-qvutc0'})\n",
    "# likes = span[3].text\n",
    "# retweet = span[2].text\n",
    "# comments = span[1].text"
   ]
  },
  {
   "cell_type": "code",
   "execution_count": 1,
   "metadata": {
    "scrolled": true
   },
   "outputs": [
    {
     "name": "stdout",
     "output_type": "stream",
     "text": [
      "Collecting chainer==1.17.0\n",
      "Collecting filelock (from chainer==1.17.0)\n",
      "  Using cached https://files.pythonhosted.org/packages/93/83/71a2ee6158bb9f39a90c0dea1637f81d5eef866e188e1971a1b1ab01a35a/filelock-3.0.12-py3-none-any.whl\n",
      "Requirement already satisfied: numpy>=1.9.0 in /home/anurag.barfa/.local/lib/python3.5/site-packages (from chainer==1.17.0) (1.17.0)\n",
      "Collecting nose (from chainer==1.17.0)\n",
      "  Using cached https://files.pythonhosted.org/packages/15/d8/dd071918c040f50fa1cf80da16423af51ff8ce4a0f2399b7bf8de45ac3d9/nose-1.3.7-py3-none-any.whl\n",
      "Requirement already satisfied: six>=1.9.0 in /home/anurag.barfa/.local/lib/python3.5/site-packages (from chainer==1.17.0) (1.12.0)\n",
      "Collecting protobuf (from chainer==1.17.0)\n",
      "  Using cached https://files.pythonhosted.org/packages/ef/56/10999d97e62eba72a12ebd147d806fa702ab82a620e28f6bc3e5d2c59e34/protobuf-3.11.3-cp35-cp35m-manylinux1_x86_64.whl\n",
      "Requirement already satisfied: setuptools in /home/anurag.barfa/.local/lib/python3.5/site-packages (from protobuf->chainer==1.17.0) (41.0.1)\n",
      "Installing collected packages: filelock, nose, protobuf, chainer\n",
      "Successfully installed chainer-1.17.0 filelock-3.0.12 nose-1.3.7 protobuf-3.11.3\n",
      "\u001b[33mWARNING: You are using pip version 19.2.1, however version 20.0.2 is available.\n",
      "You should consider upgrading via the 'pip install --upgrade pip' command.\u001b[0m\n",
      "Note: you may need to restart the kernel to use updated packages.\n"
     ]
    }
   ],
   "source": [
    "pip install chainer==1.17.0 --user"
   ]
  },
  {
   "cell_type": "code",
   "execution_count": 4,
   "metadata": {
    "scrolled": true
   },
   "outputs": [
    {
     "name": "stdout",
     "output_type": "stream",
     "text": [
      "Collecting tqdm\n",
      "  Using cached https://files.pythonhosted.org/packages/47/55/fd9170ba08a1a64a18a7f8a18f088037316f2a41be04d2fe6ece5a653e8f/tqdm-4.43.0-py2.py3-none-any.whl\n",
      "Installing collected packages: tqdm\n",
      "Successfully installed tqdm-4.43.0\n",
      "\u001b[33mWARNING: You are using pip version 19.2.1, however version 20.0.2 is available.\n",
      "You should consider upgrading via the 'pip install --upgrade pip' command.\u001b[0m\n",
      "Note: you may need to restart the kernel to use updated packages.\n"
     ]
    }
   ],
   "source": [
    "pip install tqdm --user\n"
   ]
  },
  {
   "cell_type": "code",
   "execution_count": 5,
   "metadata": {},
   "outputs": [
    {
     "name": "stdout",
     "output_type": "stream",
     "text": [
      "Requirement already satisfied: scipy in /home/anurag.barfa/.local/lib/python3.5/site-packages (1.3.0)\n",
      "Requirement already satisfied: numpy>=1.13.3 in /home/anurag.barfa/.local/lib/python3.5/site-packages (from scipy) (1.17.0)\n",
      "\u001b[33mWARNING: You are using pip version 19.2.1, however version 20.0.2 is available.\n",
      "You should consider upgrading via the 'pip install --upgrade pip' command.\u001b[0m\n",
      "Note: you may need to restart the kernel to use updated packages.\n"
     ]
    }
   ],
   "source": [
    "pip install scipy\n"
   ]
  },
  {
   "cell_type": "code",
   "execution_count": 6,
   "metadata": {},
   "outputs": [
    {
     "name": "stdout",
     "output_type": "stream",
     "text": [
      "Requirement already satisfied: scikit-learn in /home/anurag.barfa/.local/lib/python3.5/site-packages (0.22.1)\n",
      "Requirement already satisfied: scipy>=0.17.0 in /home/anurag.barfa/.local/lib/python3.5/site-packages (from scikit-learn) (1.3.0)\n",
      "Requirement already satisfied: joblib>=0.11 in /home/anurag.barfa/.local/lib/python3.5/site-packages (from scikit-learn) (0.14.1)\n",
      "Requirement already satisfied: numpy>=1.11.0 in /home/anurag.barfa/.local/lib/python3.5/site-packages (from scikit-learn) (1.17.0)\n",
      "\u001b[33mWARNING: You are using pip version 19.2.1, however version 20.0.2 is available.\n",
      "You should consider upgrading via the 'pip install --upgrade pip' command.\u001b[0m\n",
      "Note: you may need to restart the kernel to use updated packages.\n"
     ]
    }
   ],
   "source": [
    "pip install scikit-learn --user"
   ]
  },
  {
   "cell_type": "code",
   "execution_count": 11,
   "metadata": {},
   "outputs": [
    {
     "name": "stdout",
     "output_type": "stream",
     "text": [
      "Collecting h5py\n",
      "\u001b[?25l  Downloading https://files.pythonhosted.org/packages/10/56/d5c53cd170529bb40cd7dd43e2b68944cb65a45f65ab4c78a68f4ac9e51e/h5py-2.10.0-cp35-cp35m-manylinux1_x86_64.whl (2.8MB)\n",
      "\u001b[K     |████████████████████████████████| 2.8MB 704kB/s eta 0:00:01\n",
      "\u001b[?25hRequirement already satisfied: six in /home/anurag.barfa/.local/lib/python3.5/site-packages (from h5py) (1.12.0)\n",
      "Requirement already satisfied: numpy>=1.7 in /home/anurag.barfa/.local/lib/python3.5/site-packages (from h5py) (1.17.0)\n",
      "Installing collected packages: h5py\n",
      "Successfully installed h5py-2.10.0\n",
      "\u001b[33mWARNING: You are using pip version 19.2.1, however version 20.0.2 is available.\n",
      "You should consider upgrading via the 'pip install --upgrade pip' command.\u001b[0m\n",
      "Note: you may need to restart the kernel to use updated packages.\n"
     ]
    }
   ],
   "source": [
    "pip install h5py --user"
   ]
  },
  {
   "cell_type": "code",
   "execution_count": 4,
   "metadata": {
    "scrolled": false
   },
   "outputs": [
    {
     "name": "stdout",
     "output_type": "stream",
     "text": [
      "['rank', 'Query', 'username', 'created_at', 'verified', 'followers_count', 'friends_count', 'listed_count', 'tweet', 'date', 'Img_present', 'likes', 'comments', 'retweets', 'tags', 'mentions', 'sum_followers_mention', 'url_count']\n",
      "<class 'list'>\n"
     ]
    }
   ],
   "source": [
    "# encoding: utf-8 \n",
    "query='kohli'\n",
    "import csv\n",
    "import matplotlib.pyplot as plt\n",
    "data=[] \n",
    "training_X=[]\n",
    "training_Y=[]\n",
    "with open('data/'+query+'.csv', mode='r',encoding='utf-8') as sample:\n",
    "    sample_reader = csv.reader(sample, delimiter=',')\n",
    "    title=['rank']\n",
    "    for rank,row in enumerate(sample_reader):\n",
    "        if rank==0:\n",
    "            title=title+row\n",
    "            data=[[] for x in title]\n",
    "        else:\n",
    "            data[0].append(rank)\n",
    "            training_Y.append(rank)\n",
    "            for i in range(0,len(row)):\n",
    "                data[i+1].append(row[i])\n",
    "            training_X.append([int(row[3]), int(row[4]), int(row[5]), int(row[6]), int(row[9]), int(row[10]), int(row[11]), int(row[12]), int(row[15]), int(row[16])])\n",
    "print(title) \n",
    "print(type(training_X))"
   ]
  },
  {
   "cell_type": "code",
   "execution_count": 2,
   "metadata": {},
   "outputs": [],
   "source": [
    "import numpy as np"
   ]
  },
  {
   "cell_type": "code",
   "execution_count": 5,
   "metadata": {},
   "outputs": [],
   "source": [
    "X = np.array(training_X)\n",
    "y = np.array(training_Y)"
   ]
  },
  {
   "cell_type": "code",
   "execution_count": 20,
   "metadata": {},
   "outputs": [],
   "source": [
    "from sklearn import preprocessing\n",
    "n=100000\n",
    "X =  np.random.rand(n,12)\n",
    "y =  np.random.rand(n)"
   ]
  },
  {
   "cell_type": "code",
   "execution_count": 19,
   "metadata": {},
   "outputs": [
    {
     "data": {
      "text/plain": [
       "0.10812561985616598"
      ]
     },
     "execution_count": 19,
     "metadata": {},
     "output_type": "execute_result"
    }
   ],
   "source": []
  },
  {
   "cell_type": "code",
   "execution_count": 5,
   "metadata": {},
   "outputs": [],
   "source": [
    "from learning2rank.rank import ListNet\n",
    "Model = ListNet.ListNet()"
   ]
  },
  {
   "cell_type": "code",
   "execution_count": 21,
   "metadata": {
    "scrolled": true
   },
   "outputs": [
    {
     "name": "stderr",
     "output_type": "stream",
     "text": [
      "  2%|▏         | 18/950 [00:00<00:05, 174.67it/s]"
     ]
    },
    {
     "name": "stdout",
     "output_type": "stream",
     "text": [
      "load dataset\n",
      "The number of data, train: 95000 validate: 5000\n",
      "prepare initialized model!\n",
      "Start training and validation loop......\n",
      "epoch 1\n"
     ]
    },
    {
     "name": "stderr",
     "output_type": "stream",
     "text": [
      "100%|██████████| 950/950 [00:04<00:00, 195.07it/s]\n",
      "100%|██████████| 50/50 [00:00<00:00, 336.34it/s]\n"
     ]
    },
    {
     "name": "stdout",
     "output_type": "stream",
     "text": [
      "train mean loss=2.7117057408784566\n",
      "test  mean loss=2.6509145641326906\n"
     ]
    },
    {
     "name": "stderr",
     "output_type": "stream",
     "text": [
      "  2%|▏         | 20/950 [00:00<00:04, 191.12it/s]"
     ]
    },
    {
     "name": "stdout",
     "output_type": "stream",
     "text": [
      "epoch: 2\n",
      "NDCG@100 | train: 0.44246521010186124, test: 0.5345499692695548\n",
      "epoch 2\n"
     ]
    },
    {
     "name": "stderr",
     "output_type": "stream",
     "text": [
      "100%|██████████| 950/950 [00:05<00:00, 166.11it/s]\n",
      "100%|██████████| 50/50 [00:00<00:00, 308.94it/s]\n"
     ]
    },
    {
     "name": "stdout",
     "output_type": "stream",
     "text": [
      "train mean loss=2.6543602692453483\n",
      "test  mean loss=2.648069977760315\n"
     ]
    },
    {
     "name": "stderr",
     "output_type": "stream",
     "text": [
      "  2%|▏         | 15/950 [00:00<00:07, 131.42it/s]"
     ]
    },
    {
     "name": "stdout",
     "output_type": "stream",
     "text": [
      "epoch: 3\n",
      "NDCG@100 | train: 0.4543591800372857, test: 0.4923376213321544\n",
      "epoch 3\n"
     ]
    },
    {
     "name": "stderr",
     "output_type": "stream",
     "text": [
      "100%|██████████| 950/950 [00:05<00:00, 172.12it/s]\n",
      "100%|██████████| 50/50 [00:00<00:00, 366.40it/s]\n"
     ]
    },
    {
     "name": "stdout",
     "output_type": "stream",
     "text": [
      "train mean loss=2.6421257094333046\n",
      "test  mean loss=2.6348265171051026\n"
     ]
    },
    {
     "name": "stderr",
     "output_type": "stream",
     "text": [
      "  1%|          | 11/950 [00:00<00:10, 86.12it/s]"
     ]
    },
    {
     "name": "stdout",
     "output_type": "stream",
     "text": [
      "epoch: 4\n",
      "NDCG@100 | train: 0.5159986197051275, test: 0.4265102019480982\n",
      "epoch 4\n"
     ]
    },
    {
     "name": "stderr",
     "output_type": "stream",
     "text": [
      "100%|██████████| 950/950 [00:05<00:00, 163.71it/s]\n",
      "100%|██████████| 50/50 [00:00<00:00, 339.94it/s]\n"
     ]
    },
    {
     "name": "stdout",
     "output_type": "stream",
     "text": [
      "train mean loss=2.6380574974260833\n",
      "test  mean loss=2.64885927438736\n"
     ]
    },
    {
     "name": "stderr",
     "output_type": "stream",
     "text": [
      "  2%|▏         | 18/950 [00:00<00:05, 174.26it/s]"
     ]
    },
    {
     "name": "stdout",
     "output_type": "stream",
     "text": [
      "epoch: 5\n",
      "NDCG@100 | train: 0.5207154243148394, test: 0.44882095790022447\n",
      "epoch 5\n"
     ]
    },
    {
     "name": "stderr",
     "output_type": "stream",
     "text": [
      "100%|██████████| 950/950 [00:06<00:00, 155.00it/s]\n",
      "100%|██████████| 50/50 [00:00<00:00, 284.84it/s]\n"
     ]
    },
    {
     "name": "stdout",
     "output_type": "stream",
     "text": [
      "train mean loss=2.634267670355345\n",
      "test  mean loss=2.632692837715149\n"
     ]
    },
    {
     "name": "stderr",
     "output_type": "stream",
     "text": [
      "  2%|▏         | 18/950 [00:00<00:05, 175.25it/s]"
     ]
    },
    {
     "name": "stdout",
     "output_type": "stream",
     "text": [
      "epoch: 6\n",
      "NDCG@100 | train: 0.5352636423550917, test: 0.40292285612528767\n",
      "epoch 6\n"
     ]
    },
    {
     "name": "stderr",
     "output_type": "stream",
     "text": [
      "100%|██████████| 950/950 [00:05<00:00, 159.74it/s]\n",
      "100%|██████████| 50/50 [00:00<00:00, 372.33it/s]\n"
     ]
    },
    {
     "name": "stdout",
     "output_type": "stream",
     "text": [
      "train mean loss=2.6309418052121214\n",
      "test  mean loss=2.6338396310806274\n"
     ]
    },
    {
     "name": "stderr",
     "output_type": "stream",
     "text": [
      "  2%|▏         | 18/950 [00:00<00:05, 179.05it/s]"
     ]
    },
    {
     "name": "stdout",
     "output_type": "stream",
     "text": [
      "epoch: 7\n",
      "NDCG@100 | train: 0.48124248040196077, test: 0.45029379316229406\n",
      "epoch 7\n"
     ]
    },
    {
     "name": "stderr",
     "output_type": "stream",
     "text": [
      "100%|██████████| 950/950 [00:06<00:00, 152.11it/s]\n",
      "100%|██████████| 50/50 [00:00<00:00, 341.59it/s]\n"
     ]
    },
    {
     "name": "stdout",
     "output_type": "stream",
     "text": [
      "train mean loss=2.6299017222304095\n",
      "test  mean loss=2.6314022159576416\n"
     ]
    },
    {
     "name": "stderr",
     "output_type": "stream",
     "text": [
      "  2%|▏         | 18/950 [00:00<00:05, 173.64it/s]"
     ]
    },
    {
     "name": "stdout",
     "output_type": "stream",
     "text": [
      "epoch: 8\n",
      "NDCG@100 | train: 0.5644607431459635, test: 0.45019411562921585\n",
      "epoch 8\n"
     ]
    },
    {
     "name": "stderr",
     "output_type": "stream",
     "text": [
      "100%|██████████| 950/950 [00:06<00:00, 150.44it/s]\n",
      "100%|██████████| 50/50 [00:00<00:00, 306.99it/s]\n"
     ]
    },
    {
     "name": "stdout",
     "output_type": "stream",
     "text": [
      "train mean loss=2.628311091222261\n",
      "test  mean loss=2.6345570492744446\n"
     ]
    },
    {
     "name": "stderr",
     "output_type": "stream",
     "text": [
      "  2%|▏         | 18/950 [00:00<00:05, 171.45it/s]"
     ]
    },
    {
     "name": "stdout",
     "output_type": "stream",
     "text": [
      "epoch: 9\n",
      "NDCG@100 | train: 0.5740366972776565, test: 0.44462916173639017\n",
      "epoch 9\n"
     ]
    },
    {
     "name": "stderr",
     "output_type": "stream",
     "text": [
      "100%|██████████| 950/950 [00:05<00:00, 161.05it/s]\n",
      "100%|██████████| 50/50 [00:00<00:00, 381.09it/s]\n"
     ]
    },
    {
     "name": "stdout",
     "output_type": "stream",
     "text": [
      "train mean loss=2.627029803677609\n",
      "test  mean loss=2.6307004785537718\n"
     ]
    },
    {
     "name": "stderr",
     "output_type": "stream",
     "text": [
      "  2%|▏         | 18/950 [00:00<00:05, 176.26it/s]"
     ]
    },
    {
     "name": "stdout",
     "output_type": "stream",
     "text": [
      "epoch: 10\n",
      "NDCG@100 | train: 0.5118263637362579, test: 0.41483901122850503\n",
      "epoch 10\n"
     ]
    },
    {
     "name": "stderr",
     "output_type": "stream",
     "text": [
      "100%|██████████| 950/950 [00:05<00:00, 165.81it/s]\n",
      "100%|██████████| 50/50 [00:00<00:00, 377.04it/s]\n"
     ]
    },
    {
     "name": "stdout",
     "output_type": "stream",
     "text": [
      "train mean loss=2.6253462122616016\n",
      "test  mean loss=2.6353563237190247\n",
      "epoch: 11\n",
      "NDCG@100 | train: 0.5413868692718454, test: 0.42959392101824956\n",
      "save the model\n",
      "save the optimizer\n"
     ]
    },
    {
     "data": {
      "image/png": "[encoded data removed]",
      "text/plain": [
       "<Figure size 432x288 with 1 Axes>"
      ]
     },
     "metadata": {
      "needs_background": "light"
     },
     "output_type": "display_data"
    }
   ],
   "source": [
    "Model.fit(X, y, batchsize=100, n_epoch=10, n_units1=512, n_units2=128, tv_ratio=0.95, optimizerAlgorithm=\"Adam\", savefigName=\"result.pdf\", savemodelName=\"ListNet.model\")"
   ]
  },
  {
   "cell_type": "code",
   "execution_count": 22,
   "metadata": {},
   "outputs": [
    {
     "data": {
      "text/plain": [
       "array([[0.45045638],\n",
       "       [0.47181988],\n",
       "       [0.47012728],\n",
       "       ...,\n",
       "       [0.4333916 ],\n",
       "       [0.4626411 ],\n",
       "       [0.4433115 ]], dtype=float32)"
      ]
     },
     "execution_count": 22,
     "metadata": {},
     "output_type": "execute_result"
    }
   ],
   "source": [
    "Model.predict(X)"
   ]
  },
  {
   "cell_type": "code",
   "execution_count": null,
   "metadata": {},
   "outputs": [],
   "source": [
    "# for i in range(0,len(data[4])):\n",
    "#     data[4][i]=convertToNumber(data[4][i])\n",
    "# for i in range(0,len(data[5])):\n",
    "#     data[5][i]=convertToNumber(data[5][i])\n",
    "# for i in range(0,len(data[6])):\n",
    "#     data[6][i]=convertToNumber(data[6][i])\n",
    "# for i in range(0,len(data[7])):\n",
    "#     data[7][i]=convertToNumber(data[7][i])\n",
    "# for i in range(0,len(data[10])):\n",
    "#     data[10][i]=convertToNumber(data[10][i])\n",
    "# for i in range(0,len(data[11])):\n",
    "#     data[11][i]=convertToNumber(data[11][i])\n",
    "# for i in range(0,len(data[12])):\n",
    "#     data[12][i]=convertToNumber(data[12][i])\n",
    "# for i in range(0,len(data[13])):\n",
    "#     data[13][i]=convertToNumber(data[13][i])\n",
    "# for i in range(0,len(data[16])):\n",
    "#     data[16][i]=convertToNumber(data[16][i])\n",
    "# for i in range(0,len(data[17])):\n",
    "#     data[17][i]=convertToNumber(data[17][i])\n",
    "# plt.plot(data[0], data[4])\n",
    "plt.plot(data[0], data[5])\n",
    "plt.plot(data[0], data[6])\n",
    "plt.plot(data[0], data[7])\n",
    "plt.plot(data[0], data[10])\n",
    "plt.plot(data[0], data[11])\n",
    "plt.plot(data[0], data[12])\n",
    "plt.plot(data[0], data[13])\n",
    "plt.plot(data[0], data[16])\n",
    "plt.plot(data[0], data[17])"
   ]
  },
  {
   "cell_type": "code",
   "execution_count": null,
   "metadata": {
    "scrolled": true
   },
   "outputs": [],
   "source": [
    "tutorial_soup = BeautifulSoup(driver.page_source, 'html.parser')\n",
    "#tweet_boxes = tutorial_soup.find_all('div',attrs={'class':'css-1dbjc4n r-18u37iz r-thb0q2','data-testid':'tweet'})\n",
    "tweet_boxes = tutorial_soup.find_all('div',{'class':'css-1dbjc4n r-1iusvr4 r-16y2uox r-1777fci r-5f2r5o r-1mi0q7o'})\n",
    "len(tweet_boxes)\n",
    "tweet_boxes[1].findChildren('div',recursive=False)[3].attrs.get('aria-label')\n",
    "for i in range(0,len(tweet_boxes)):\n",
    "    print(tweet_boxes[i].findChildren('div',recursive=False)[3].attrs.get('aria-label'))\n",
    "#     tweet_boxes[i].findChildren('div',recursive=False)[3].attrs.get('aria-label')\n",
    "box = tweet_boxes[2]\n",
    "#small_boxes = box.find_all('div',{'class':'css-901oao r-hkyrab r-1qd0xha r-a023e6 r-16dba41 r-ad9z0x r-bcqeeo r-bnwqim r-qvutc0','lang':'en'})\n",
    "if(box.find('img')):\n",
    "    small_boxes = box.find('img')\n",
    "    print(small_boxes)\n",
    "boxes = tweet_boxes[2]\n",
    "#boxes.text\n",
    "#span = boxes.find_all('span',{'class':'css-901oao css-16my406 r-1qd0xha r-ad9z0x r-bcqeeo r-qvutc0'})\n",
    "span = boxes.find_all('div',{'class':'css-901oao r-1awozwy r-1re7ezh r-6koalj r-1qd0xha r-a023e6 r-16dba41 r-1h0z5md r-ad9z0x r-bcqeeo r-o7ynqc r-clp7b1 r-3s2u2q r-qvutc0'})\n",
    "span[4].text\n",
    "#span[len(span)-1].text.isdigit()<div dir=\"ltr\" class=\"\">"
   ]
  },
  {
   "cell_type": "code",
   "execution_count": null,
   "metadata": {},
   "outputs": [],
   "source": [
    "from sklearn.linear_model import LogisticRegression\n",
    "logreg = LogisticRegression(C=1e5)"
   ]
  },
  {
   "cell_type": "code",
   "execution_count": null,
   "metadata": {
    "scrolled": true
   },
   "outputs": [],
   "source": [
    "logreg.fit(training_X, training_Y)"
   ]
  },
  {
   "cell_type": "code",
   "execution_count": null,
   "metadata": {},
   "outputs": [],
   "source": [
    "import random\n",
    "# random.shuffle(training_X)\n",
    "logreg.predict(training_X)"
   ]
  }
 ],
 "metadata": {
  "kernelspec": {
   "display_name": "Python 3",
   "language": "python",
   "name": "python3"
  },
  "language_info": {
   "codemirror_mode": {
    "name": "ipython",
    "version": 3
   },
   "file_extension": ".py",
   "mimetype": "text/x-python",
   "name": "python",
   "nbconvert_exporter": "python",
   "pygments_lexer": "ipython3",
   "version": "3.5.2"
  }
 },
 "nbformat": 4,
 "nbformat_minor": 2
}
