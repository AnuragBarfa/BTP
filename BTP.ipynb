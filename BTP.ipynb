{
 "cells": [
  {
   "cell_type": "code",
   "execution_count": null,
   "metadata": {},
   "outputs": [],
   "source": [
    "import re, math\n",
    "from collections import Counter\n",
    "\n",
    "WORD = re.compile(r'\\w+')\n",
    "\n",
    "def get_cosine(vec1, vec2):\n",
    "     intersection = set(vec1.keys()) & set(vec2.keys())\n",
    "     numerator = sum([vec1[x] * vec2[x] for x in intersection])\n",
    "\n",
    "     sum1 = sum([vec1[x]**2 for x in vec1.keys()])\n",
    "     sum2 = sum([vec2[x]**2 for x in vec2.keys()])\n",
    "     denominator = math.sqrt(sum1) * math.sqrt(sum2)\n",
    "\n",
    "     if not denominator:\n",
    "        return 0.0\n",
    "     else:\n",
    "        return float(numerator) / denominator\n",
    "\n",
    "def text_to_vector(text):\n",
    "     words = WORD.findall(text)\n",
    "     return Counter(words)\n",
    "\n",
    "text1 = 'This is a foo bar sentence .'\n",
    "text2 = 'This sentence is similar to a foo bar sentence .'\n",
    "\n",
    "vector1 = text_to_vector(text1)\n",
    "vector2 = text_to_vector(text2)\n",
    "\n",
    "cosine = get_cosine(vector1, vector2)\n",
    "\n",
    "print('Cosine:', cosine)"
   ]
  },
  {
   "cell_type": "code",
   "execution_count": null,
   "metadata": {},
   "outputs": [],
   "source": [
    "pip install tweepy"
   ]
  },
  {
   "cell_type": "code",
   "execution_count": null,
   "metadata": {},
   "outputs": [],
   "source": [
    "import os\n",
    "import pandas as pd\n",
    "import tweepy as tw\n"
   ]
  },
  {
   "cell_type": "code",
   "execution_count": null,
   "metadata": {},
   "outputs": [],
   "source": [
    "pip install python-twitter --user"
   ]
  },
  {
   "cell_type": "code",
   "execution_count": null,
   "metadata": {},
   "outputs": [],
   "source": [
    "import twitter"
   ]
  },
  {
   "cell_type": "code",
   "execution_count": null,
   "metadata": {},
   "outputs": [],
   "source": [
    "api = twitter.Api(consumer_key='5QUCmsZc97JKVhSW7UqB4PmGO',\n",
    "                      consumer_secret='Szv1qILgFywnl1IbLakJDIqbt44unJOXWEWY7iZ2ksw6WZvDjx',\n",
    "                      access_token_key='1159073576495923200-s1eAfxDF86zf9J7brJoe2CEFwU0UW0',\n",
    "                      access_token_secret='sxA356gk2uPJFU5iIyoB2yKLUrAbnvZpSGV9cRtqzEWb7')"
   ]
  },
  {
   "cell_type": "code",
   "execution_count": null,
   "metadata": {
    "scrolled": true
   },
   "outputs": [],
   "source": [
    "users = api.GetFriends()\n",
    "print([u.name for u in users])\n",
    "timel=api.GetHomeTimeline()\n",
    "tie2=api.GetUserTimeline(screen_name=\"MMitanshu\")\n",
    "for ti in tie2:\n",
    "    print(ti)"
   ]
  },
  {
   "cell_type": "code",
   "execution_count": null,
   "metadata": {},
   "outputs": [],
   "source": [
    "results = api.GetSearch(\n",
    "    raw_query=\"q=twitter%20&result_type=recent&since=2014-07-19&count=100\")\n",
    "for res in results:\n",
    "    print(res)"
   ]
  },
  {
   "cell_type": "code",
   "execution_count": null,
   "metadata": {},
   "outputs": [],
   "source": [
    "results = api.GetSearch(raw_query=\"q=shiny pants&result_type=recent&since=2014-07-19\",result_type='mixed')\n",
    "for res in results:\n",
    "    print(res)"
   ]
  },
  {
   "cell_type": "code",
   "execution_count": null,
   "metadata": {
    "scrolled": true
   },
   "outputs": [],
   "source": [
    "pip install beautifulsoup4"
   ]
  },
  {
   "cell_type": "code",
   "execution_count": null,
   "metadata": {},
   "outputs": [],
   "source": [
    "from requests import get\n",
    "url = 'https://twitter.com/search?q=shiny%20pants&src=typed_query'\n",
    "response = get(url)\n",
    "print(response.text)\n",
    "from bs4 import BeautifulSoup\n",
    "html_soup = BeautifulSoup(response.text, 'html.parser')"
   ]
  },
  {
   "cell_type": "code",
   "execution_count": null,
   "metadata": {
    "scrolled": true
   },
   "outputs": [],
   "source": [
    "movie_containers = html_soup.find_all('div')\n",
    "print(type(movie_containers))\n",
    "print(len(movie_containers))\n",
    "for m in movie_containers:\n",
    "    print(m)"
   ]
  },
  {
   "cell_type": "code",
   "execution_count": null,
   "metadata": {},
   "outputs": [],
   "source": [
    "pip install -U selenium --user"
   ]
  },
  {
   "cell_type": "code",
   "execution_count": null,
   "metadata": {},
   "outputs": [],
   "source": [
    "#tweet_mode used to get full text inplace of truncated\n",
    "results = api.GetSearch(\n",
    "    raw_query=\"q=holi%20&tweet_mode=extended\",include_entities=True,result_type='recent')\n",
    "for res in results:\n",
    "    print(res)"
   ]
  },
  {
   "cell_type": "code",
   "execution_count": null,
   "metadata": {},
   "outputs": [],
   "source": [
    "from selenium import webdriver\n",
    "from selenium.webdriver.common.keys import Keys\n",
    "#from selenium.common.exceptions import TimeOutException, NoSuchElementException\n",
    "from selenium.webdriver.chrome.options import Options\n",
    "from selenium.webdriver.common.by import By\n",
    "from bs4 import BeautifulSoup\n",
    "\n",
    "import time\n",
    "from selenium.webdriver.support.ui import WebDriverWait\n",
    "from selenium.webdriver.support import expected_conditions as EC\n",
    "import csv\n",
    "import json\n",
    "import logging\n",
    "\n",
    "# path where the selenium driver is copied.\n",
    "#for lab pc ashish\n",
    "#driver_path = '/home/ashishranjan/chromedriver'\n",
    "#for home pc ashish\n",
    "# driver_path = '/home/ashish/Downloads/chromedriver'\n",
    "#for lab pc anurag\n",
    "# driver_path = '/home/anurag.barfa/mywork/btp/chromedriver'\n",
    "#for home pc anurag\n",
    "driver_path = '/home/anurag/Work/btp/BTP/chromedriver'\n",
    "# This will open a new chrome session.\n",
    "\n",
    "chrome_options = webdriver.ChromeOptions()\n",
    "chrome_options.add_argument(\"--disable-notifications\")\n",
    "driver = webdriver.Chrome(executable_path = driver_path,options=chrome_options)\n",
    "#driver.get(\"https://twitter.com/search?q=delhi%20election&src=typed_query\")\n",
    "query=\"kohli\"\n",
    "driver.get(\"https://twitter.com/search?q=\"+query+\"&src=typed_query\")\n",
    "\n",
    "SCROLL_PAUSE_TIME = 10\n",
    "\n",
    "# Get scroll height\n",
    "last_height = driver.execute_script(\"return document.body.scrollHeight\")\n",
    "scroll_count=30 #number of times you want to scroll the page\n",
    "tweet_boxes=[]\n",
    "while True:\n",
    "    # Scroll down to bottom\n",
    "    driver.execute_script(\"window.scrollTo(0, document.body.scrollHeight);\")\n",
    "\n",
    "    # Wait to load page\n",
    "    time.sleep(SCROLL_PAUSE_TIME)\n",
    "\n",
    "    # Calculate new scroll height and compare with last scroll height\n",
    "    new_height = driver.execute_script(\"return document.body.scrollHeight\")\n",
    "    if new_height == last_height:\n",
    "        break\n",
    "    last_height = new_height\n",
    "    tutorial_soup = BeautifulSoup(driver.page_source, 'html.parser')\n",
    "    tutorial_code_soup = tutorial_soup.find_all('div',attrs={'class':'css-1dbjc4n r-18u37iz r-thb0q2'})\n",
    "    tweet = tutorial_soup.find_all('div',{'class':'css-1dbjc4n r-1iusvr4 r-16y2uox r-1777fci r-5f2r5o r-1mi0q7o'})\n",
    "    tweet_boxes=tweet_boxes+tweet\n",
    "    scroll_count=scroll_count-1\n",
    "    if scroll_count==0:\n",
    "        break\n",
    "            \n",
    "#tutorial_soup = BeautifulSoup(driver.page_source, 'html.parser')\n",
    "# tutorial_code_soup1 = tutorial_soup.find_all('div',attrs={'class':'css-1dbjc4n r-18u37iz r-thb0q2'})\n",
    "# for tweet in tutorial_code_soup1:\n",
    "#     print(tweet)\n",
    "# # tutorial_code_soup2 = tutorial_soup.find_all('ol',attrs={'id':'stream-items-id'})\n",
    "# tutorial_code_soup2 = tutorial_soup.find_all('li',attrs={'class':'js-stream-item stream-item stream-item'})\n",
    "# for tweet in tutorial_code_soup2:\n",
    "#     print(tweet)"
   ]
  },
  {
   "cell_type": "code",
   "execution_count": null,
   "metadata": {},
   "outputs": [],
   "source": [
    "tweetstemp=[]\n",
    " \n",
    "for i in tweet_boxes:\n",
    "    # Add to the new list\n",
    "    # only if not present\n",
    "    if i not in tweetstemp:\n",
    "        tweetstemp.append(i)\n",
    "tweet_boxes = tweetstemp\n",
    "len(tweet_boxes)"
   ]
  },
  {
   "cell_type": "code",
   "execution_count": null,
   "metadata": {},
   "outputs": [],
   "source": [
    "def cleanText(text):\n",
    "    "
   ]
  },
  {
   "cell_type": "code",
   "execution_count": null,
   "metadata": {
    "scrolled": true
   },
   "outputs": [],
   "source": [
    "import re, math\n",
    "from collections import Counter\n",
    "\n",
    "WORD = re.compile(r'\\w+')\n",
    "\n",
    "def text_to_vector(text):\n",
    "     words = WORD.findall(text)\n",
    "     return Counter(words)\n",
    "\n",
    "def cosine(tweet,query):\n",
    "    vec1 = text_to_vector(tweet.lower())\n",
    "    vec2 = text_to_vector(query.lower())\n",
    "    intersection = set(vec1.keys()) & set(vec2.keys())\n",
    "#     print(intersection)\n",
    "    numerator = sum([vec1[x] * vec2[x] for x in intersection])\n",
    "    sum1 = sum([vec1[x]**2 for x in vec1.keys()])\n",
    "    sum2 = sum([vec2[x]**2 for x in vec2.keys()])\n",
    "    denominator = math.sqrt(sum1) * math.sqrt(sum2)\n",
    "    if not denominator:\n",
    "        return 0.0\n",
    "    else:\n",
    "        return float(numerator) / denominator\n",
    "\n",
    "def jaccard(tweet,query):\n",
    "    vec1 = text_to_vector(tweet.lower())\n",
    "    vec2 = text_to_vector(query.lower())\n",
    "    intersection = set(vec1.keys()) & set(vec2.keys())\n",
    "    union =set(vec1.keys()) | set(vec2.keys())"
   ]
  },
  {
   "cell_type": "code",
   "execution_count": null,
   "metadata": {},
   "outputs": [],
   "source": [
    "def gettweet(box,query):\n",
    "    tweet=box.findChildren('div',recursive=False)[1].text\n",
    "    user=box.findChildren('div',recursive=False)[0].findChildren('div',recursive=False)[0].findChildren('div',recursive=False)[0].findChildren(recursive=False)[0].text\n",
    "    date=box.findChildren('div',recursive=False)[0].findChildren('div',recursive=False)[0].findChildren('div',recursive=False)[0].findChildren(recursive=False)[2].attrs['title']\n",
    "    likes = comments = retweet = 'None'\n",
    "    span = box.find_all('div',{'class':'css-901oao r-1awozwy r-1re7ezh r-6koalj r-1qd0xha r-a023e6 r-16dba41 r-1h0z5md r-ad9z0x r-bcqeeo r-o7ynqc r-clp7b1 r-3s2u2q r-qvutc0'})\n",
    "    likes = span[3].text\n",
    "    retweet = span[2].text\n",
    "    comments = span[1].text\n",
    "    tags=[]\n",
    "    mentions=[]\n",
    "    urls=0\n",
    "    for anchor in box.find_all('a'):\n",
    "        #print(anchor.text+\"######\")\n",
    "        if 'href' in anchor.attrs:\n",
    "            if anchor.attrs['href'].split('/')[1]=='hashtag':\n",
    "                tags.append(anchor.text)\n",
    "            if anchor.attrs['href'].split(':')[0]=='https':\n",
    "                urls=urls+1\n",
    "        if len(anchor.text)>0 and anchor.text[0]=='@':\n",
    "            mentions.append(anchor.text)\n",
    "        \n",
    "    #print(tags)\n",
    "    #print(mentions)\n",
    "    cosine_similarity=cosine(tweet,query)*100\n",
    "    multimedia_flag=0\n",
    "    s = str(box.find('img'))\n",
    "    if ((box.find('img') and s.find('format')!=-1 )  or box.find('video')):\n",
    "        multimedia_flag=1  \n",
    "    return tweet,likes,comments,retweet,user,date,tags,mentions,multimedia_flag,urls,cosine_similarity"
   ]
  },
  {
   "cell_type": "code",
   "execution_count": null,
   "metadata": {},
   "outputs": [],
   "source": [
    "import csv\n",
    "with open('data/sample_'+query+'.csv', mode='w') as sample:\n",
    "    sample_writer = csv.writer(sample, delimiter=',')\n",
    "    sample_writer.writerow(['Query','Date','user','Tweet','Img_present','Likes','commnets','retweet','tags','mentions','url_count','length','cosine_similarity(%)'])\n",
    "    for boxes in tweet_boxes:\n",
    "        tweet,likes,comments,retweet,user,date,tags,mentions,multimedia_flag,urls,cosine_similarity = gettweet(boxes,query)\n",
    "        sample_writer.writerow([query,date, user, tweet, multimedia_flag,likes,comments,retweet,\",\".join(tags),\",\".join(mentions),urls,len(tweet),cosine_similarity])"
   ]
  },
  {
   "cell_type": "code",
   "execution_count": null,
   "metadata": {
    "scrolled": true
   },
   "outputs": [],
   "source": [
    "pip install chainer==1.17.0"
   ]
  },
  {
   "cell_type": "code",
   "execution_count": 1,
   "metadata": {
    "scrolled": true
   },
   "outputs": [
    {
     "name": "stdout",
     "output_type": "stream",
     "text": [
      "['rank', 'Query', 'username', 'created_at', 'verified', 'followers_count', 'friends_count', 'listed_count', 'tweet', 'date', 'Img_present', 'likes', 'comments', 'retweets', 'tags', 'mentions', 'sum_followers_mention', 'url_count']\n",
      "<class 'list'>\n"
     ]
    }
   ],
   "source": [
    "# encoding: utf-8 \n",
    "query='kohli'\n",
    "import csv\n",
    "import matplotlib.pyplot as plt\n",
    "data=[] \n",
    "training_X=[]\n",
    "training_Y=[]\n",
    "with open('data/'+query+'.csv', mode='r',encoding='utf-8') as sample:\n",
    "    sample_reader = csv.reader(sample, delimiter=',')\n",
    "    title=['rank']\n",
    "    for rank,row in enumerate(sample_reader):\n",
    "        if rank==0:\n",
    "            title=title+row\n",
    "            data=[[] for x in title]\n",
    "        else:\n",
    "            data[0].append(rank)\n",
    "            training_Y.append(rank)\n",
    "            for i in range(0,len(row)):\n",
    "                data[i+1].append(row[i])\n",
    "            training_X.append([int(row[3]), int(row[4]), int(row[5]), int(row[6]), int(row[9]), int(row[10]), int(row[11]), int(row[12]), int(row[15]), int(row[16])])\n",
    "print(title) \n",
    "print(type(training_X))"
   ]
  },
  {
   "cell_type": "code",
   "execution_count": 2,
   "metadata": {},
   "outputs": [],
   "source": [
    "import numpy as np\n",
    "X = np.array(training_X)\n",
    "y = np.array(training_Y)"
   ]
  },
  {
   "cell_type": "code",
   "execution_count": null,
   "metadata": {},
   "outputs": [],
   "source": [
    "# X = np.random.rand(50,50)\n",
    "# y = np.random.rand(50,1)"
   ]
  },
  {
   "cell_type": "code",
   "execution_count": null,
   "metadata": {},
   "outputs": [],
   "source": []
  },
  {
   "cell_type": "code",
   "execution_count": 3,
   "metadata": {},
   "outputs": [],
   "source": [
    "from learning2rank.rank import ListNet\n",
    "Model = ListNet.ListNet()"
   ]
  },
  {
   "cell_type": "code",
   "execution_count": 4,
   "metadata": {
    "scrolled": false
   },
   "outputs": [
    {
     "name": "stdout",
     "output_type": "stream",
     "text": [
      "load dataset\n",
      "The number of data, train: 217 validate: 12\n",
      "prepare initialized model!\n",
      "Start training and validation loop......\n",
      "epoch 1\n"
     ]
    },
    {
     "name": "stderr",
     "output_type": "stream",
     "text": [
      "  0%|                                                                                            | 0/5 [00:00<?, ?it/s]C:\\ProgramData\\Anaconda3\\lib\\site-packages\\chainer\\functions\\math\\exponential.py:47: RuntimeWarning: invalid value encountered in log\n",
      "  return utils.force_array(numpy.log(x[0])),\n",
      "C:\\Users\\Ashish Ranjan\\BTP\\learning2rank\\rank\\ListNet.py:63: RuntimeWarning: invalid value encountered in greater\n",
      "  ind = vec_true.data * vec_compare.data > 0\n",
      "C:\\ProgramData\\Anaconda3\\lib\\site-packages\\chainer\\functions\\activation\\relu.py:43: RuntimeWarning: invalid value encountered in greater\n",
      "  return utils.force_array(gy[0] * (x[0] > 0)),\n",
      "100%|████████████████████████████████████████████████████████████████████████████████████| 5/5 [00:00<00:00, 79.58it/s]\n"
     ]
    },
    {
     "name": "stdout",
     "output_type": "stream",
     "text": [
      "train mean loss=-109676.71370967742\n"
     ]
    },
    {
     "name": "stderr",
     "output_type": "stream",
     "text": [
      "100%|███████████████████████████████████████████████████████████████████████████████████| 1/1 [00:00<00:00, 250.69it/s]\n"
     ]
    },
    {
     "name": "stdout",
     "output_type": "stream",
     "text": [
      "test  mean loss=0.0\n",
      "[[0.0000000e+00 3.0000000e+00 1.9000000e+01 ... 0.0000000e+00\n",
      "  0.0000000e+00 0.0000000e+00]\n",
      " [0.0000000e+00 6.8000000e+01 6.7000000e+01 ... 1.0000000e+00\n",
      "  0.0000000e+00 0.0000000e+00]\n",
      " [0.0000000e+00 1.0100000e+02 3.0000000e+01 ... 5.0000000e+00\n",
      "  3.3856640e+07 0.0000000e+00]\n",
      " ...\n",
      " [0.0000000e+00 7.5700000e+02 2.9000000e+01 ... 6.8000000e+01\n",
      "  0.0000000e+00 0.0000000e+00]\n",
      " [0.0000000e+00 5.5300000e+02 3.3600000e+02 ... 4.0000000e+01\n",
      "  3.3856644e+07 0.0000000e+00]\n",
      " [0.0000000e+00 3.8000000e+02 5.8000000e+01 ... 9.0000000e+00\n",
      "  3.3856640e+07 0.0000000e+00]]\n",
      "[[nan nan nan ... nan nan nan]\n",
      " [nan nan nan ... nan nan nan]\n",
      " [nan nan nan ... nan nan nan]\n",
      " ...\n",
      " [nan nan nan ... nan nan nan]\n",
      " [nan nan nan ... nan nan nan]\n",
      " [nan nan nan ... nan nan nan]]\n",
      "[[1.0000000e+00 3.3856644e+07 5.8000000e+01 8.0160000e+03 0.0000000e+00\n",
      "  1.3030000e+05 1.8000000e+03 9.7000000e+03 6.9638780e+06 0.0000000e+00]\n",
      " [0.0000000e+00 7.1300000e+02 1.7600000e+02 0.0000000e+00 0.0000000e+00\n",
      "  5.8000000e+01 5.0000000e+00 7.0000000e+00 3.3856640e+07 0.0000000e+00]\n",
      " [0.0000000e+00 6.2500000e+02 3.0000000e+00 0.0000000e+00 0.0000000e+00\n",
      "  3.2500000e+02 8.0000000e+00 6.0000000e+01 0.0000000e+00 0.0000000e+00]\n",
      " [1.0000000e+00 1.8454200e+05 1.4400000e+02 1.7000000e+02 1.0000000e+00\n",
      "  1.2400000e+02 0.0000000e+00 7.0000000e+00 0.0000000e+00 1.0000000e+00]\n",
      " [0.0000000e+00 4.1180000e+03 5.0010000e+03 0.0000000e+00 0.0000000e+00\n",
      "  1.8900000e+02 1.0000000e+00 1.9700000e+02 3.7002000e+04 0.0000000e+00]\n",
      " [0.0000000e+00 7.5700000e+02 2.9000000e+01 2.0000000e+00 0.0000000e+00\n",
      "  1.0200000e+02 1.0000000e+00 1.8000000e+01 0.0000000e+00 0.0000000e+00]\n",
      " [0.0000000e+00 2.8190000e+03 3.0590000e+03 0.0000000e+00 1.0000000e+00\n",
      "  5.0000000e+00 0.0000000e+00 5.0000000e+00 0.0000000e+00 0.0000000e+00]\n",
      " [0.0000000e+00 1.9000000e+01 4.5000000e+01 0.0000000e+00 0.0000000e+00\n",
      "  3.0000000e+00 0.0000000e+00 2.0000000e+00 1.9790000e+03 0.0000000e+00]\n",
      " [0.0000000e+00 7.2600000e+02 0.0000000e+00 4.0000000e+00 1.0000000e+00\n",
      "  1.4400000e+02 4.0000000e+00 3.9000000e+01 0.0000000e+00 0.0000000e+00]\n",
      " [1.0000000e+00 1.2827000e+05 8.0700000e+02 2.2300000e+02 1.0000000e+00\n",
      "  1.0000000e+03 1.2000000e+01 1.2700000e+02 3.3856640e+07 0.0000000e+00]\n",
      " [0.0000000e+00 2.5000000e+02 1.0400000e+02 0.0000000e+00 1.0000000e+00\n",
      "  8.4000000e+01 8.0000000e+00 2.2000000e+01 0.0000000e+00 0.0000000e+00]\n",
      " [0.0000000e+00 1.5540000e+03 4.9740000e+03 0.0000000e+00 0.0000000e+00\n",
      "  1.2000000e+01 2.0000000e+00 5.0000000e+00 0.0000000e+00 0.0000000e+00]]\n",
      "[[nan nan nan nan nan nan nan nan]\n",
      " [nan nan nan nan nan nan nan nan]\n",
      " [nan nan nan nan nan nan nan nan]\n",
      " [nan nan nan nan nan nan nan nan]\n",
      " [nan nan nan nan nan nan nan nan]\n",
      " [nan nan nan nan nan nan nan nan]\n",
      " [nan nan nan nan nan nan nan nan]\n",
      " [nan nan nan nan nan nan nan nan]\n",
      " [nan nan nan nan nan nan nan nan]\n",
      " [nan nan nan nan nan nan nan nan]\n",
      " [nan nan nan nan nan nan nan nan]\n",
      " [nan nan nan nan nan nan nan nan]]\n",
      "epoch: 2\n",
      "NDCG@100 | train: 1.983283200929461e-05, test: 0.3027484202546265\n",
      "epoch 2\n"
     ]
    },
    {
     "name": "stderr",
     "output_type": "stream",
     "text": [
      "100%|███████████████████████████████████████████████████████████████████████████████████| 5/5 [00:00<00:00, 172.88it/s]\n"
     ]
    },
    {
     "name": "stdout",
     "output_type": "stream",
     "text": [
      "train mean loss=0.0\n"
     ]
    },
    {
     "name": "stderr",
     "output_type": "stream",
     "text": [
      "100%|███████████████████████████████████████████████████████████████████████████████████| 1/1 [00:00<00:00, 252.59it/s]\n"
     ]
    },
    {
     "name": "stdout",
     "output_type": "stream",
     "text": [
      "test  mean loss=0.0\n",
      "[[0.0000000e+00 3.0000000e+00 1.9000000e+01 ... 0.0000000e+00\n",
      "  0.0000000e+00 0.0000000e+00]\n",
      " [0.0000000e+00 6.8000000e+01 6.7000000e+01 ... 1.0000000e+00\n",
      "  0.0000000e+00 0.0000000e+00]\n",
      " [0.0000000e+00 1.0100000e+02 3.0000000e+01 ... 5.0000000e+00\n",
      "  3.3856640e+07 0.0000000e+00]\n",
      " ...\n",
      " [0.0000000e+00 7.5700000e+02 2.9000000e+01 ... 6.8000000e+01\n",
      "  0.0000000e+00 0.0000000e+00]\n",
      " [0.0000000e+00 5.5300000e+02 3.3600000e+02 ... 4.0000000e+01\n",
      "  3.3856644e+07 0.0000000e+00]\n",
      " [0.0000000e+00 3.8000000e+02 5.8000000e+01 ... 9.0000000e+00\n",
      "  3.3856640e+07 0.0000000e+00]]\n",
      "[[nan nan nan ... nan nan nan]\n",
      " [nan nan nan ... nan nan nan]\n",
      " [nan nan nan ... nan nan nan]\n",
      " ...\n",
      " [nan nan nan ... nan nan nan]\n",
      " [nan nan nan ... nan nan nan]\n",
      " [nan nan nan ... nan nan nan]]\n",
      "[[1.0000000e+00 3.3856644e+07 5.8000000e+01 8.0160000e+03 0.0000000e+00\n",
      "  1.3030000e+05 1.8000000e+03 9.7000000e+03 6.9638780e+06 0.0000000e+00]\n",
      " [0.0000000e+00 7.1300000e+02 1.7600000e+02 0.0000000e+00 0.0000000e+00\n",
      "  5.8000000e+01 5.0000000e+00 7.0000000e+00 3.3856640e+07 0.0000000e+00]\n",
      " [0.0000000e+00 6.2500000e+02 3.0000000e+00 0.0000000e+00 0.0000000e+00\n",
      "  3.2500000e+02 8.0000000e+00 6.0000000e+01 0.0000000e+00 0.0000000e+00]\n",
      " [1.0000000e+00 1.8454200e+05 1.4400000e+02 1.7000000e+02 1.0000000e+00\n",
      "  1.2400000e+02 0.0000000e+00 7.0000000e+00 0.0000000e+00 1.0000000e+00]\n",
      " [0.0000000e+00 4.1180000e+03 5.0010000e+03 0.0000000e+00 0.0000000e+00\n",
      "  1.8900000e+02 1.0000000e+00 1.9700000e+02 3.7002000e+04 0.0000000e+00]\n",
      " [0.0000000e+00 7.5700000e+02 2.9000000e+01 2.0000000e+00 0.0000000e+00\n",
      "  1.0200000e+02 1.0000000e+00 1.8000000e+01 0.0000000e+00 0.0000000e+00]\n",
      " [0.0000000e+00 2.8190000e+03 3.0590000e+03 0.0000000e+00 1.0000000e+00\n",
      "  5.0000000e+00 0.0000000e+00 5.0000000e+00 0.0000000e+00 0.0000000e+00]\n",
      " [0.0000000e+00 1.9000000e+01 4.5000000e+01 0.0000000e+00 0.0000000e+00\n",
      "  3.0000000e+00 0.0000000e+00 2.0000000e+00 1.9790000e+03 0.0000000e+00]\n",
      " [0.0000000e+00 7.2600000e+02 0.0000000e+00 4.0000000e+00 1.0000000e+00\n",
      "  1.4400000e+02 4.0000000e+00 3.9000000e+01 0.0000000e+00 0.0000000e+00]\n",
      " [1.0000000e+00 1.2827000e+05 8.0700000e+02 2.2300000e+02 1.0000000e+00\n",
      "  1.0000000e+03 1.2000000e+01 1.2700000e+02 3.3856640e+07 0.0000000e+00]\n",
      " [0.0000000e+00 2.5000000e+02 1.0400000e+02 0.0000000e+00 1.0000000e+00\n",
      "  8.4000000e+01 8.0000000e+00 2.2000000e+01 0.0000000e+00 0.0000000e+00]\n",
      " [0.0000000e+00 1.5540000e+03 4.9740000e+03 0.0000000e+00 0.0000000e+00\n",
      "  1.2000000e+01 2.0000000e+00 5.0000000e+00 0.0000000e+00 0.0000000e+00]]\n",
      "[[nan nan nan nan nan nan nan nan]\n",
      " [nan nan nan nan nan nan nan nan]\n",
      " [nan nan nan nan nan nan nan nan]\n",
      " [nan nan nan nan nan nan nan nan]\n",
      " [nan nan nan nan nan nan nan nan]\n",
      " [nan nan nan nan nan nan nan nan]\n",
      " [nan nan nan nan nan nan nan nan]\n",
      " [nan nan nan nan nan nan nan nan]\n",
      " [nan nan nan nan nan nan nan nan]\n",
      " [nan nan nan nan nan nan nan nan]\n",
      " [nan nan nan nan nan nan nan nan]\n",
      " [nan nan nan nan nan nan nan nan]]\n",
      "epoch: 3\n",
      "NDCG@100 | train: 1.983283200929461e-05, test: 0.3027484202546265\n",
      "epoch 3\n"
     ]
    },
    {
     "name": "stderr",
     "output_type": "stream",
     "text": [
      "100%|███████████████████████████████████████████████████████████████████████████████████| 5/5 [00:00<00:00, 135.50it/s]\n"
     ]
    },
    {
     "name": "stdout",
     "output_type": "stream",
     "text": [
      "train mean loss=0.0\n"
     ]
    },
    {
     "name": "stderr",
     "output_type": "stream",
     "text": [
      "100%|███████████████████████████████████████████████████████████████████████████████████| 1/1 [00:00<00:00, 167.09it/s]\n"
     ]
    },
    {
     "name": "stdout",
     "output_type": "stream",
     "text": [
      "test  mean loss=0.0\n",
      "[[0.0000000e+00 3.0000000e+00 1.9000000e+01 ... 0.0000000e+00\n",
      "  0.0000000e+00 0.0000000e+00]\n",
      " [0.0000000e+00 6.8000000e+01 6.7000000e+01 ... 1.0000000e+00\n",
      "  0.0000000e+00 0.0000000e+00]\n",
      " [0.0000000e+00 1.0100000e+02 3.0000000e+01 ... 5.0000000e+00\n",
      "  3.3856640e+07 0.0000000e+00]\n",
      " ...\n",
      " [0.0000000e+00 7.5700000e+02 2.9000000e+01 ... 6.8000000e+01\n",
      "  0.0000000e+00 0.0000000e+00]\n",
      " [0.0000000e+00 5.5300000e+02 3.3600000e+02 ... 4.0000000e+01\n",
      "  3.3856644e+07 0.0000000e+00]\n",
      " [0.0000000e+00 3.8000000e+02 5.8000000e+01 ... 9.0000000e+00\n",
      "  3.3856640e+07 0.0000000e+00]]\n",
      "[[nan nan nan ... nan nan nan]\n",
      " [nan nan nan ... nan nan nan]\n",
      " [nan nan nan ... nan nan nan]\n",
      " ...\n",
      " [nan nan nan ... nan nan nan]\n",
      " [nan nan nan ... nan nan nan]\n",
      " [nan nan nan ... nan nan nan]]\n",
      "[[1.0000000e+00 3.3856644e+07 5.8000000e+01 8.0160000e+03 0.0000000e+00\n",
      "  1.3030000e+05 1.8000000e+03 9.7000000e+03 6.9638780e+06 0.0000000e+00]\n",
      " [0.0000000e+00 7.1300000e+02 1.7600000e+02 0.0000000e+00 0.0000000e+00\n",
      "  5.8000000e+01 5.0000000e+00 7.0000000e+00 3.3856640e+07 0.0000000e+00]\n",
      " [0.0000000e+00 6.2500000e+02 3.0000000e+00 0.0000000e+00 0.0000000e+00\n",
      "  3.2500000e+02 8.0000000e+00 6.0000000e+01 0.0000000e+00 0.0000000e+00]\n",
      " [1.0000000e+00 1.8454200e+05 1.4400000e+02 1.7000000e+02 1.0000000e+00\n",
      "  1.2400000e+02 0.0000000e+00 7.0000000e+00 0.0000000e+00 1.0000000e+00]\n",
      " [0.0000000e+00 4.1180000e+03 5.0010000e+03 0.0000000e+00 0.0000000e+00\n",
      "  1.8900000e+02 1.0000000e+00 1.9700000e+02 3.7002000e+04 0.0000000e+00]\n",
      " [0.0000000e+00 7.5700000e+02 2.9000000e+01 2.0000000e+00 0.0000000e+00\n",
      "  1.0200000e+02 1.0000000e+00 1.8000000e+01 0.0000000e+00 0.0000000e+00]\n",
      " [0.0000000e+00 2.8190000e+03 3.0590000e+03 0.0000000e+00 1.0000000e+00\n",
      "  5.0000000e+00 0.0000000e+00 5.0000000e+00 0.0000000e+00 0.0000000e+00]\n",
      " [0.0000000e+00 1.9000000e+01 4.5000000e+01 0.0000000e+00 0.0000000e+00\n",
      "  3.0000000e+00 0.0000000e+00 2.0000000e+00 1.9790000e+03 0.0000000e+00]\n",
      " [0.0000000e+00 7.2600000e+02 0.0000000e+00 4.0000000e+00 1.0000000e+00\n",
      "  1.4400000e+02 4.0000000e+00 3.9000000e+01 0.0000000e+00 0.0000000e+00]\n",
      " [1.0000000e+00 1.2827000e+05 8.0700000e+02 2.2300000e+02 1.0000000e+00\n",
      "  1.0000000e+03 1.2000000e+01 1.2700000e+02 3.3856640e+07 0.0000000e+00]\n",
      " [0.0000000e+00 2.5000000e+02 1.0400000e+02 0.0000000e+00 1.0000000e+00\n",
      "  8.4000000e+01 8.0000000e+00 2.2000000e+01 0.0000000e+00 0.0000000e+00]\n",
      " [0.0000000e+00 1.5540000e+03 4.9740000e+03 0.0000000e+00 0.0000000e+00\n",
      "  1.2000000e+01 2.0000000e+00 5.0000000e+00 0.0000000e+00 0.0000000e+00]]\n",
      "[[nan nan nan nan nan nan nan nan]\n",
      " [nan nan nan nan nan nan nan nan]\n",
      " [nan nan nan nan nan nan nan nan]\n",
      " [nan nan nan nan nan nan nan nan]\n",
      " [nan nan nan nan nan nan nan nan]\n",
      " [nan nan nan nan nan nan nan nan]\n",
      " [nan nan nan nan nan nan nan nan]\n",
      " [nan nan nan nan nan nan nan nan]\n",
      " [nan nan nan nan nan nan nan nan]\n",
      " [nan nan nan nan nan nan nan nan]\n",
      " [nan nan nan nan nan nan nan nan]\n",
      " [nan nan nan nan nan nan nan nan]]\n",
      "epoch: 4\n",
      "NDCG@100 | train: 1.983283200929461e-05, test: 0.3027484202546265\n",
      "epoch 4\n"
     ]
    },
    {
     "name": "stderr",
     "output_type": "stream",
     "text": [
      "100%|███████████████████████████████████████████████████████████████████████████████████| 5/5 [00:00<00:00, 161.79it/s]\n"
     ]
    },
    {
     "name": "stdout",
     "output_type": "stream",
     "text": [
      "train mean loss=0.0\n"
     ]
    },
    {
     "name": "stderr",
     "output_type": "stream",
     "text": [
      "100%|███████████████████████████████████████████████████████████████████████████████████| 1/1 [00:00<00:00, 334.05it/s]\n"
     ]
    },
    {
     "name": "stdout",
     "output_type": "stream",
     "text": [
      "test  mean loss=0.0\n",
      "[[0.0000000e+00 3.0000000e+00 1.9000000e+01 ... 0.0000000e+00\n",
      "  0.0000000e+00 0.0000000e+00]\n",
      " [0.0000000e+00 6.8000000e+01 6.7000000e+01 ... 1.0000000e+00\n",
      "  0.0000000e+00 0.0000000e+00]\n",
      " [0.0000000e+00 1.0100000e+02 3.0000000e+01 ... 5.0000000e+00\n",
      "  3.3856640e+07 0.0000000e+00]\n",
      " ...\n",
      " [0.0000000e+00 7.5700000e+02 2.9000000e+01 ... 6.8000000e+01\n",
      "  0.0000000e+00 0.0000000e+00]\n",
      " [0.0000000e+00 5.5300000e+02 3.3600000e+02 ... 4.0000000e+01\n",
      "  3.3856644e+07 0.0000000e+00]\n",
      " [0.0000000e+00 3.8000000e+02 5.8000000e+01 ... 9.0000000e+00\n",
      "  3.3856640e+07 0.0000000e+00]]\n",
      "[[nan nan nan ... nan nan nan]\n",
      " [nan nan nan ... nan nan nan]\n",
      " [nan nan nan ... nan nan nan]\n",
      " ...\n",
      " [nan nan nan ... nan nan nan]\n",
      " [nan nan nan ... nan nan nan]\n",
      " [nan nan nan ... nan nan nan]]\n",
      "[[1.0000000e+00 3.3856644e+07 5.8000000e+01 8.0160000e+03 0.0000000e+00\n",
      "  1.3030000e+05 1.8000000e+03 9.7000000e+03 6.9638780e+06 0.0000000e+00]\n",
      " [0.0000000e+00 7.1300000e+02 1.7600000e+02 0.0000000e+00 0.0000000e+00\n",
      "  5.8000000e+01 5.0000000e+00 7.0000000e+00 3.3856640e+07 0.0000000e+00]\n",
      " [0.0000000e+00 6.2500000e+02 3.0000000e+00 0.0000000e+00 0.0000000e+00\n",
      "  3.2500000e+02 8.0000000e+00 6.0000000e+01 0.0000000e+00 0.0000000e+00]\n",
      " [1.0000000e+00 1.8454200e+05 1.4400000e+02 1.7000000e+02 1.0000000e+00\n",
      "  1.2400000e+02 0.0000000e+00 7.0000000e+00 0.0000000e+00 1.0000000e+00]\n",
      " [0.0000000e+00 4.1180000e+03 5.0010000e+03 0.0000000e+00 0.0000000e+00\n",
      "  1.8900000e+02 1.0000000e+00 1.9700000e+02 3.7002000e+04 0.0000000e+00]\n",
      " [0.0000000e+00 7.5700000e+02 2.9000000e+01 2.0000000e+00 0.0000000e+00\n",
      "  1.0200000e+02 1.0000000e+00 1.8000000e+01 0.0000000e+00 0.0000000e+00]\n",
      " [0.0000000e+00 2.8190000e+03 3.0590000e+03 0.0000000e+00 1.0000000e+00\n",
      "  5.0000000e+00 0.0000000e+00 5.0000000e+00 0.0000000e+00 0.0000000e+00]\n",
      " [0.0000000e+00 1.9000000e+01 4.5000000e+01 0.0000000e+00 0.0000000e+00\n",
      "  3.0000000e+00 0.0000000e+00 2.0000000e+00 1.9790000e+03 0.0000000e+00]\n",
      " [0.0000000e+00 7.2600000e+02 0.0000000e+00 4.0000000e+00 1.0000000e+00\n",
      "  1.4400000e+02 4.0000000e+00 3.9000000e+01 0.0000000e+00 0.0000000e+00]\n",
      " [1.0000000e+00 1.2827000e+05 8.0700000e+02 2.2300000e+02 1.0000000e+00\n",
      "  1.0000000e+03 1.2000000e+01 1.2700000e+02 3.3856640e+07 0.0000000e+00]\n",
      " [0.0000000e+00 2.5000000e+02 1.0400000e+02 0.0000000e+00 1.0000000e+00\n",
      "  8.4000000e+01 8.0000000e+00 2.2000000e+01 0.0000000e+00 0.0000000e+00]\n",
      " [0.0000000e+00 1.5540000e+03 4.9740000e+03 0.0000000e+00 0.0000000e+00\n",
      "  1.2000000e+01 2.0000000e+00 5.0000000e+00 0.0000000e+00 0.0000000e+00]]\n",
      "[[nan nan nan nan nan nan nan nan]\n",
      " [nan nan nan nan nan nan nan nan]\n",
      " [nan nan nan nan nan nan nan nan]\n",
      " [nan nan nan nan nan nan nan nan]\n",
      " [nan nan nan nan nan nan nan nan]\n",
      " [nan nan nan nan nan nan nan nan]\n",
      " [nan nan nan nan nan nan nan nan]\n",
      " [nan nan nan nan nan nan nan nan]\n",
      " [nan nan nan nan nan nan nan nan]\n",
      " [nan nan nan nan nan nan nan nan]\n",
      " [nan nan nan nan nan nan nan nan]\n",
      " [nan nan nan nan nan nan nan nan]]\n",
      "epoch: 5\n",
      "NDCG@100 | train: 1.983283200929461e-05, test: 0.3027484202546265\n",
      "epoch 5\n"
     ]
    },
    {
     "name": "stderr",
     "output_type": "stream",
     "text": [
      "100%|███████████████████████████████████████████████████████████████████████████████████| 5/5 [00:00<00:00, 192.82it/s]\n"
     ]
    },
    {
     "name": "stdout",
     "output_type": "stream",
     "text": [
      "train mean loss=0.0\n"
     ]
    },
    {
     "name": "stderr",
     "output_type": "stream",
     "text": [
      "100%|███████████████████████████████████████████████████████████████████████████████████| 1/1 [00:00<00:00, 334.18it/s]\n"
     ]
    },
    {
     "name": "stdout",
     "output_type": "stream",
     "text": [
      "test  mean loss=0.0\n",
      "[[0.0000000e+00 3.0000000e+00 1.9000000e+01 ... 0.0000000e+00\n",
      "  0.0000000e+00 0.0000000e+00]\n",
      " [0.0000000e+00 6.8000000e+01 6.7000000e+01 ... 1.0000000e+00\n",
      "  0.0000000e+00 0.0000000e+00]\n",
      " [0.0000000e+00 1.0100000e+02 3.0000000e+01 ... 5.0000000e+00\n",
      "  3.3856640e+07 0.0000000e+00]\n",
      " ...\n",
      " [0.0000000e+00 7.5700000e+02 2.9000000e+01 ... 6.8000000e+01\n",
      "  0.0000000e+00 0.0000000e+00]\n",
      " [0.0000000e+00 5.5300000e+02 3.3600000e+02 ... 4.0000000e+01\n",
      "  3.3856644e+07 0.0000000e+00]\n",
      " [0.0000000e+00 3.8000000e+02 5.8000000e+01 ... 9.0000000e+00\n",
      "  3.3856640e+07 0.0000000e+00]]\n",
      "[[nan nan nan ... nan nan nan]\n",
      " [nan nan nan ... nan nan nan]\n",
      " [nan nan nan ... nan nan nan]\n",
      " ...\n",
      " [nan nan nan ... nan nan nan]\n",
      " [nan nan nan ... nan nan nan]\n",
      " [nan nan nan ... nan nan nan]]\n",
      "[[1.0000000e+00 3.3856644e+07 5.8000000e+01 8.0160000e+03 0.0000000e+00\n",
      "  1.3030000e+05 1.8000000e+03 9.7000000e+03 6.9638780e+06 0.0000000e+00]\n",
      " [0.0000000e+00 7.1300000e+02 1.7600000e+02 0.0000000e+00 0.0000000e+00\n",
      "  5.8000000e+01 5.0000000e+00 7.0000000e+00 3.3856640e+07 0.0000000e+00]\n",
      " [0.0000000e+00 6.2500000e+02 3.0000000e+00 0.0000000e+00 0.0000000e+00\n",
      "  3.2500000e+02 8.0000000e+00 6.0000000e+01 0.0000000e+00 0.0000000e+00]\n",
      " [1.0000000e+00 1.8454200e+05 1.4400000e+02 1.7000000e+02 1.0000000e+00\n",
      "  1.2400000e+02 0.0000000e+00 7.0000000e+00 0.0000000e+00 1.0000000e+00]\n",
      " [0.0000000e+00 4.1180000e+03 5.0010000e+03 0.0000000e+00 0.0000000e+00\n",
      "  1.8900000e+02 1.0000000e+00 1.9700000e+02 3.7002000e+04 0.0000000e+00]\n",
      " [0.0000000e+00 7.5700000e+02 2.9000000e+01 2.0000000e+00 0.0000000e+00\n",
      "  1.0200000e+02 1.0000000e+00 1.8000000e+01 0.0000000e+00 0.0000000e+00]\n",
      " [0.0000000e+00 2.8190000e+03 3.0590000e+03 0.0000000e+00 1.0000000e+00\n",
      "  5.0000000e+00 0.0000000e+00 5.0000000e+00 0.0000000e+00 0.0000000e+00]\n",
      " [0.0000000e+00 1.9000000e+01 4.5000000e+01 0.0000000e+00 0.0000000e+00\n",
      "  3.0000000e+00 0.0000000e+00 2.0000000e+00 1.9790000e+03 0.0000000e+00]\n",
      " [0.0000000e+00 7.2600000e+02 0.0000000e+00 4.0000000e+00 1.0000000e+00\n",
      "  1.4400000e+02 4.0000000e+00 3.9000000e+01 0.0000000e+00 0.0000000e+00]\n",
      " [1.0000000e+00 1.2827000e+05 8.0700000e+02 2.2300000e+02 1.0000000e+00\n",
      "  1.0000000e+03 1.2000000e+01 1.2700000e+02 3.3856640e+07 0.0000000e+00]\n",
      " [0.0000000e+00 2.5000000e+02 1.0400000e+02 0.0000000e+00 1.0000000e+00\n",
      "  8.4000000e+01 8.0000000e+00 2.2000000e+01 0.0000000e+00 0.0000000e+00]\n",
      " [0.0000000e+00 1.5540000e+03 4.9740000e+03 0.0000000e+00 0.0000000e+00\n",
      "  1.2000000e+01 2.0000000e+00 5.0000000e+00 0.0000000e+00 0.0000000e+00]]\n",
      "[[nan nan nan nan nan nan nan nan]\n",
      " [nan nan nan nan nan nan nan nan]\n",
      " [nan nan nan nan nan nan nan nan]\n",
      " [nan nan nan nan nan nan nan nan]\n",
      " [nan nan nan nan nan nan nan nan]\n",
      " [nan nan nan nan nan nan nan nan]\n",
      " [nan nan nan nan nan nan nan nan]\n",
      " [nan nan nan nan nan nan nan nan]\n",
      " [nan nan nan nan nan nan nan nan]\n",
      " [nan nan nan nan nan nan nan nan]\n",
      " [nan nan nan nan nan nan nan nan]\n",
      " [nan nan nan nan nan nan nan nan]]\n",
      "epoch: 6\n",
      "NDCG@100 | train: 1.983283200929461e-05, test: 0.3027484202546265\n",
      "epoch 6\n"
     ]
    },
    {
     "name": "stderr",
     "output_type": "stream",
     "text": [
      "100%|███████████████████████████████████████████████████████████████████████████████████| 5/5 [00:00<00:00, 238.73it/s]\n"
     ]
    },
    {
     "name": "stdout",
     "output_type": "stream",
     "text": [
      "train mean loss=0.0\n"
     ]
    },
    {
     "name": "stderr",
     "output_type": "stream",
     "text": [
      "100%|███████████████████████████████████████████████████████████████████████████████████| 1/1 [00:00<00:00, 167.08it/s]\n"
     ]
    },
    {
     "name": "stdout",
     "output_type": "stream",
     "text": [
      "test  mean loss=0.0\n",
      "[[0.0000000e+00 3.0000000e+00 1.9000000e+01 ... 0.0000000e+00\n",
      "  0.0000000e+00 0.0000000e+00]\n",
      " [0.0000000e+00 6.8000000e+01 6.7000000e+01 ... 1.0000000e+00\n",
      "  0.0000000e+00 0.0000000e+00]\n",
      " [0.0000000e+00 1.0100000e+02 3.0000000e+01 ... 5.0000000e+00\n",
      "  3.3856640e+07 0.0000000e+00]\n",
      " ...\n",
      " [0.0000000e+00 7.5700000e+02 2.9000000e+01 ... 6.8000000e+01\n",
      "  0.0000000e+00 0.0000000e+00]\n",
      " [0.0000000e+00 5.5300000e+02 3.3600000e+02 ... 4.0000000e+01\n",
      "  3.3856644e+07 0.0000000e+00]\n",
      " [0.0000000e+00 3.8000000e+02 5.8000000e+01 ... 9.0000000e+00\n",
      "  3.3856640e+07 0.0000000e+00]]\n",
      "[[nan nan nan ... nan nan nan]\n",
      " [nan nan nan ... nan nan nan]\n",
      " [nan nan nan ... nan nan nan]\n",
      " ...\n",
      " [nan nan nan ... nan nan nan]\n",
      " [nan nan nan ... nan nan nan]\n",
      " [nan nan nan ... nan nan nan]]\n",
      "[[1.0000000e+00 3.3856644e+07 5.8000000e+01 8.0160000e+03 0.0000000e+00\n",
      "  1.3030000e+05 1.8000000e+03 9.7000000e+03 6.9638780e+06 0.0000000e+00]\n",
      " [0.0000000e+00 7.1300000e+02 1.7600000e+02 0.0000000e+00 0.0000000e+00\n",
      "  5.8000000e+01 5.0000000e+00 7.0000000e+00 3.3856640e+07 0.0000000e+00]\n",
      " [0.0000000e+00 6.2500000e+02 3.0000000e+00 0.0000000e+00 0.0000000e+00\n",
      "  3.2500000e+02 8.0000000e+00 6.0000000e+01 0.0000000e+00 0.0000000e+00]\n",
      " [1.0000000e+00 1.8454200e+05 1.4400000e+02 1.7000000e+02 1.0000000e+00\n",
      "  1.2400000e+02 0.0000000e+00 7.0000000e+00 0.0000000e+00 1.0000000e+00]\n",
      " [0.0000000e+00 4.1180000e+03 5.0010000e+03 0.0000000e+00 0.0000000e+00\n",
      "  1.8900000e+02 1.0000000e+00 1.9700000e+02 3.7002000e+04 0.0000000e+00]\n",
      " [0.0000000e+00 7.5700000e+02 2.9000000e+01 2.0000000e+00 0.0000000e+00\n",
      "  1.0200000e+02 1.0000000e+00 1.8000000e+01 0.0000000e+00 0.0000000e+00]\n",
      " [0.0000000e+00 2.8190000e+03 3.0590000e+03 0.0000000e+00 1.0000000e+00\n",
      "  5.0000000e+00 0.0000000e+00 5.0000000e+00 0.0000000e+00 0.0000000e+00]\n",
      " [0.0000000e+00 1.9000000e+01 4.5000000e+01 0.0000000e+00 0.0000000e+00\n",
      "  3.0000000e+00 0.0000000e+00 2.0000000e+00 1.9790000e+03 0.0000000e+00]\n",
      " [0.0000000e+00 7.2600000e+02 0.0000000e+00 4.0000000e+00 1.0000000e+00\n",
      "  1.4400000e+02 4.0000000e+00 3.9000000e+01 0.0000000e+00 0.0000000e+00]\n",
      " [1.0000000e+00 1.2827000e+05 8.0700000e+02 2.2300000e+02 1.0000000e+00\n",
      "  1.0000000e+03 1.2000000e+01 1.2700000e+02 3.3856640e+07 0.0000000e+00]\n",
      " [0.0000000e+00 2.5000000e+02 1.0400000e+02 0.0000000e+00 1.0000000e+00\n",
      "  8.4000000e+01 8.0000000e+00 2.2000000e+01 0.0000000e+00 0.0000000e+00]\n",
      " [0.0000000e+00 1.5540000e+03 4.9740000e+03 0.0000000e+00 0.0000000e+00\n",
      "  1.2000000e+01 2.0000000e+00 5.0000000e+00 0.0000000e+00 0.0000000e+00]]\n",
      "[[nan nan nan nan nan nan nan nan]\n",
      " [nan nan nan nan nan nan nan nan]\n",
      " [nan nan nan nan nan nan nan nan]\n",
      " [nan nan nan nan nan nan nan nan]\n",
      " [nan nan nan nan nan nan nan nan]\n",
      " [nan nan nan nan nan nan nan nan]\n",
      " [nan nan nan nan nan nan nan nan]\n",
      " [nan nan nan nan nan nan nan nan]\n",
      " [nan nan nan nan nan nan nan nan]\n",
      " [nan nan nan nan nan nan nan nan]\n",
      " [nan nan nan nan nan nan nan nan]\n",
      " [nan nan nan nan nan nan nan nan]]\n",
      "epoch: 7\n",
      "NDCG@100 | train: 1.983283200929461e-05, test: 0.3027484202546265\n",
      "epoch 7\n"
     ]
    },
    {
     "name": "stderr",
     "output_type": "stream",
     "text": [
      "100%|███████████████████████████████████████████████████████████████████████████████████| 5/5 [00:00<00:00, 161.72it/s]\n"
     ]
    },
    {
     "name": "stdout",
     "output_type": "stream",
     "text": [
      "train mean loss=0.0\n"
     ]
    },
    {
     "name": "stderr",
     "output_type": "stream",
     "text": [
      "100%|███████████████████████████████████████████████████████████████████████████████████| 1/1 [00:00<00:00, 250.71it/s]\n"
     ]
    },
    {
     "name": "stdout",
     "output_type": "stream",
     "text": [
      "test  mean loss=0.0\n",
      "[[0.0000000e+00 3.0000000e+00 1.9000000e+01 ... 0.0000000e+00\n",
      "  0.0000000e+00 0.0000000e+00]\n",
      " [0.0000000e+00 6.8000000e+01 6.7000000e+01 ... 1.0000000e+00\n",
      "  0.0000000e+00 0.0000000e+00]\n",
      " [0.0000000e+00 1.0100000e+02 3.0000000e+01 ... 5.0000000e+00\n",
      "  3.3856640e+07 0.0000000e+00]\n",
      " ...\n",
      " [0.0000000e+00 7.5700000e+02 2.9000000e+01 ... 6.8000000e+01\n",
      "  0.0000000e+00 0.0000000e+00]\n",
      " [0.0000000e+00 5.5300000e+02 3.3600000e+02 ... 4.0000000e+01\n",
      "  3.3856644e+07 0.0000000e+00]\n",
      " [0.0000000e+00 3.8000000e+02 5.8000000e+01 ... 9.0000000e+00\n",
      "  3.3856640e+07 0.0000000e+00]]\n",
      "[[nan nan nan ... nan nan nan]\n",
      " [nan nan nan ... nan nan nan]\n",
      " [nan nan nan ... nan nan nan]\n",
      " ...\n",
      " [nan nan nan ... nan nan nan]\n",
      " [nan nan nan ... nan nan nan]\n",
      " [nan nan nan ... nan nan nan]]\n",
      "[[1.0000000e+00 3.3856644e+07 5.8000000e+01 8.0160000e+03 0.0000000e+00\n",
      "  1.3030000e+05 1.8000000e+03 9.7000000e+03 6.9638780e+06 0.0000000e+00]\n",
      " [0.0000000e+00 7.1300000e+02 1.7600000e+02 0.0000000e+00 0.0000000e+00\n",
      "  5.8000000e+01 5.0000000e+00 7.0000000e+00 3.3856640e+07 0.0000000e+00]\n",
      " [0.0000000e+00 6.2500000e+02 3.0000000e+00 0.0000000e+00 0.0000000e+00\n",
      "  3.2500000e+02 8.0000000e+00 6.0000000e+01 0.0000000e+00 0.0000000e+00]\n",
      " [1.0000000e+00 1.8454200e+05 1.4400000e+02 1.7000000e+02 1.0000000e+00\n",
      "  1.2400000e+02 0.0000000e+00 7.0000000e+00 0.0000000e+00 1.0000000e+00]\n",
      " [0.0000000e+00 4.1180000e+03 5.0010000e+03 0.0000000e+00 0.0000000e+00\n",
      "  1.8900000e+02 1.0000000e+00 1.9700000e+02 3.7002000e+04 0.0000000e+00]\n",
      " [0.0000000e+00 7.5700000e+02 2.9000000e+01 2.0000000e+00 0.0000000e+00\n",
      "  1.0200000e+02 1.0000000e+00 1.8000000e+01 0.0000000e+00 0.0000000e+00]\n",
      " [0.0000000e+00 2.8190000e+03 3.0590000e+03 0.0000000e+00 1.0000000e+00\n",
      "  5.0000000e+00 0.0000000e+00 5.0000000e+00 0.0000000e+00 0.0000000e+00]\n",
      " [0.0000000e+00 1.9000000e+01 4.5000000e+01 0.0000000e+00 0.0000000e+00\n",
      "  3.0000000e+00 0.0000000e+00 2.0000000e+00 1.9790000e+03 0.0000000e+00]\n",
      " [0.0000000e+00 7.2600000e+02 0.0000000e+00 4.0000000e+00 1.0000000e+00\n",
      "  1.4400000e+02 4.0000000e+00 3.9000000e+01 0.0000000e+00 0.0000000e+00]\n",
      " [1.0000000e+00 1.2827000e+05 8.0700000e+02 2.2300000e+02 1.0000000e+00\n",
      "  1.0000000e+03 1.2000000e+01 1.2700000e+02 3.3856640e+07 0.0000000e+00]\n",
      " [0.0000000e+00 2.5000000e+02 1.0400000e+02 0.0000000e+00 1.0000000e+00\n",
      "  8.4000000e+01 8.0000000e+00 2.2000000e+01 0.0000000e+00 0.0000000e+00]\n",
      " [0.0000000e+00 1.5540000e+03 4.9740000e+03 0.0000000e+00 0.0000000e+00\n",
      "  1.2000000e+01 2.0000000e+00 5.0000000e+00 0.0000000e+00 0.0000000e+00]]\n",
      "[[nan nan nan nan nan nan nan nan]\n",
      " [nan nan nan nan nan nan nan nan]\n",
      " [nan nan nan nan nan nan nan nan]\n",
      " [nan nan nan nan nan nan nan nan]\n",
      " [nan nan nan nan nan nan nan nan]\n",
      " [nan nan nan nan nan nan nan nan]\n",
      " [nan nan nan nan nan nan nan nan]\n",
      " [nan nan nan nan nan nan nan nan]\n",
      " [nan nan nan nan nan nan nan nan]\n",
      " [nan nan nan nan nan nan nan nan]\n",
      " [nan nan nan nan nan nan nan nan]\n",
      " [nan nan nan nan nan nan nan nan]]\n",
      "epoch: 8\n",
      "NDCG@100 | train: 1.983283200929461e-05, test: 0.3027484202546265\n",
      "epoch 8\n"
     ]
    },
    {
     "name": "stderr",
     "output_type": "stream",
     "text": [
      "100%|███████████████████████████████████████████████████████████████████████████████████| 5/5 [00:00<00:00, 167.10it/s]\n"
     ]
    },
    {
     "name": "stdout",
     "output_type": "stream",
     "text": [
      "train mean loss=0.0\n"
     ]
    },
    {
     "name": "stderr",
     "output_type": "stream",
     "text": [
      "100%|███████████████████████████████████████████████████████████████████████████████████| 1/1 [00:00<00:00, 167.08it/s]\n"
     ]
    },
    {
     "name": "stdout",
     "output_type": "stream",
     "text": [
      "test  mean loss=0.0\n",
      "[[0.0000000e+00 3.0000000e+00 1.9000000e+01 ... 0.0000000e+00\n",
      "  0.0000000e+00 0.0000000e+00]\n",
      " [0.0000000e+00 6.8000000e+01 6.7000000e+01 ... 1.0000000e+00\n",
      "  0.0000000e+00 0.0000000e+00]\n",
      " [0.0000000e+00 1.0100000e+02 3.0000000e+01 ... 5.0000000e+00\n",
      "  3.3856640e+07 0.0000000e+00]\n",
      " ...\n",
      " [0.0000000e+00 7.5700000e+02 2.9000000e+01 ... 6.8000000e+01\n",
      "  0.0000000e+00 0.0000000e+00]\n",
      " [0.0000000e+00 5.5300000e+02 3.3600000e+02 ... 4.0000000e+01\n",
      "  3.3856644e+07 0.0000000e+00]\n",
      " [0.0000000e+00 3.8000000e+02 5.8000000e+01 ... 9.0000000e+00\n",
      "  3.3856640e+07 0.0000000e+00]]\n",
      "[[nan nan nan ... nan nan nan]\n",
      " [nan nan nan ... nan nan nan]\n",
      " [nan nan nan ... nan nan nan]\n",
      " ...\n",
      " [nan nan nan ... nan nan nan]\n",
      " [nan nan nan ... nan nan nan]\n",
      " [nan nan nan ... nan nan nan]]\n",
      "[[1.0000000e+00 3.3856644e+07 5.8000000e+01 8.0160000e+03 0.0000000e+00\n",
      "  1.3030000e+05 1.8000000e+03 9.7000000e+03 6.9638780e+06 0.0000000e+00]\n",
      " [0.0000000e+00 7.1300000e+02 1.7600000e+02 0.0000000e+00 0.0000000e+00\n",
      "  5.8000000e+01 5.0000000e+00 7.0000000e+00 3.3856640e+07 0.0000000e+00]\n",
      " [0.0000000e+00 6.2500000e+02 3.0000000e+00 0.0000000e+00 0.0000000e+00\n",
      "  3.2500000e+02 8.0000000e+00 6.0000000e+01 0.0000000e+00 0.0000000e+00]\n",
      " [1.0000000e+00 1.8454200e+05 1.4400000e+02 1.7000000e+02 1.0000000e+00\n",
      "  1.2400000e+02 0.0000000e+00 7.0000000e+00 0.0000000e+00 1.0000000e+00]\n",
      " [0.0000000e+00 4.1180000e+03 5.0010000e+03 0.0000000e+00 0.0000000e+00\n",
      "  1.8900000e+02 1.0000000e+00 1.9700000e+02 3.7002000e+04 0.0000000e+00]\n",
      " [0.0000000e+00 7.5700000e+02 2.9000000e+01 2.0000000e+00 0.0000000e+00\n",
      "  1.0200000e+02 1.0000000e+00 1.8000000e+01 0.0000000e+00 0.0000000e+00]\n",
      " [0.0000000e+00 2.8190000e+03 3.0590000e+03 0.0000000e+00 1.0000000e+00\n",
      "  5.0000000e+00 0.0000000e+00 5.0000000e+00 0.0000000e+00 0.0000000e+00]\n",
      " [0.0000000e+00 1.9000000e+01 4.5000000e+01 0.0000000e+00 0.0000000e+00\n",
      "  3.0000000e+00 0.0000000e+00 2.0000000e+00 1.9790000e+03 0.0000000e+00]\n",
      " [0.0000000e+00 7.2600000e+02 0.0000000e+00 4.0000000e+00 1.0000000e+00\n",
      "  1.4400000e+02 4.0000000e+00 3.9000000e+01 0.0000000e+00 0.0000000e+00]\n",
      " [1.0000000e+00 1.2827000e+05 8.0700000e+02 2.2300000e+02 1.0000000e+00\n",
      "  1.0000000e+03 1.2000000e+01 1.2700000e+02 3.3856640e+07 0.0000000e+00]\n",
      " [0.0000000e+00 2.5000000e+02 1.0400000e+02 0.0000000e+00 1.0000000e+00\n",
      "  8.4000000e+01 8.0000000e+00 2.2000000e+01 0.0000000e+00 0.0000000e+00]\n",
      " [0.0000000e+00 1.5540000e+03 4.9740000e+03 0.0000000e+00 0.0000000e+00\n",
      "  1.2000000e+01 2.0000000e+00 5.0000000e+00 0.0000000e+00 0.0000000e+00]]\n",
      "[[nan nan nan nan nan nan nan nan]\n",
      " [nan nan nan nan nan nan nan nan]\n",
      " [nan nan nan nan nan nan nan nan]\n",
      " [nan nan nan nan nan nan nan nan]\n",
      " [nan nan nan nan nan nan nan nan]\n",
      " [nan nan nan nan nan nan nan nan]\n",
      " [nan nan nan nan nan nan nan nan]\n",
      " [nan nan nan nan nan nan nan nan]\n",
      " [nan nan nan nan nan nan nan nan]\n",
      " [nan nan nan nan nan nan nan nan]\n",
      " [nan nan nan nan nan nan nan nan]\n",
      " [nan nan nan nan nan nan nan nan]]\n",
      "epoch: 9\n",
      "NDCG@100 | train: 1.983283200929461e-05, test: 0.3027484202546265\n",
      "epoch 9\n"
     ]
    },
    {
     "name": "stderr",
     "output_type": "stream",
     "text": [
      "100%|███████████████████████████████████████████████████████████████████████████████████| 5/5 [00:00<00:00, 151.93it/s]\n"
     ]
    },
    {
     "name": "stdout",
     "output_type": "stream",
     "text": [
      "train mean loss=0.0\n"
     ]
    },
    {
     "name": "stderr",
     "output_type": "stream",
     "text": [
      "100%|███████████████████████████████████████████████████████████████████████████████████| 1/1 [00:00<00:00, 125.15it/s]\n"
     ]
    },
    {
     "name": "stdout",
     "output_type": "stream",
     "text": [
      "test  mean loss=0.0\n",
      "[[0.0000000e+00 3.0000000e+00 1.9000000e+01 ... 0.0000000e+00\n",
      "  0.0000000e+00 0.0000000e+00]\n",
      " [0.0000000e+00 6.8000000e+01 6.7000000e+01 ... 1.0000000e+00\n",
      "  0.0000000e+00 0.0000000e+00]\n",
      " [0.0000000e+00 1.0100000e+02 3.0000000e+01 ... 5.0000000e+00\n",
      "  3.3856640e+07 0.0000000e+00]\n",
      " ...\n",
      " [0.0000000e+00 7.5700000e+02 2.9000000e+01 ... 6.8000000e+01\n",
      "  0.0000000e+00 0.0000000e+00]\n",
      " [0.0000000e+00 5.5300000e+02 3.3600000e+02 ... 4.0000000e+01\n",
      "  3.3856644e+07 0.0000000e+00]\n",
      " [0.0000000e+00 3.8000000e+02 5.8000000e+01 ... 9.0000000e+00\n",
      "  3.3856640e+07 0.0000000e+00]]\n",
      "[[nan nan nan ... nan nan nan]\n",
      " [nan nan nan ... nan nan nan]\n",
      " [nan nan nan ... nan nan nan]\n",
      " ...\n",
      " [nan nan nan ... nan nan nan]\n",
      " [nan nan nan ... nan nan nan]\n",
      " [nan nan nan ... nan nan nan]]\n",
      "[[1.0000000e+00 3.3856644e+07 5.8000000e+01 8.0160000e+03 0.0000000e+00\n",
      "  1.3030000e+05 1.8000000e+03 9.7000000e+03 6.9638780e+06 0.0000000e+00]\n",
      " [0.0000000e+00 7.1300000e+02 1.7600000e+02 0.0000000e+00 0.0000000e+00\n",
      "  5.8000000e+01 5.0000000e+00 7.0000000e+00 3.3856640e+07 0.0000000e+00]\n",
      " [0.0000000e+00 6.2500000e+02 3.0000000e+00 0.0000000e+00 0.0000000e+00\n",
      "  3.2500000e+02 8.0000000e+00 6.0000000e+01 0.0000000e+00 0.0000000e+00]\n",
      " [1.0000000e+00 1.8454200e+05 1.4400000e+02 1.7000000e+02 1.0000000e+00\n",
      "  1.2400000e+02 0.0000000e+00 7.0000000e+00 0.0000000e+00 1.0000000e+00]\n",
      " [0.0000000e+00 4.1180000e+03 5.0010000e+03 0.0000000e+00 0.0000000e+00\n",
      "  1.8900000e+02 1.0000000e+00 1.9700000e+02 3.7002000e+04 0.0000000e+00]\n",
      " [0.0000000e+00 7.5700000e+02 2.9000000e+01 2.0000000e+00 0.0000000e+00\n",
      "  1.0200000e+02 1.0000000e+00 1.8000000e+01 0.0000000e+00 0.0000000e+00]\n",
      " [0.0000000e+00 2.8190000e+03 3.0590000e+03 0.0000000e+00 1.0000000e+00\n",
      "  5.0000000e+00 0.0000000e+00 5.0000000e+00 0.0000000e+00 0.0000000e+00]\n",
      " [0.0000000e+00 1.9000000e+01 4.5000000e+01 0.0000000e+00 0.0000000e+00\n",
      "  3.0000000e+00 0.0000000e+00 2.0000000e+00 1.9790000e+03 0.0000000e+00]\n",
      " [0.0000000e+00 7.2600000e+02 0.0000000e+00 4.0000000e+00 1.0000000e+00\n",
      "  1.4400000e+02 4.0000000e+00 3.9000000e+01 0.0000000e+00 0.0000000e+00]\n",
      " [1.0000000e+00 1.2827000e+05 8.0700000e+02 2.2300000e+02 1.0000000e+00\n",
      "  1.0000000e+03 1.2000000e+01 1.2700000e+02 3.3856640e+07 0.0000000e+00]\n",
      " [0.0000000e+00 2.5000000e+02 1.0400000e+02 0.0000000e+00 1.0000000e+00\n",
      "  8.4000000e+01 8.0000000e+00 2.2000000e+01 0.0000000e+00 0.0000000e+00]\n",
      " [0.0000000e+00 1.5540000e+03 4.9740000e+03 0.0000000e+00 0.0000000e+00\n",
      "  1.2000000e+01 2.0000000e+00 5.0000000e+00 0.0000000e+00 0.0000000e+00]]\n",
      "[[nan nan nan nan nan nan nan nan]\n",
      " [nan nan nan nan nan nan nan nan]\n",
      " [nan nan nan nan nan nan nan nan]\n",
      " [nan nan nan nan nan nan nan nan]\n",
      " [nan nan nan nan nan nan nan nan]\n",
      " [nan nan nan nan nan nan nan nan]\n",
      " [nan nan nan nan nan nan nan nan]\n",
      " [nan nan nan nan nan nan nan nan]\n",
      " [nan nan nan nan nan nan nan nan]\n",
      " [nan nan nan nan nan nan nan nan]\n",
      " [nan nan nan nan nan nan nan nan]\n",
      " [nan nan nan nan nan nan nan nan]]\n",
      "epoch: 10\n",
      "NDCG@100 | train: 1.983283200929461e-05, test: 0.3027484202546265\n",
      "epoch 10\n"
     ]
    },
    {
     "name": "stderr",
     "output_type": "stream",
     "text": [
      "100%|███████████████████████████████████████████████████████████████████████████████████| 5/5 [00:00<00:00, 106.67it/s]\n"
     ]
    },
    {
     "name": "stdout",
     "output_type": "stream",
     "text": [
      "train mean loss=0.0\n"
     ]
    },
    {
     "name": "stderr",
     "output_type": "stream",
     "text": [
      "100%|███████████████████████████████████████████████████████████████████████████████████| 1/1 [00:00<00:00, 167.08it/s]\n"
     ]
    },
    {
     "name": "stdout",
     "output_type": "stream",
     "text": [
      "test  mean loss=0.0\n",
      "[[0.0000000e+00 3.0000000e+00 1.9000000e+01 ... 0.0000000e+00\n",
      "  0.0000000e+00 0.0000000e+00]\n",
      " [0.0000000e+00 6.8000000e+01 6.7000000e+01 ... 1.0000000e+00\n",
      "  0.0000000e+00 0.0000000e+00]\n",
      " [0.0000000e+00 1.0100000e+02 3.0000000e+01 ... 5.0000000e+00\n",
      "  3.3856640e+07 0.0000000e+00]\n",
      " ...\n",
      " [0.0000000e+00 7.5700000e+02 2.9000000e+01 ... 6.8000000e+01\n",
      "  0.0000000e+00 0.0000000e+00]\n",
      " [0.0000000e+00 5.5300000e+02 3.3600000e+02 ... 4.0000000e+01\n",
      "  3.3856644e+07 0.0000000e+00]\n",
      " [0.0000000e+00 3.8000000e+02 5.8000000e+01 ... 9.0000000e+00\n",
      "  3.3856640e+07 0.0000000e+00]]\n",
      "[[nan nan nan ... nan nan nan]\n",
      " [nan nan nan ... nan nan nan]\n",
      " [nan nan nan ... nan nan nan]\n",
      " ...\n",
      " [nan nan nan ... nan nan nan]\n",
      " [nan nan nan ... nan nan nan]\n",
      " [nan nan nan ... nan nan nan]]\n",
      "[[1.0000000e+00 3.3856644e+07 5.8000000e+01 8.0160000e+03 0.0000000e+00\n",
      "  1.3030000e+05 1.8000000e+03 9.7000000e+03 6.9638780e+06 0.0000000e+00]\n",
      " [0.0000000e+00 7.1300000e+02 1.7600000e+02 0.0000000e+00 0.0000000e+00\n",
      "  5.8000000e+01 5.0000000e+00 7.0000000e+00 3.3856640e+07 0.0000000e+00]\n",
      " [0.0000000e+00 6.2500000e+02 3.0000000e+00 0.0000000e+00 0.0000000e+00\n",
      "  3.2500000e+02 8.0000000e+00 6.0000000e+01 0.0000000e+00 0.0000000e+00]\n",
      " [1.0000000e+00 1.8454200e+05 1.4400000e+02 1.7000000e+02 1.0000000e+00\n",
      "  1.2400000e+02 0.0000000e+00 7.0000000e+00 0.0000000e+00 1.0000000e+00]\n",
      " [0.0000000e+00 4.1180000e+03 5.0010000e+03 0.0000000e+00 0.0000000e+00\n",
      "  1.8900000e+02 1.0000000e+00 1.9700000e+02 3.7002000e+04 0.0000000e+00]\n",
      " [0.0000000e+00 7.5700000e+02 2.9000000e+01 2.0000000e+00 0.0000000e+00\n",
      "  1.0200000e+02 1.0000000e+00 1.8000000e+01 0.0000000e+00 0.0000000e+00]\n",
      " [0.0000000e+00 2.8190000e+03 3.0590000e+03 0.0000000e+00 1.0000000e+00\n",
      "  5.0000000e+00 0.0000000e+00 5.0000000e+00 0.0000000e+00 0.0000000e+00]\n",
      " [0.0000000e+00 1.9000000e+01 4.5000000e+01 0.0000000e+00 0.0000000e+00\n",
      "  3.0000000e+00 0.0000000e+00 2.0000000e+00 1.9790000e+03 0.0000000e+00]\n",
      " [0.0000000e+00 7.2600000e+02 0.0000000e+00 4.0000000e+00 1.0000000e+00\n",
      "  1.4400000e+02 4.0000000e+00 3.9000000e+01 0.0000000e+00 0.0000000e+00]\n",
      " [1.0000000e+00 1.2827000e+05 8.0700000e+02 2.2300000e+02 1.0000000e+00\n",
      "  1.0000000e+03 1.2000000e+01 1.2700000e+02 3.3856640e+07 0.0000000e+00]\n",
      " [0.0000000e+00 2.5000000e+02 1.0400000e+02 0.0000000e+00 1.0000000e+00\n",
      "  8.4000000e+01 8.0000000e+00 2.2000000e+01 0.0000000e+00 0.0000000e+00]\n",
      " [0.0000000e+00 1.5540000e+03 4.9740000e+03 0.0000000e+00 0.0000000e+00\n",
      "  1.2000000e+01 2.0000000e+00 5.0000000e+00 0.0000000e+00 0.0000000e+00]]\n",
      "[[nan nan nan nan nan nan nan nan]\n",
      " [nan nan nan nan nan nan nan nan]\n",
      " [nan nan nan nan nan nan nan nan]\n",
      " [nan nan nan nan nan nan nan nan]\n",
      " [nan nan nan nan nan nan nan nan]\n",
      " [nan nan nan nan nan nan nan nan]\n",
      " [nan nan nan nan nan nan nan nan]\n",
      " [nan nan nan nan nan nan nan nan]\n",
      " [nan nan nan nan nan nan nan nan]\n",
      " [nan nan nan nan nan nan nan nan]\n",
      " [nan nan nan nan nan nan nan nan]\n",
      " [nan nan nan nan nan nan nan nan]]\n",
      "epoch: 11\n",
      "NDCG@100 | train: 1.983283200929461e-05, test: 0.3027484202546265\n",
      "epoch 11\n"
     ]
    },
    {
     "name": "stderr",
     "output_type": "stream",
     "text": [
      "100%|███████████████████████████████████████████████████████████████████████████████████| 5/5 [00:00<00:00, 147.43it/s]\n"
     ]
    },
    {
     "name": "stdout",
     "output_type": "stream",
     "text": [
      "train mean loss=0.0\n"
     ]
    },
    {
     "name": "stderr",
     "output_type": "stream",
     "text": [
      "100%|███████████████████████████████████████████████████████████████████████████████████| 1/1 [00:00<00:00, 143.22it/s]\n"
     ]
    },
    {
     "name": "stdout",
     "output_type": "stream",
     "text": [
      "test  mean loss=0.0\n",
      "[[0.0000000e+00 3.0000000e+00 1.9000000e+01 ... 0.0000000e+00\n",
      "  0.0000000e+00 0.0000000e+00]\n",
      " [0.0000000e+00 6.8000000e+01 6.7000000e+01 ... 1.0000000e+00\n",
      "  0.0000000e+00 0.0000000e+00]\n",
      " [0.0000000e+00 1.0100000e+02 3.0000000e+01 ... 5.0000000e+00\n",
      "  3.3856640e+07 0.0000000e+00]\n",
      " ...\n",
      " [0.0000000e+00 7.5700000e+02 2.9000000e+01 ... 6.8000000e+01\n",
      "  0.0000000e+00 0.0000000e+00]\n",
      " [0.0000000e+00 5.5300000e+02 3.3600000e+02 ... 4.0000000e+01\n",
      "  3.3856644e+07 0.0000000e+00]\n",
      " [0.0000000e+00 3.8000000e+02 5.8000000e+01 ... 9.0000000e+00\n",
      "  3.3856640e+07 0.0000000e+00]]\n",
      "[[nan nan nan ... nan nan nan]\n",
      " [nan nan nan ... nan nan nan]\n",
      " [nan nan nan ... nan nan nan]\n",
      " ...\n",
      " [nan nan nan ... nan nan nan]\n",
      " [nan nan nan ... nan nan nan]\n",
      " [nan nan nan ... nan nan nan]]\n",
      "[[1.0000000e+00 3.3856644e+07 5.8000000e+01 8.0160000e+03 0.0000000e+00\n",
      "  1.3030000e+05 1.8000000e+03 9.7000000e+03 6.9638780e+06 0.0000000e+00]\n",
      " [0.0000000e+00 7.1300000e+02 1.7600000e+02 0.0000000e+00 0.0000000e+00\n",
      "  5.8000000e+01 5.0000000e+00 7.0000000e+00 3.3856640e+07 0.0000000e+00]\n",
      " [0.0000000e+00 6.2500000e+02 3.0000000e+00 0.0000000e+00 0.0000000e+00\n",
      "  3.2500000e+02 8.0000000e+00 6.0000000e+01 0.0000000e+00 0.0000000e+00]\n",
      " [1.0000000e+00 1.8454200e+05 1.4400000e+02 1.7000000e+02 1.0000000e+00\n",
      "  1.2400000e+02 0.0000000e+00 7.0000000e+00 0.0000000e+00 1.0000000e+00]\n",
      " [0.0000000e+00 4.1180000e+03 5.0010000e+03 0.0000000e+00 0.0000000e+00\n",
      "  1.8900000e+02 1.0000000e+00 1.9700000e+02 3.7002000e+04 0.0000000e+00]\n",
      " [0.0000000e+00 7.5700000e+02 2.9000000e+01 2.0000000e+00 0.0000000e+00\n",
      "  1.0200000e+02 1.0000000e+00 1.8000000e+01 0.0000000e+00 0.0000000e+00]\n",
      " [0.0000000e+00 2.8190000e+03 3.0590000e+03 0.0000000e+00 1.0000000e+00\n",
      "  5.0000000e+00 0.0000000e+00 5.0000000e+00 0.0000000e+00 0.0000000e+00]\n",
      " [0.0000000e+00 1.9000000e+01 4.5000000e+01 0.0000000e+00 0.0000000e+00\n",
      "  3.0000000e+00 0.0000000e+00 2.0000000e+00 1.9790000e+03 0.0000000e+00]\n",
      " [0.0000000e+00 7.2600000e+02 0.0000000e+00 4.0000000e+00 1.0000000e+00\n",
      "  1.4400000e+02 4.0000000e+00 3.9000000e+01 0.0000000e+00 0.0000000e+00]\n",
      " [1.0000000e+00 1.2827000e+05 8.0700000e+02 2.2300000e+02 1.0000000e+00\n",
      "  1.0000000e+03 1.2000000e+01 1.2700000e+02 3.3856640e+07 0.0000000e+00]\n",
      " [0.0000000e+00 2.5000000e+02 1.0400000e+02 0.0000000e+00 1.0000000e+00\n",
      "  8.4000000e+01 8.0000000e+00 2.2000000e+01 0.0000000e+00 0.0000000e+00]\n",
      " [0.0000000e+00 1.5540000e+03 4.9740000e+03 0.0000000e+00 0.0000000e+00\n",
      "  1.2000000e+01 2.0000000e+00 5.0000000e+00 0.0000000e+00 0.0000000e+00]]\n",
      "[[nan nan nan nan nan nan nan nan]\n",
      " [nan nan nan nan nan nan nan nan]\n",
      " [nan nan nan nan nan nan nan nan]\n",
      " [nan nan nan nan nan nan nan nan]\n",
      " [nan nan nan nan nan nan nan nan]\n",
      " [nan nan nan nan nan nan nan nan]\n",
      " [nan nan nan nan nan nan nan nan]\n",
      " [nan nan nan nan nan nan nan nan]\n",
      " [nan nan nan nan nan nan nan nan]\n",
      " [nan nan nan nan nan nan nan nan]\n",
      " [nan nan nan nan nan nan nan nan]\n",
      " [nan nan nan nan nan nan nan nan]]\n",
      "epoch: 12\n",
      "NDCG@100 | train: 1.983283200929461e-05, test: 0.3027484202546265\n",
      "epoch 12\n"
     ]
    },
    {
     "name": "stderr",
     "output_type": "stream",
     "text": [
      "100%|███████████████████████████████████████████████████████████████████████████████████| 5/5 [00:00<00:00, 135.51it/s]\n"
     ]
    },
    {
     "name": "stdout",
     "output_type": "stream",
     "text": [
      "train mean loss=0.0\n"
     ]
    },
    {
     "name": "stderr",
     "output_type": "stream",
     "text": [
      "100%|███████████████████████████████████████████████████████████████████████████████████| 1/1 [00:00<00:00, 200.46it/s]\n"
     ]
    },
    {
     "name": "stdout",
     "output_type": "stream",
     "text": [
      "test  mean loss=0.0\n",
      "[[0.0000000e+00 3.0000000e+00 1.9000000e+01 ... 0.0000000e+00\n",
      "  0.0000000e+00 0.0000000e+00]\n",
      " [0.0000000e+00 6.8000000e+01 6.7000000e+01 ... 1.0000000e+00\n",
      "  0.0000000e+00 0.0000000e+00]\n",
      " [0.0000000e+00 1.0100000e+02 3.0000000e+01 ... 5.0000000e+00\n",
      "  3.3856640e+07 0.0000000e+00]\n",
      " ...\n",
      " [0.0000000e+00 7.5700000e+02 2.9000000e+01 ... 6.8000000e+01\n",
      "  0.0000000e+00 0.0000000e+00]\n",
      " [0.0000000e+00 5.5300000e+02 3.3600000e+02 ... 4.0000000e+01\n",
      "  3.3856644e+07 0.0000000e+00]\n",
      " [0.0000000e+00 3.8000000e+02 5.8000000e+01 ... 9.0000000e+00\n",
      "  3.3856640e+07 0.0000000e+00]]\n",
      "[[nan nan nan ... nan nan nan]\n",
      " [nan nan nan ... nan nan nan]\n",
      " [nan nan nan ... nan nan nan]\n",
      " ...\n",
      " [nan nan nan ... nan nan nan]\n",
      " [nan nan nan ... nan nan nan]\n",
      " [nan nan nan ... nan nan nan]]\n",
      "[[1.0000000e+00 3.3856644e+07 5.8000000e+01 8.0160000e+03 0.0000000e+00\n",
      "  1.3030000e+05 1.8000000e+03 9.7000000e+03 6.9638780e+06 0.0000000e+00]\n",
      " [0.0000000e+00 7.1300000e+02 1.7600000e+02 0.0000000e+00 0.0000000e+00\n",
      "  5.8000000e+01 5.0000000e+00 7.0000000e+00 3.3856640e+07 0.0000000e+00]\n",
      " [0.0000000e+00 6.2500000e+02 3.0000000e+00 0.0000000e+00 0.0000000e+00\n",
      "  3.2500000e+02 8.0000000e+00 6.0000000e+01 0.0000000e+00 0.0000000e+00]\n",
      " [1.0000000e+00 1.8454200e+05 1.4400000e+02 1.7000000e+02 1.0000000e+00\n",
      "  1.2400000e+02 0.0000000e+00 7.0000000e+00 0.0000000e+00 1.0000000e+00]\n",
      " [0.0000000e+00 4.1180000e+03 5.0010000e+03 0.0000000e+00 0.0000000e+00\n",
      "  1.8900000e+02 1.0000000e+00 1.9700000e+02 3.7002000e+04 0.0000000e+00]\n",
      " [0.0000000e+00 7.5700000e+02 2.9000000e+01 2.0000000e+00 0.0000000e+00\n",
      "  1.0200000e+02 1.0000000e+00 1.8000000e+01 0.0000000e+00 0.0000000e+00]\n",
      " [0.0000000e+00 2.8190000e+03 3.0590000e+03 0.0000000e+00 1.0000000e+00\n",
      "  5.0000000e+00 0.0000000e+00 5.0000000e+00 0.0000000e+00 0.0000000e+00]\n",
      " [0.0000000e+00 1.9000000e+01 4.5000000e+01 0.0000000e+00 0.0000000e+00\n",
      "  3.0000000e+00 0.0000000e+00 2.0000000e+00 1.9790000e+03 0.0000000e+00]\n",
      " [0.0000000e+00 7.2600000e+02 0.0000000e+00 4.0000000e+00 1.0000000e+00\n",
      "  1.4400000e+02 4.0000000e+00 3.9000000e+01 0.0000000e+00 0.0000000e+00]\n",
      " [1.0000000e+00 1.2827000e+05 8.0700000e+02 2.2300000e+02 1.0000000e+00\n",
      "  1.0000000e+03 1.2000000e+01 1.2700000e+02 3.3856640e+07 0.0000000e+00]\n",
      " [0.0000000e+00 2.5000000e+02 1.0400000e+02 0.0000000e+00 1.0000000e+00\n",
      "  8.4000000e+01 8.0000000e+00 2.2000000e+01 0.0000000e+00 0.0000000e+00]\n",
      " [0.0000000e+00 1.5540000e+03 4.9740000e+03 0.0000000e+00 0.0000000e+00\n",
      "  1.2000000e+01 2.0000000e+00 5.0000000e+00 0.0000000e+00 0.0000000e+00]]\n",
      "[[nan nan nan nan nan nan nan nan]\n",
      " [nan nan nan nan nan nan nan nan]\n",
      " [nan nan nan nan nan nan nan nan]\n",
      " [nan nan nan nan nan nan nan nan]\n",
      " [nan nan nan nan nan nan nan nan]\n",
      " [nan nan nan nan nan nan nan nan]\n",
      " [nan nan nan nan nan nan nan nan]\n",
      " [nan nan nan nan nan nan nan nan]\n",
      " [nan nan nan nan nan nan nan nan]\n",
      " [nan nan nan nan nan nan nan nan]\n",
      " [nan nan nan nan nan nan nan nan]\n",
      " [nan nan nan nan nan nan nan nan]]\n",
      "epoch: 13\n",
      "NDCG@100 | train: 1.983283200929461e-05, test: 0.3027484202546265\n",
      "epoch 13\n"
     ]
    },
    {
     "name": "stderr",
     "output_type": "stream",
     "text": [
      "100%|███████████████████████████████████████████████████████████████████████████████████| 5/5 [00:00<00:00, 147.45it/s]\n"
     ]
    },
    {
     "name": "stdout",
     "output_type": "stream",
     "text": [
      "train mean loss=0.0\n"
     ]
    },
    {
     "name": "stderr",
     "output_type": "stream",
     "text": [
      "100%|███████████████████████████████████████████████████████████████████████████████████| 1/1 [00:00<00:00, 166.54it/s]\n"
     ]
    },
    {
     "name": "stdout",
     "output_type": "stream",
     "text": [
      "test  mean loss=0.0\n",
      "[[0.0000000e+00 3.0000000e+00 1.9000000e+01 ... 0.0000000e+00\n",
      "  0.0000000e+00 0.0000000e+00]\n",
      " [0.0000000e+00 6.8000000e+01 6.7000000e+01 ... 1.0000000e+00\n",
      "  0.0000000e+00 0.0000000e+00]\n",
      " [0.0000000e+00 1.0100000e+02 3.0000000e+01 ... 5.0000000e+00\n",
      "  3.3856640e+07 0.0000000e+00]\n",
      " ...\n",
      " [0.0000000e+00 7.5700000e+02 2.9000000e+01 ... 6.8000000e+01\n",
      "  0.0000000e+00 0.0000000e+00]\n",
      " [0.0000000e+00 5.5300000e+02 3.3600000e+02 ... 4.0000000e+01\n",
      "  3.3856644e+07 0.0000000e+00]\n",
      " [0.0000000e+00 3.8000000e+02 5.8000000e+01 ... 9.0000000e+00\n",
      "  3.3856640e+07 0.0000000e+00]]\n",
      "[[nan nan nan ... nan nan nan]\n",
      " [nan nan nan ... nan nan nan]\n",
      " [nan nan nan ... nan nan nan]\n",
      " ...\n",
      " [nan nan nan ... nan nan nan]\n",
      " [nan nan nan ... nan nan nan]\n",
      " [nan nan nan ... nan nan nan]]\n",
      "[[1.0000000e+00 3.3856644e+07 5.8000000e+01 8.0160000e+03 0.0000000e+00\n",
      "  1.3030000e+05 1.8000000e+03 9.7000000e+03 6.9638780e+06 0.0000000e+00]\n",
      " [0.0000000e+00 7.1300000e+02 1.7600000e+02 0.0000000e+00 0.0000000e+00\n",
      "  5.8000000e+01 5.0000000e+00 7.0000000e+00 3.3856640e+07 0.0000000e+00]\n",
      " [0.0000000e+00 6.2500000e+02 3.0000000e+00 0.0000000e+00 0.0000000e+00\n",
      "  3.2500000e+02 8.0000000e+00 6.0000000e+01 0.0000000e+00 0.0000000e+00]\n",
      " [1.0000000e+00 1.8454200e+05 1.4400000e+02 1.7000000e+02 1.0000000e+00\n",
      "  1.2400000e+02 0.0000000e+00 7.0000000e+00 0.0000000e+00 1.0000000e+00]\n",
      " [0.0000000e+00 4.1180000e+03 5.0010000e+03 0.0000000e+00 0.0000000e+00\n",
      "  1.8900000e+02 1.0000000e+00 1.9700000e+02 3.7002000e+04 0.0000000e+00]\n",
      " [0.0000000e+00 7.5700000e+02 2.9000000e+01 2.0000000e+00 0.0000000e+00\n",
      "  1.0200000e+02 1.0000000e+00 1.8000000e+01 0.0000000e+00 0.0000000e+00]\n",
      " [0.0000000e+00 2.8190000e+03 3.0590000e+03 0.0000000e+00 1.0000000e+00\n",
      "  5.0000000e+00 0.0000000e+00 5.0000000e+00 0.0000000e+00 0.0000000e+00]\n",
      " [0.0000000e+00 1.9000000e+01 4.5000000e+01 0.0000000e+00 0.0000000e+00\n",
      "  3.0000000e+00 0.0000000e+00 2.0000000e+00 1.9790000e+03 0.0000000e+00]\n",
      " [0.0000000e+00 7.2600000e+02 0.0000000e+00 4.0000000e+00 1.0000000e+00\n",
      "  1.4400000e+02 4.0000000e+00 3.9000000e+01 0.0000000e+00 0.0000000e+00]\n",
      " [1.0000000e+00 1.2827000e+05 8.0700000e+02 2.2300000e+02 1.0000000e+00\n",
      "  1.0000000e+03 1.2000000e+01 1.2700000e+02 3.3856640e+07 0.0000000e+00]\n",
      " [0.0000000e+00 2.5000000e+02 1.0400000e+02 0.0000000e+00 1.0000000e+00\n",
      "  8.4000000e+01 8.0000000e+00 2.2000000e+01 0.0000000e+00 0.0000000e+00]\n",
      " [0.0000000e+00 1.5540000e+03 4.9740000e+03 0.0000000e+00 0.0000000e+00\n",
      "  1.2000000e+01 2.0000000e+00 5.0000000e+00 0.0000000e+00 0.0000000e+00]]\n",
      "[[nan nan nan nan nan nan nan nan]\n",
      " [nan nan nan nan nan nan nan nan]\n",
      " [nan nan nan nan nan nan nan nan]\n",
      " [nan nan nan nan nan nan nan nan]\n",
      " [nan nan nan nan nan nan nan nan]\n",
      " [nan nan nan nan nan nan nan nan]\n",
      " [nan nan nan nan nan nan nan nan]\n",
      " [nan nan nan nan nan nan nan nan]\n",
      " [nan nan nan nan nan nan nan nan]\n",
      " [nan nan nan nan nan nan nan nan]\n",
      " [nan nan nan nan nan nan nan nan]\n",
      " [nan nan nan nan nan nan nan nan]]\n",
      "epoch: 14\n",
      "NDCG@100 | train: 1.983283200929461e-05, test: 0.3027484202546265\n",
      "epoch 14\n"
     ]
    },
    {
     "name": "stderr",
     "output_type": "stream",
     "text": [
      "100%|███████████████████████████████████████████████████████████████████████████████████| 5/5 [00:00<00:00, 147.45it/s]\n"
     ]
    },
    {
     "name": "stdout",
     "output_type": "stream",
     "text": [
      "train mean loss=0.0\n"
     ]
    },
    {
     "name": "stderr",
     "output_type": "stream",
     "text": [
      "100%|███████████████████████████████████████████████████████████████████████████████████| 1/1 [00:00<00:00, 143.90it/s]\n"
     ]
    },
    {
     "name": "stdout",
     "output_type": "stream",
     "text": [
      "test  mean loss=0.0\n",
      "[[0.0000000e+00 3.0000000e+00 1.9000000e+01 ... 0.0000000e+00\n",
      "  0.0000000e+00 0.0000000e+00]\n",
      " [0.0000000e+00 6.8000000e+01 6.7000000e+01 ... 1.0000000e+00\n",
      "  0.0000000e+00 0.0000000e+00]\n",
      " [0.0000000e+00 1.0100000e+02 3.0000000e+01 ... 5.0000000e+00\n",
      "  3.3856640e+07 0.0000000e+00]\n",
      " ...\n",
      " [0.0000000e+00 7.5700000e+02 2.9000000e+01 ... 6.8000000e+01\n",
      "  0.0000000e+00 0.0000000e+00]\n",
      " [0.0000000e+00 5.5300000e+02 3.3600000e+02 ... 4.0000000e+01\n",
      "  3.3856644e+07 0.0000000e+00]\n",
      " [0.0000000e+00 3.8000000e+02 5.8000000e+01 ... 9.0000000e+00\n",
      "  3.3856640e+07 0.0000000e+00]]\n",
      "[[nan nan nan ... nan nan nan]\n",
      " [nan nan nan ... nan nan nan]\n",
      " [nan nan nan ... nan nan nan]\n",
      " ...\n",
      " [nan nan nan ... nan nan nan]\n",
      " [nan nan nan ... nan nan nan]\n",
      " [nan nan nan ... nan nan nan]]\n",
      "[[1.0000000e+00 3.3856644e+07 5.8000000e+01 8.0160000e+03 0.0000000e+00\n",
      "  1.3030000e+05 1.8000000e+03 9.7000000e+03 6.9638780e+06 0.0000000e+00]\n",
      " [0.0000000e+00 7.1300000e+02 1.7600000e+02 0.0000000e+00 0.0000000e+00\n",
      "  5.8000000e+01 5.0000000e+00 7.0000000e+00 3.3856640e+07 0.0000000e+00]\n",
      " [0.0000000e+00 6.2500000e+02 3.0000000e+00 0.0000000e+00 0.0000000e+00\n",
      "  3.2500000e+02 8.0000000e+00 6.0000000e+01 0.0000000e+00 0.0000000e+00]\n",
      " [1.0000000e+00 1.8454200e+05 1.4400000e+02 1.7000000e+02 1.0000000e+00\n",
      "  1.2400000e+02 0.0000000e+00 7.0000000e+00 0.0000000e+00 1.0000000e+00]\n",
      " [0.0000000e+00 4.1180000e+03 5.0010000e+03 0.0000000e+00 0.0000000e+00\n",
      "  1.8900000e+02 1.0000000e+00 1.9700000e+02 3.7002000e+04 0.0000000e+00]\n",
      " [0.0000000e+00 7.5700000e+02 2.9000000e+01 2.0000000e+00 0.0000000e+00\n",
      "  1.0200000e+02 1.0000000e+00 1.8000000e+01 0.0000000e+00 0.0000000e+00]\n",
      " [0.0000000e+00 2.8190000e+03 3.0590000e+03 0.0000000e+00 1.0000000e+00\n",
      "  5.0000000e+00 0.0000000e+00 5.0000000e+00 0.0000000e+00 0.0000000e+00]\n",
      " [0.0000000e+00 1.9000000e+01 4.5000000e+01 0.0000000e+00 0.0000000e+00\n",
      "  3.0000000e+00 0.0000000e+00 2.0000000e+00 1.9790000e+03 0.0000000e+00]\n",
      " [0.0000000e+00 7.2600000e+02 0.0000000e+00 4.0000000e+00 1.0000000e+00\n",
      "  1.4400000e+02 4.0000000e+00 3.9000000e+01 0.0000000e+00 0.0000000e+00]\n",
      " [1.0000000e+00 1.2827000e+05 8.0700000e+02 2.2300000e+02 1.0000000e+00\n",
      "  1.0000000e+03 1.2000000e+01 1.2700000e+02 3.3856640e+07 0.0000000e+00]\n",
      " [0.0000000e+00 2.5000000e+02 1.0400000e+02 0.0000000e+00 1.0000000e+00\n",
      "  8.4000000e+01 8.0000000e+00 2.2000000e+01 0.0000000e+00 0.0000000e+00]\n",
      " [0.0000000e+00 1.5540000e+03 4.9740000e+03 0.0000000e+00 0.0000000e+00\n",
      "  1.2000000e+01 2.0000000e+00 5.0000000e+00 0.0000000e+00 0.0000000e+00]]\n",
      "[[nan nan nan nan nan nan nan nan]\n",
      " [nan nan nan nan nan nan nan nan]\n",
      " [nan nan nan nan nan nan nan nan]\n",
      " [nan nan nan nan nan nan nan nan]\n",
      " [nan nan nan nan nan nan nan nan]\n",
      " [nan nan nan nan nan nan nan nan]\n",
      " [nan nan nan nan nan nan nan nan]\n",
      " [nan nan nan nan nan nan nan nan]\n",
      " [nan nan nan nan nan nan nan nan]\n",
      " [nan nan nan nan nan nan nan nan]\n",
      " [nan nan nan nan nan nan nan nan]\n",
      " [nan nan nan nan nan nan nan nan]]\n",
      "epoch: 15\n",
      "NDCG@100 | train: 1.983283200929461e-05, test: 0.3027484202546265\n",
      "epoch 15\n"
     ]
    },
    {
     "name": "stderr",
     "output_type": "stream",
     "text": [
      "100%|███████████████████████████████████████████████████████████████████████████████████| 5/5 [00:00<00:00, 179.04it/s]\n"
     ]
    },
    {
     "name": "stdout",
     "output_type": "stream",
     "text": [
      "train mean loss=0.0\n"
     ]
    },
    {
     "name": "stderr",
     "output_type": "stream",
     "text": [
      "100%|███████████████████████████████████████████████████████████████████████████████████| 1/1 [00:00<00:00, 250.74it/s]\n"
     ]
    },
    {
     "name": "stdout",
     "output_type": "stream",
     "text": [
      "test  mean loss=0.0\n",
      "[[0.0000000e+00 3.0000000e+00 1.9000000e+01 ... 0.0000000e+00\n",
      "  0.0000000e+00 0.0000000e+00]\n",
      " [0.0000000e+00 6.8000000e+01 6.7000000e+01 ... 1.0000000e+00\n",
      "  0.0000000e+00 0.0000000e+00]\n",
      " [0.0000000e+00 1.0100000e+02 3.0000000e+01 ... 5.0000000e+00\n",
      "  3.3856640e+07 0.0000000e+00]\n",
      " ...\n",
      " [0.0000000e+00 7.5700000e+02 2.9000000e+01 ... 6.8000000e+01\n",
      "  0.0000000e+00 0.0000000e+00]\n",
      " [0.0000000e+00 5.5300000e+02 3.3600000e+02 ... 4.0000000e+01\n",
      "  3.3856644e+07 0.0000000e+00]\n",
      " [0.0000000e+00 3.8000000e+02 5.8000000e+01 ... 9.0000000e+00\n",
      "  3.3856640e+07 0.0000000e+00]]\n",
      "[[nan nan nan ... nan nan nan]\n",
      " [nan nan nan ... nan nan nan]\n",
      " [nan nan nan ... nan nan nan]\n",
      " ...\n",
      " [nan nan nan ... nan nan nan]\n",
      " [nan nan nan ... nan nan nan]\n",
      " [nan nan nan ... nan nan nan]]\n",
      "[[1.0000000e+00 3.3856644e+07 5.8000000e+01 8.0160000e+03 0.0000000e+00\n",
      "  1.3030000e+05 1.8000000e+03 9.7000000e+03 6.9638780e+06 0.0000000e+00]\n",
      " [0.0000000e+00 7.1300000e+02 1.7600000e+02 0.0000000e+00 0.0000000e+00\n",
      "  5.8000000e+01 5.0000000e+00 7.0000000e+00 3.3856640e+07 0.0000000e+00]\n",
      " [0.0000000e+00 6.2500000e+02 3.0000000e+00 0.0000000e+00 0.0000000e+00\n",
      "  3.2500000e+02 8.0000000e+00 6.0000000e+01 0.0000000e+00 0.0000000e+00]\n",
      " [1.0000000e+00 1.8454200e+05 1.4400000e+02 1.7000000e+02 1.0000000e+00\n",
      "  1.2400000e+02 0.0000000e+00 7.0000000e+00 0.0000000e+00 1.0000000e+00]\n",
      " [0.0000000e+00 4.1180000e+03 5.0010000e+03 0.0000000e+00 0.0000000e+00\n",
      "  1.8900000e+02 1.0000000e+00 1.9700000e+02 3.7002000e+04 0.0000000e+00]\n",
      " [0.0000000e+00 7.5700000e+02 2.9000000e+01 2.0000000e+00 0.0000000e+00\n",
      "  1.0200000e+02 1.0000000e+00 1.8000000e+01 0.0000000e+00 0.0000000e+00]\n",
      " [0.0000000e+00 2.8190000e+03 3.0590000e+03 0.0000000e+00 1.0000000e+00\n",
      "  5.0000000e+00 0.0000000e+00 5.0000000e+00 0.0000000e+00 0.0000000e+00]\n",
      " [0.0000000e+00 1.9000000e+01 4.5000000e+01 0.0000000e+00 0.0000000e+00\n",
      "  3.0000000e+00 0.0000000e+00 2.0000000e+00 1.9790000e+03 0.0000000e+00]\n",
      " [0.0000000e+00 7.2600000e+02 0.0000000e+00 4.0000000e+00 1.0000000e+00\n",
      "  1.4400000e+02 4.0000000e+00 3.9000000e+01 0.0000000e+00 0.0000000e+00]\n",
      " [1.0000000e+00 1.2827000e+05 8.0700000e+02 2.2300000e+02 1.0000000e+00\n",
      "  1.0000000e+03 1.2000000e+01 1.2700000e+02 3.3856640e+07 0.0000000e+00]\n",
      " [0.0000000e+00 2.5000000e+02 1.0400000e+02 0.0000000e+00 1.0000000e+00\n",
      "  8.4000000e+01 8.0000000e+00 2.2000000e+01 0.0000000e+00 0.0000000e+00]\n",
      " [0.0000000e+00 1.5540000e+03 4.9740000e+03 0.0000000e+00 0.0000000e+00\n",
      "  1.2000000e+01 2.0000000e+00 5.0000000e+00 0.0000000e+00 0.0000000e+00]]\n",
      "[[nan nan nan nan nan nan nan nan]\n",
      " [nan nan nan nan nan nan nan nan]\n",
      " [nan nan nan nan nan nan nan nan]\n",
      " [nan nan nan nan nan nan nan nan]\n",
      " [nan nan nan nan nan nan nan nan]\n",
      " [nan nan nan nan nan nan nan nan]\n",
      " [nan nan nan nan nan nan nan nan]\n",
      " [nan nan nan nan nan nan nan nan]\n",
      " [nan nan nan nan nan nan nan nan]\n",
      " [nan nan nan nan nan nan nan nan]\n",
      " [nan nan nan nan nan nan nan nan]\n",
      " [nan nan nan nan nan nan nan nan]]\n",
      "epoch: 16\n",
      "NDCG@100 | train: 1.983283200929461e-05, test: 0.3027484202546265\n",
      "epoch 16\n"
     ]
    },
    {
     "name": "stderr",
     "output_type": "stream",
     "text": [
      "100%|████████████████████████████████████████████████████████████████████████████████████| 5/5 [00:00<00:00, 98.30it/s]\n"
     ]
    },
    {
     "name": "stdout",
     "output_type": "stream",
     "text": [
      "train mean loss=0.0\n"
     ]
    },
    {
     "name": "stderr",
     "output_type": "stream",
     "text": [
      "100%|████████████████████████████████████████████████████████████████████████████████████| 1/1 [00:00<00:00, 90.80it/s]\n"
     ]
    },
    {
     "name": "stdout",
     "output_type": "stream",
     "text": [
      "test  mean loss=0.0\n",
      "[[0.0000000e+00 3.0000000e+00 1.9000000e+01 ... 0.0000000e+00\n",
      "  0.0000000e+00 0.0000000e+00]\n",
      " [0.0000000e+00 6.8000000e+01 6.7000000e+01 ... 1.0000000e+00\n",
      "  0.0000000e+00 0.0000000e+00]\n",
      " [0.0000000e+00 1.0100000e+02 3.0000000e+01 ... 5.0000000e+00\n",
      "  3.3856640e+07 0.0000000e+00]\n",
      " ...\n",
      " [0.0000000e+00 7.5700000e+02 2.9000000e+01 ... 6.8000000e+01\n",
      "  0.0000000e+00 0.0000000e+00]\n",
      " [0.0000000e+00 5.5300000e+02 3.3600000e+02 ... 4.0000000e+01\n",
      "  3.3856644e+07 0.0000000e+00]\n",
      " [0.0000000e+00 3.8000000e+02 5.8000000e+01 ... 9.0000000e+00\n",
      "  3.3856640e+07 0.0000000e+00]]\n",
      "[[nan nan nan ... nan nan nan]\n",
      " [nan nan nan ... nan nan nan]\n",
      " [nan nan nan ... nan nan nan]\n",
      " ...\n",
      " [nan nan nan ... nan nan nan]\n",
      " [nan nan nan ... nan nan nan]\n",
      " [nan nan nan ... nan nan nan]]\n",
      "[[1.0000000e+00 3.3856644e+07 5.8000000e+01 8.0160000e+03 0.0000000e+00\n",
      "  1.3030000e+05 1.8000000e+03 9.7000000e+03 6.9638780e+06 0.0000000e+00]\n",
      " [0.0000000e+00 7.1300000e+02 1.7600000e+02 0.0000000e+00 0.0000000e+00\n",
      "  5.8000000e+01 5.0000000e+00 7.0000000e+00 3.3856640e+07 0.0000000e+00]\n",
      " [0.0000000e+00 6.2500000e+02 3.0000000e+00 0.0000000e+00 0.0000000e+00\n",
      "  3.2500000e+02 8.0000000e+00 6.0000000e+01 0.0000000e+00 0.0000000e+00]\n",
      " [1.0000000e+00 1.8454200e+05 1.4400000e+02 1.7000000e+02 1.0000000e+00\n",
      "  1.2400000e+02 0.0000000e+00 7.0000000e+00 0.0000000e+00 1.0000000e+00]\n",
      " [0.0000000e+00 4.1180000e+03 5.0010000e+03 0.0000000e+00 0.0000000e+00\n",
      "  1.8900000e+02 1.0000000e+00 1.9700000e+02 3.7002000e+04 0.0000000e+00]\n",
      " [0.0000000e+00 7.5700000e+02 2.9000000e+01 2.0000000e+00 0.0000000e+00\n",
      "  1.0200000e+02 1.0000000e+00 1.8000000e+01 0.0000000e+00 0.0000000e+00]\n",
      " [0.0000000e+00 2.8190000e+03 3.0590000e+03 0.0000000e+00 1.0000000e+00\n",
      "  5.0000000e+00 0.0000000e+00 5.0000000e+00 0.0000000e+00 0.0000000e+00]\n",
      " [0.0000000e+00 1.9000000e+01 4.5000000e+01 0.0000000e+00 0.0000000e+00\n",
      "  3.0000000e+00 0.0000000e+00 2.0000000e+00 1.9790000e+03 0.0000000e+00]\n",
      " [0.0000000e+00 7.2600000e+02 0.0000000e+00 4.0000000e+00 1.0000000e+00\n",
      "  1.4400000e+02 4.0000000e+00 3.9000000e+01 0.0000000e+00 0.0000000e+00]\n",
      " [1.0000000e+00 1.2827000e+05 8.0700000e+02 2.2300000e+02 1.0000000e+00\n",
      "  1.0000000e+03 1.2000000e+01 1.2700000e+02 3.3856640e+07 0.0000000e+00]\n",
      " [0.0000000e+00 2.5000000e+02 1.0400000e+02 0.0000000e+00 1.0000000e+00\n",
      "  8.4000000e+01 8.0000000e+00 2.2000000e+01 0.0000000e+00 0.0000000e+00]\n",
      " [0.0000000e+00 1.5540000e+03 4.9740000e+03 0.0000000e+00 0.0000000e+00\n",
      "  1.2000000e+01 2.0000000e+00 5.0000000e+00 0.0000000e+00 0.0000000e+00]]\n",
      "[[nan nan nan nan nan nan nan nan]\n",
      " [nan nan nan nan nan nan nan nan]\n",
      " [nan nan nan nan nan nan nan nan]\n",
      " [nan nan nan nan nan nan nan nan]\n",
      " [nan nan nan nan nan nan nan nan]\n",
      " [nan nan nan nan nan nan nan nan]\n",
      " [nan nan nan nan nan nan nan nan]\n",
      " [nan nan nan nan nan nan nan nan]\n",
      " [nan nan nan nan nan nan nan nan]\n",
      " [nan nan nan nan nan nan nan nan]\n",
      " [nan nan nan nan nan nan nan nan]\n",
      " [nan nan nan nan nan nan nan nan]]\n",
      "epoch: 17\n",
      "NDCG@100 | train: 1.983283200929461e-05, test: 0.3027484202546265\n",
      "epoch 17\n"
     ]
    },
    {
     "name": "stderr",
     "output_type": "stream",
     "text": [
      "100%|███████████████████████████████████████████████████████████████████████████████████| 5/5 [00:00<00:00, 143.24it/s]\n"
     ]
    },
    {
     "name": "stdout",
     "output_type": "stream",
     "text": [
      "train mean loss=0.0\n"
     ]
    },
    {
     "name": "stderr",
     "output_type": "stream",
     "text": [
      "100%|███████████████████████████████████████████████████████████████████████████████████| 1/1 [00:00<00:00, 335.33it/s]\n"
     ]
    },
    {
     "name": "stdout",
     "output_type": "stream",
     "text": [
      "test  mean loss=0.0\n",
      "[[0.0000000e+00 3.0000000e+00 1.9000000e+01 ... 0.0000000e+00\n",
      "  0.0000000e+00 0.0000000e+00]\n",
      " [0.0000000e+00 6.8000000e+01 6.7000000e+01 ... 1.0000000e+00\n",
      "  0.0000000e+00 0.0000000e+00]\n",
      " [0.0000000e+00 1.0100000e+02 3.0000000e+01 ... 5.0000000e+00\n",
      "  3.3856640e+07 0.0000000e+00]\n",
      " ...\n",
      " [0.0000000e+00 7.5700000e+02 2.9000000e+01 ... 6.8000000e+01\n",
      "  0.0000000e+00 0.0000000e+00]\n",
      " [0.0000000e+00 5.5300000e+02 3.3600000e+02 ... 4.0000000e+01\n",
      "  3.3856644e+07 0.0000000e+00]\n",
      " [0.0000000e+00 3.8000000e+02 5.8000000e+01 ... 9.0000000e+00\n",
      "  3.3856640e+07 0.0000000e+00]]\n",
      "[[nan nan nan ... nan nan nan]\n",
      " [nan nan nan ... nan nan nan]\n",
      " [nan nan nan ... nan nan nan]\n",
      " ...\n",
      " [nan nan nan ... nan nan nan]\n",
      " [nan nan nan ... nan nan nan]\n",
      " [nan nan nan ... nan nan nan]]\n",
      "[[1.0000000e+00 3.3856644e+07 5.8000000e+01 8.0160000e+03 0.0000000e+00\n",
      "  1.3030000e+05 1.8000000e+03 9.7000000e+03 6.9638780e+06 0.0000000e+00]\n",
      " [0.0000000e+00 7.1300000e+02 1.7600000e+02 0.0000000e+00 0.0000000e+00\n",
      "  5.8000000e+01 5.0000000e+00 7.0000000e+00 3.3856640e+07 0.0000000e+00]\n",
      " [0.0000000e+00 6.2500000e+02 3.0000000e+00 0.0000000e+00 0.0000000e+00\n",
      "  3.2500000e+02 8.0000000e+00 6.0000000e+01 0.0000000e+00 0.0000000e+00]\n",
      " [1.0000000e+00 1.8454200e+05 1.4400000e+02 1.7000000e+02 1.0000000e+00\n",
      "  1.2400000e+02 0.0000000e+00 7.0000000e+00 0.0000000e+00 1.0000000e+00]\n",
      " [0.0000000e+00 4.1180000e+03 5.0010000e+03 0.0000000e+00 0.0000000e+00\n",
      "  1.8900000e+02 1.0000000e+00 1.9700000e+02 3.7002000e+04 0.0000000e+00]\n",
      " [0.0000000e+00 7.5700000e+02 2.9000000e+01 2.0000000e+00 0.0000000e+00\n",
      "  1.0200000e+02 1.0000000e+00 1.8000000e+01 0.0000000e+00 0.0000000e+00]\n",
      " [0.0000000e+00 2.8190000e+03 3.0590000e+03 0.0000000e+00 1.0000000e+00\n",
      "  5.0000000e+00 0.0000000e+00 5.0000000e+00 0.0000000e+00 0.0000000e+00]\n",
      " [0.0000000e+00 1.9000000e+01 4.5000000e+01 0.0000000e+00 0.0000000e+00\n",
      "  3.0000000e+00 0.0000000e+00 2.0000000e+00 1.9790000e+03 0.0000000e+00]\n",
      " [0.0000000e+00 7.2600000e+02 0.0000000e+00 4.0000000e+00 1.0000000e+00\n",
      "  1.4400000e+02 4.0000000e+00 3.9000000e+01 0.0000000e+00 0.0000000e+00]\n",
      " [1.0000000e+00 1.2827000e+05 8.0700000e+02 2.2300000e+02 1.0000000e+00\n",
      "  1.0000000e+03 1.2000000e+01 1.2700000e+02 3.3856640e+07 0.0000000e+00]\n",
      " [0.0000000e+00 2.5000000e+02 1.0400000e+02 0.0000000e+00 1.0000000e+00\n",
      "  8.4000000e+01 8.0000000e+00 2.2000000e+01 0.0000000e+00 0.0000000e+00]\n",
      " [0.0000000e+00 1.5540000e+03 4.9740000e+03 0.0000000e+00 0.0000000e+00\n",
      "  1.2000000e+01 2.0000000e+00 5.0000000e+00 0.0000000e+00 0.0000000e+00]]\n",
      "[[nan nan nan nan nan nan nan nan]\n",
      " [nan nan nan nan nan nan nan nan]\n",
      " [nan nan nan nan nan nan nan nan]\n",
      " [nan nan nan nan nan nan nan nan]\n",
      " [nan nan nan nan nan nan nan nan]\n",
      " [nan nan nan nan nan nan nan nan]\n",
      " [nan nan nan nan nan nan nan nan]\n",
      " [nan nan nan nan nan nan nan nan]\n",
      " [nan nan nan nan nan nan nan nan]\n",
      " [nan nan nan nan nan nan nan nan]\n",
      " [nan nan nan nan nan nan nan nan]\n",
      " [nan nan nan nan nan nan nan nan]]\n",
      "epoch: 18\n",
      "NDCG@100 | train: 1.983283200929461e-05, test: 0.3027484202546265\n",
      "epoch 18\n"
     ]
    },
    {
     "name": "stderr",
     "output_type": "stream",
     "text": [
      "100%|███████████████████████████████████████████████████████████████████████████████████| 5/5 [00:00<00:00, 147.47it/s]\n"
     ]
    },
    {
     "name": "stdout",
     "output_type": "stream",
     "text": [
      "train mean loss=0.0\n"
     ]
    },
    {
     "name": "stderr",
     "output_type": "stream",
     "text": [
      "100%|███████████████████████████████████████████████████████████████████████████████████| 1/1 [00:00<00:00, 250.63it/s]\n"
     ]
    },
    {
     "name": "stdout",
     "output_type": "stream",
     "text": [
      "test  mean loss=0.0\n",
      "[[0.0000000e+00 3.0000000e+00 1.9000000e+01 ... 0.0000000e+00\n",
      "  0.0000000e+00 0.0000000e+00]\n",
      " [0.0000000e+00 6.8000000e+01 6.7000000e+01 ... 1.0000000e+00\n",
      "  0.0000000e+00 0.0000000e+00]\n",
      " [0.0000000e+00 1.0100000e+02 3.0000000e+01 ... 5.0000000e+00\n",
      "  3.3856640e+07 0.0000000e+00]\n",
      " ...\n",
      " [0.0000000e+00 7.5700000e+02 2.9000000e+01 ... 6.8000000e+01\n",
      "  0.0000000e+00 0.0000000e+00]\n",
      " [0.0000000e+00 5.5300000e+02 3.3600000e+02 ... 4.0000000e+01\n",
      "  3.3856644e+07 0.0000000e+00]\n",
      " [0.0000000e+00 3.8000000e+02 5.8000000e+01 ... 9.0000000e+00\n",
      "  3.3856640e+07 0.0000000e+00]]\n",
      "[[nan nan nan ... nan nan nan]\n",
      " [nan nan nan ... nan nan nan]\n",
      " [nan nan nan ... nan nan nan]\n",
      " ...\n",
      " [nan nan nan ... nan nan nan]\n",
      " [nan nan nan ... nan nan nan]\n",
      " [nan nan nan ... nan nan nan]]\n",
      "[[1.0000000e+00 3.3856644e+07 5.8000000e+01 8.0160000e+03 0.0000000e+00\n",
      "  1.3030000e+05 1.8000000e+03 9.7000000e+03 6.9638780e+06 0.0000000e+00]\n",
      " [0.0000000e+00 7.1300000e+02 1.7600000e+02 0.0000000e+00 0.0000000e+00\n",
      "  5.8000000e+01 5.0000000e+00 7.0000000e+00 3.3856640e+07 0.0000000e+00]\n",
      " [0.0000000e+00 6.2500000e+02 3.0000000e+00 0.0000000e+00 0.0000000e+00\n",
      "  3.2500000e+02 8.0000000e+00 6.0000000e+01 0.0000000e+00 0.0000000e+00]\n",
      " [1.0000000e+00 1.8454200e+05 1.4400000e+02 1.7000000e+02 1.0000000e+00\n",
      "  1.2400000e+02 0.0000000e+00 7.0000000e+00 0.0000000e+00 1.0000000e+00]\n",
      " [0.0000000e+00 4.1180000e+03 5.0010000e+03 0.0000000e+00 0.0000000e+00\n",
      "  1.8900000e+02 1.0000000e+00 1.9700000e+02 3.7002000e+04 0.0000000e+00]\n",
      " [0.0000000e+00 7.5700000e+02 2.9000000e+01 2.0000000e+00 0.0000000e+00\n",
      "  1.0200000e+02 1.0000000e+00 1.8000000e+01 0.0000000e+00 0.0000000e+00]\n",
      " [0.0000000e+00 2.8190000e+03 3.0590000e+03 0.0000000e+00 1.0000000e+00\n",
      "  5.0000000e+00 0.0000000e+00 5.0000000e+00 0.0000000e+00 0.0000000e+00]\n",
      " [0.0000000e+00 1.9000000e+01 4.5000000e+01 0.0000000e+00 0.0000000e+00\n",
      "  3.0000000e+00 0.0000000e+00 2.0000000e+00 1.9790000e+03 0.0000000e+00]\n",
      " [0.0000000e+00 7.2600000e+02 0.0000000e+00 4.0000000e+00 1.0000000e+00\n",
      "  1.4400000e+02 4.0000000e+00 3.9000000e+01 0.0000000e+00 0.0000000e+00]\n",
      " [1.0000000e+00 1.2827000e+05 8.0700000e+02 2.2300000e+02 1.0000000e+00\n",
      "  1.0000000e+03 1.2000000e+01 1.2700000e+02 3.3856640e+07 0.0000000e+00]\n",
      " [0.0000000e+00 2.5000000e+02 1.0400000e+02 0.0000000e+00 1.0000000e+00\n",
      "  8.4000000e+01 8.0000000e+00 2.2000000e+01 0.0000000e+00 0.0000000e+00]\n",
      " [0.0000000e+00 1.5540000e+03 4.9740000e+03 0.0000000e+00 0.0000000e+00\n",
      "  1.2000000e+01 2.0000000e+00 5.0000000e+00 0.0000000e+00 0.0000000e+00]]\n",
      "[[nan nan nan nan nan nan nan nan]\n",
      " [nan nan nan nan nan nan nan nan]\n",
      " [nan nan nan nan nan nan nan nan]\n",
      " [nan nan nan nan nan nan nan nan]\n",
      " [nan nan nan nan nan nan nan nan]\n",
      " [nan nan nan nan nan nan nan nan]\n",
      " [nan nan nan nan nan nan nan nan]\n",
      " [nan nan nan nan nan nan nan nan]\n",
      " [nan nan nan nan nan nan nan nan]\n",
      " [nan nan nan nan nan nan nan nan]\n",
      " [nan nan nan nan nan nan nan nan]\n",
      " [nan nan nan nan nan nan nan nan]]\n",
      "epoch: 19\n",
      "NDCG@100 | train: 1.983283200929461e-05, test: 0.3027484202546265\n",
      "epoch 19\n"
     ]
    },
    {
     "name": "stderr",
     "output_type": "stream",
     "text": [
      "100%|███████████████████████████████████████████████████████████████████████████████████| 5/5 [00:00<00:00, 131.93it/s]\n"
     ]
    },
    {
     "name": "stdout",
     "output_type": "stream",
     "text": [
      "train mean loss=0.0\n"
     ]
    },
    {
     "name": "stderr",
     "output_type": "stream",
     "text": [
      "100%|███████████████████████████████████████████████████████████████████████████████████| 1/1 [00:00<00:00, 200.57it/s]\n"
     ]
    },
    {
     "name": "stdout",
     "output_type": "stream",
     "text": [
      "test  mean loss=0.0\n",
      "[[0.0000000e+00 3.0000000e+00 1.9000000e+01 ... 0.0000000e+00\n",
      "  0.0000000e+00 0.0000000e+00]\n",
      " [0.0000000e+00 6.8000000e+01 6.7000000e+01 ... 1.0000000e+00\n",
      "  0.0000000e+00 0.0000000e+00]\n",
      " [0.0000000e+00 1.0100000e+02 3.0000000e+01 ... 5.0000000e+00\n",
      "  3.3856640e+07 0.0000000e+00]\n",
      " ...\n",
      " [0.0000000e+00 7.5700000e+02 2.9000000e+01 ... 6.8000000e+01\n",
      "  0.0000000e+00 0.0000000e+00]\n",
      " [0.0000000e+00 5.5300000e+02 3.3600000e+02 ... 4.0000000e+01\n",
      "  3.3856644e+07 0.0000000e+00]\n",
      " [0.0000000e+00 3.8000000e+02 5.8000000e+01 ... 9.0000000e+00\n",
      "  3.3856640e+07 0.0000000e+00]]\n",
      "[[nan nan nan ... nan nan nan]\n",
      " [nan nan nan ... nan nan nan]\n",
      " [nan nan nan ... nan nan nan]\n",
      " ...\n",
      " [nan nan nan ... nan nan nan]\n",
      " [nan nan nan ... nan nan nan]\n",
      " [nan nan nan ... nan nan nan]]\n",
      "[[1.0000000e+00 3.3856644e+07 5.8000000e+01 8.0160000e+03 0.0000000e+00\n",
      "  1.3030000e+05 1.8000000e+03 9.7000000e+03 6.9638780e+06 0.0000000e+00]\n",
      " [0.0000000e+00 7.1300000e+02 1.7600000e+02 0.0000000e+00 0.0000000e+00\n",
      "  5.8000000e+01 5.0000000e+00 7.0000000e+00 3.3856640e+07 0.0000000e+00]\n",
      " [0.0000000e+00 6.2500000e+02 3.0000000e+00 0.0000000e+00 0.0000000e+00\n",
      "  3.2500000e+02 8.0000000e+00 6.0000000e+01 0.0000000e+00 0.0000000e+00]\n",
      " [1.0000000e+00 1.8454200e+05 1.4400000e+02 1.7000000e+02 1.0000000e+00\n",
      "  1.2400000e+02 0.0000000e+00 7.0000000e+00 0.0000000e+00 1.0000000e+00]\n",
      " [0.0000000e+00 4.1180000e+03 5.0010000e+03 0.0000000e+00 0.0000000e+00\n",
      "  1.8900000e+02 1.0000000e+00 1.9700000e+02 3.7002000e+04 0.0000000e+00]\n",
      " [0.0000000e+00 7.5700000e+02 2.9000000e+01 2.0000000e+00 0.0000000e+00\n",
      "  1.0200000e+02 1.0000000e+00 1.8000000e+01 0.0000000e+00 0.0000000e+00]\n",
      " [0.0000000e+00 2.8190000e+03 3.0590000e+03 0.0000000e+00 1.0000000e+00\n",
      "  5.0000000e+00 0.0000000e+00 5.0000000e+00 0.0000000e+00 0.0000000e+00]\n",
      " [0.0000000e+00 1.9000000e+01 4.5000000e+01 0.0000000e+00 0.0000000e+00\n",
      "  3.0000000e+00 0.0000000e+00 2.0000000e+00 1.9790000e+03 0.0000000e+00]\n",
      " [0.0000000e+00 7.2600000e+02 0.0000000e+00 4.0000000e+00 1.0000000e+00\n",
      "  1.4400000e+02 4.0000000e+00 3.9000000e+01 0.0000000e+00 0.0000000e+00]\n",
      " [1.0000000e+00 1.2827000e+05 8.0700000e+02 2.2300000e+02 1.0000000e+00\n",
      "  1.0000000e+03 1.2000000e+01 1.2700000e+02 3.3856640e+07 0.0000000e+00]\n",
      " [0.0000000e+00 2.5000000e+02 1.0400000e+02 0.0000000e+00 1.0000000e+00\n",
      "  8.4000000e+01 8.0000000e+00 2.2000000e+01 0.0000000e+00 0.0000000e+00]\n",
      " [0.0000000e+00 1.5540000e+03 4.9740000e+03 0.0000000e+00 0.0000000e+00\n",
      "  1.2000000e+01 2.0000000e+00 5.0000000e+00 0.0000000e+00 0.0000000e+00]]\n",
      "[[nan nan nan nan nan nan nan nan]\n",
      " [nan nan nan nan nan nan nan nan]\n",
      " [nan nan nan nan nan nan nan nan]\n",
      " [nan nan nan nan nan nan nan nan]\n",
      " [nan nan nan nan nan nan nan nan]\n",
      " [nan nan nan nan nan nan nan nan]\n",
      " [nan nan nan nan nan nan nan nan]\n",
      " [nan nan nan nan nan nan nan nan]\n",
      " [nan nan nan nan nan nan nan nan]\n",
      " [nan nan nan nan nan nan nan nan]\n",
      " [nan nan nan nan nan nan nan nan]\n",
      " [nan nan nan nan nan nan nan nan]]\n",
      "epoch: 20\n",
      "NDCG@100 | train: 1.983283200929461e-05, test: 0.3027484202546265\n",
      "epoch 20\n"
     ]
    },
    {
     "name": "stderr",
     "output_type": "stream",
     "text": [
      "100%|███████████████████████████████████████████████████████████████████████████████████| 5/5 [00:00<00:00, 263.85it/s]\n"
     ]
    },
    {
     "name": "stdout",
     "output_type": "stream",
     "text": [
      "train mean loss=0.0\n"
     ]
    },
    {
     "name": "stderr",
     "output_type": "stream",
     "text": [
      "100%|███████████████████████████████████████████████████████████████████████████████████| 1/1 [00:00<00:00, 200.24it/s]\n"
     ]
    },
    {
     "name": "stdout",
     "output_type": "stream",
     "text": [
      "test  mean loss=0.0\n",
      "[[0.0000000e+00 3.0000000e+00 1.9000000e+01 ... 0.0000000e+00\n",
      "  0.0000000e+00 0.0000000e+00]\n",
      " [0.0000000e+00 6.8000000e+01 6.7000000e+01 ... 1.0000000e+00\n",
      "  0.0000000e+00 0.0000000e+00]\n",
      " [0.0000000e+00 1.0100000e+02 3.0000000e+01 ... 5.0000000e+00\n",
      "  3.3856640e+07 0.0000000e+00]\n",
      " ...\n",
      " [0.0000000e+00 7.5700000e+02 2.9000000e+01 ... 6.8000000e+01\n",
      "  0.0000000e+00 0.0000000e+00]\n",
      " [0.0000000e+00 5.5300000e+02 3.3600000e+02 ... 4.0000000e+01\n",
      "  3.3856644e+07 0.0000000e+00]\n",
      " [0.0000000e+00 3.8000000e+02 5.8000000e+01 ... 9.0000000e+00\n",
      "  3.3856640e+07 0.0000000e+00]]\n",
      "[[nan nan nan ... nan nan nan]\n",
      " [nan nan nan ... nan nan nan]\n",
      " [nan nan nan ... nan nan nan]\n",
      " ...\n",
      " [nan nan nan ... nan nan nan]\n",
      " [nan nan nan ... nan nan nan]\n",
      " [nan nan nan ... nan nan nan]]\n",
      "[[1.0000000e+00 3.3856644e+07 5.8000000e+01 8.0160000e+03 0.0000000e+00\n",
      "  1.3030000e+05 1.8000000e+03 9.7000000e+03 6.9638780e+06 0.0000000e+00]\n",
      " [0.0000000e+00 7.1300000e+02 1.7600000e+02 0.0000000e+00 0.0000000e+00\n",
      "  5.8000000e+01 5.0000000e+00 7.0000000e+00 3.3856640e+07 0.0000000e+00]\n",
      " [0.0000000e+00 6.2500000e+02 3.0000000e+00 0.0000000e+00 0.0000000e+00\n",
      "  3.2500000e+02 8.0000000e+00 6.0000000e+01 0.0000000e+00 0.0000000e+00]\n",
      " [1.0000000e+00 1.8454200e+05 1.4400000e+02 1.7000000e+02 1.0000000e+00\n",
      "  1.2400000e+02 0.0000000e+00 7.0000000e+00 0.0000000e+00 1.0000000e+00]\n",
      " [0.0000000e+00 4.1180000e+03 5.0010000e+03 0.0000000e+00 0.0000000e+00\n",
      "  1.8900000e+02 1.0000000e+00 1.9700000e+02 3.7002000e+04 0.0000000e+00]\n",
      " [0.0000000e+00 7.5700000e+02 2.9000000e+01 2.0000000e+00 0.0000000e+00\n",
      "  1.0200000e+02 1.0000000e+00 1.8000000e+01 0.0000000e+00 0.0000000e+00]\n",
      " [0.0000000e+00 2.8190000e+03 3.0590000e+03 0.0000000e+00 1.0000000e+00\n",
      "  5.0000000e+00 0.0000000e+00 5.0000000e+00 0.0000000e+00 0.0000000e+00]\n",
      " [0.0000000e+00 1.9000000e+01 4.5000000e+01 0.0000000e+00 0.0000000e+00\n",
      "  3.0000000e+00 0.0000000e+00 2.0000000e+00 1.9790000e+03 0.0000000e+00]\n",
      " [0.0000000e+00 7.2600000e+02 0.0000000e+00 4.0000000e+00 1.0000000e+00\n",
      "  1.4400000e+02 4.0000000e+00 3.9000000e+01 0.0000000e+00 0.0000000e+00]\n",
      " [1.0000000e+00 1.2827000e+05 8.0700000e+02 2.2300000e+02 1.0000000e+00\n",
      "  1.0000000e+03 1.2000000e+01 1.2700000e+02 3.3856640e+07 0.0000000e+00]\n",
      " [0.0000000e+00 2.5000000e+02 1.0400000e+02 0.0000000e+00 1.0000000e+00\n",
      "  8.4000000e+01 8.0000000e+00 2.2000000e+01 0.0000000e+00 0.0000000e+00]\n",
      " [0.0000000e+00 1.5540000e+03 4.9740000e+03 0.0000000e+00 0.0000000e+00\n",
      "  1.2000000e+01 2.0000000e+00 5.0000000e+00 0.0000000e+00 0.0000000e+00]]\n",
      "[[nan nan nan nan nan nan nan nan]\n",
      " [nan nan nan nan nan nan nan nan]\n",
      " [nan nan nan nan nan nan nan nan]\n",
      " [nan nan nan nan nan nan nan nan]\n",
      " [nan nan nan nan nan nan nan nan]\n",
      " [nan nan nan nan nan nan nan nan]\n",
      " [nan nan nan nan nan nan nan nan]\n",
      " [nan nan nan nan nan nan nan nan]\n",
      " [nan nan nan nan nan nan nan nan]\n",
      " [nan nan nan nan nan nan nan nan]\n",
      " [nan nan nan nan nan nan nan nan]\n",
      " [nan nan nan nan nan nan nan nan]]\n",
      "epoch: 21\n",
      "NDCG@100 | train: 1.983283200929461e-05, test: 0.3027484202546265\n",
      "save the model\n",
      "save the optimizer\n"
     ]
    },
    {
     "data": {
      "image/png": "[encoded data removed]",
      "text/plain": [
       "<Figure size 432x288 with 1 Axes>"
      ]
     },
     "metadata": {
      "needs_background": "light"
     },
     "output_type": "display_data"
    }
   ],
   "source": [
    "Model.fit(X, y)"
   ]
  },
  {
   "cell_type": "code",
   "execution_count": null,
   "metadata": {},
   "outputs": [],
   "source": [
    "Model.predict(X)"
   ]
  },
  {
   "cell_type": "code",
   "execution_count": null,
   "metadata": {},
   "outputs": [],
   "source": [
    "# for i in range(0,len(data[4])):\n",
    "#     data[4][i]=convertToNumber(data[4][i])\n",
    "# for i in range(0,len(data[5])):\n",
    "#     data[5][i]=convertToNumber(data[5][i])\n",
    "# for i in range(0,len(data[6])):\n",
    "#     data[6][i]=convertToNumber(data[6][i])\n",
    "# for i in range(0,len(data[7])):\n",
    "#     data[7][i]=convertToNumber(data[7][i])\n",
    "# for i in range(0,len(data[10])):\n",
    "#     data[10][i]=convertToNumber(data[10][i])\n",
    "# for i in range(0,len(data[11])):\n",
    "#     data[11][i]=convertToNumber(data[11][i])\n",
    "# for i in range(0,len(data[12])):\n",
    "#     data[12][i]=convertToNumber(data[12][i])\n",
    "# for i in range(0,len(data[13])):\n",
    "#     data[13][i]=convertToNumber(data[13][i])\n",
    "# for i in range(0,len(data[16])):\n",
    "#     data[16][i]=convertToNumber(data[16][i])\n",
    "# for i in range(0,len(data[17])):\n",
    "#     data[17][i]=convertToNumber(data[17][i])\n",
    "# plt.plot(data[0], data[4])\n",
    "plt.plot(data[0], data[5])\n",
    "plt.plot(data[0], data[6])\n",
    "plt.plot(data[0], data[7])\n",
    "plt.plot(data[0], data[10])\n",
    "plt.plot(data[0], data[11])\n",
    "plt.plot(data[0], data[12])\n",
    "plt.plot(data[0], data[13])\n",
    "plt.plot(data[0], data[16])\n",
    "plt.plot(data[0], data[17])"
   ]
  },
  {
   "cell_type": "code",
   "execution_count": null,
   "metadata": {
    "scrolled": true
   },
   "outputs": [],
   "source": [
    "tutorial_soup = BeautifulSoup(driver.page_source, 'html.parser')\n",
    "#tweet_boxes = tutorial_soup.find_all('div',attrs={'class':'css-1dbjc4n r-18u37iz r-thb0q2','data-testid':'tweet'})\n",
    "tweet_boxes = tutorial_soup.find_all('div',{'class':'css-1dbjc4n r-1iusvr4 r-16y2uox r-1777fci r-5f2r5o r-1mi0q7o'})\n",
    "len(tweet_boxes)\n",
    "tweet_boxes[1].findChildren('div',recursive=False)[3].attrs.get('aria-label')\n",
    "for i in range(0,len(tweet_boxes)):\n",
    "    print(tweet_boxes[i].findChildren('div',recursive=False)[3].attrs.get('aria-label'))\n",
    "#     tweet_boxes[i].findChildren('div',recursive=False)[3].attrs.get('aria-label')\n",
    "box = tweet_boxes[2]\n",
    "#small_boxes = box.find_all('div',{'class':'css-901oao r-hkyrab r-1qd0xha r-a023e6 r-16dba41 r-ad9z0x r-bcqeeo r-bnwqim r-qvutc0','lang':'en'})\n",
    "if(box.find('img')):\n",
    "    small_boxes = box.find('img')\n",
    "    print(small_boxes)\n",
    "boxes = tweet_boxes[2]\n",
    "#boxes.text\n",
    "#span = boxes.find_all('span',{'class':'css-901oao css-16my406 r-1qd0xha r-ad9z0x r-bcqeeo r-qvutc0'})\n",
    "span = boxes.find_all('div',{'class':'css-901oao r-1awozwy r-1re7ezh r-6koalj r-1qd0xha r-a023e6 r-16dba41 r-1h0z5md r-ad9z0x r-bcqeeo r-o7ynqc r-clp7b1 r-3s2u2q r-qvutc0'})\n",
    "span[4].text\n",
    "#span[len(span)-1].text.isdigit()<div dir=\"ltr\" class=\"\">"
   ]
  },
  {
   "cell_type": "code",
   "execution_count": null,
   "metadata": {},
   "outputs": [],
   "source": [
    "from sklearn.linear_model import LogisticRegression\n",
    "logreg = LogisticRegression(C=1e5)"
   ]
  },
  {
   "cell_type": "code",
   "execution_count": null,
   "metadata": {
    "scrolled": true
   },
   "outputs": [],
   "source": [
    "logreg.fit(training_X, training_Y)"
   ]
  },
  {
   "cell_type": "code",
   "execution_count": null,
   "metadata": {},
   "outputs": [],
   "source": [
    "import random\n",
    "# random.shuffle(training_X)\n",
    "logreg.predict(training_X)"
   ]
  }
 ],
 "metadata": {
  "kernelspec": {
   "display_name": "Python 3",
   "language": "python",
   "name": "python3"
  },
  "language_info": {
   "codemirror_mode": {
    "name": "ipython",
    "version": 3
   },
   "file_extension": ".py",
   "mimetype": "text/x-python",
   "name": "python",
   "nbconvert_exporter": "python",
   "pygments_lexer": "ipython3",
   "version": "3.7.3"
  }
 },
 "nbformat": 4,
 "nbformat_minor": 2
}
