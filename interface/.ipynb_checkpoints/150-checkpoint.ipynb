{
 "cells": [
  {
   "cell_type": "code",
   "execution_count": 1,
   "metadata": {},
   "outputs": [
    {
     "name": "stdout",
     "output_type": "stream",
     "text": [
      "\n",
      "Discard orig. features\n",
      "Model file: trainedModels/randomForests.txt\n",
      "Feature normalization: zscore\n",
      "Model:  Random Forests\n",
      "\\rReading feature file [uploadedFiles/MyFile.txt]: 0... \\rReading feature file [uploadedFiles/MyFile.txt]: 0... \\rReading feature file [uploadedFiles/MyFile.txt]... [Done.]            \n",
      "(11 ranked lists, 12723 entries read)\n"
     ]
    }
   ],
   "source": [
    "import os\n",
    "import subprocess\n",
    "file_name=\"MyFile\"\n",
    "ranking_method=\"randomForests\"\n",
    "cmd=[\"java\",\"-jar\",\"RankLib-2.13.jar\",\"-rank\",\"uploadedFiles/\"+file_name+\".txt\",\"-load\",\"trainedModels/\"+ranking_method+\".txt\",\"-norm\",\"zscore\",\"-indri\",\"myNewRankedLists.txt\"]\n",
    "output=[]\n",
    "proc = subprocess.Popen(cmd, stdout=subprocess.PIPE)\n",
    "for line in proc.stdout.readlines():\n",
    "    x=str(line)\n",
    "    x=x[2:len(x)-3]\n",
    "    x=x.replace('\\\\t',' ')\n",
    "    print(x)\n",
    "    output.append(x)"
   ]
  },
  {
   "cell_type": "code",
   "execution_count": 2,
   "metadata": {},
   "outputs": [
    {
     "data": {
      "text/plain": [
       "['',\n",
       " 'Discard orig. features',\n",
       " 'Model file: trainedModels/randomForests.txt',\n",
       " 'Feature normalization: zscore',\n",
       " 'Model:  Random Forests',\n",
       " '\\\\rReading feature file [uploadedFiles/MyFile.txt]: 0... \\\\rReading feature file [uploadedFiles/MyFile.txt]: 0... \\\\rReading feature file [uploadedFiles/MyFile.txt]... [Done.]            ',\n",
       " '(11 ranked lists, 12723 entries read)']"
      ]
     },
     "execution_count": 2,
     "metadata": {},
     "output_type": "execute_result"
    }
   ],
   "source": [
    "output"
   ]
  }
 ],
 "metadata": {
  "kernelspec": {
   "display_name": "Python 3",
   "language": "python",
   "name": "python3"
  },
  "language_info": {
   "codemirror_mode": {
    "name": "ipython",
    "version": 3
   },
   "file_extension": ".py",
   "mimetype": "text/x-python",
   "name": "python",
   "nbconvert_exporter": "python",
   "pygments_lexer": "ipython3",
   "version": "3.6.7"
  }
 },
 "nbformat": 4,
 "nbformat_minor": 2
}
