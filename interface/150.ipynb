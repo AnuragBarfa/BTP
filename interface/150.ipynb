{
 "cells": [
  {
   "cell_type": "code",
   "execution_count": 22,
   "metadata": {},
   "outputs": [
    {
     "name": "stdout",
     "output_type": "stream",
     "text": [
      "\\r\n",
      "Discard orig. features\\r\n",
      "Model file: trainedModels/randomForests.txt\\r\n",
      "Feature normalization: zscore\\r\n",
      "Model:  Random Forests\\r\n",
      "\\rReading feature file [uploadedFiles/MyFile8.txt]: 0... \\rReading feature file [uploadedFiles/MyFile8.txt]: 0... \\rReading feature file [uploadedFiles/MyFile8.txt]... [Done.]            \\r\n",
      "(11 ranked lists, 12723 entries read)\\r\n"
     ]
    }
   ],
   "source": [
    "##Step1 ranking\n",
    "import os\n",
    "import subprocess\n",
    "file_name=\"MyFile8\"\n",
    "ranking_method=\"randomForests\"\n",
    "cmd=[\"java\",\"-jar\",\"RankLib-2.13.jar\",\"-rank\",\"uploadedFiles/\"+file_name+\".txt\",\"-load\",\"trainedModels/\"+ranking_method+\".txt\",\"-norm\",\"zscore\",\"-indri\",\"myNewRankedLists.txt\"]\n",
    "output=[]\n",
    "proc = subprocess.Popen(cmd, stdout=subprocess.PIPE)\n",
    "for line in proc.stdout.readlines():\n",
    "    x=str(line)\n",
    "    x=x[2:len(x)-3]\n",
    "    x=x.replace('\\\\t',' ')\n",
    "    print(x)\n",
    "    output.append(x)\n",
    "score_data={}\n",
    "label_data = {}\n",
    "query={}\n",
    "query_name = {}\n",
    "file1 = open(\"uploadedFiles/\"+file_name+\".txt\",\"r\")\n",
    "for x in file1:\n",
    "    curr_row=x.split(\" \")\n",
    "    qid=int(curr_row[1].split(\":\")[1])\n",
    "    date=float(curr_row[14].split(\":\")[1])\n",
    "    index2=int(curr_row[26].split(\"_\")[0])-1\n",
    "    if qid not in score_data:\n",
    "        label_data[qid] = {}\n",
    "        score_data[qid] = []\n",
    "        query[qid]=curr_row[26].split(\"_\")[2]\n",
    "        rem = x.split(\"=\")[1]\n",
    "        i = rem.find(\"of\")\n",
    "        rem = rem[i+3:]\n",
    "        rem = rem[:len(rem)-1]\n",
    "        query_name[qid] = rem\n",
    "    label_data[qid][index2+1] = int(curr_row[0])\n",
    "    score_data[qid].append([0,date,index2+1])\n",
    "file1.close()\n",
    "f = open(\"myNewRankedLists.txt\",\"r\")\n",
    "f1 = f.readlines()\n",
    "ans = {}\n",
    "for x in f1:\n",
    "    y = x.split()\n",
    "    value = y[len(y)-2]\n",
    "    q_id = y[0]\n",
    "    z = x.split('_')\n",
    "    i = z[0]\n",
    "    i = i.split()\n",
    "    # print(i)\n",
    "    i = i[4]\n",
    "    for v in range(len(score_data[int(q_id)])):\n",
    "        # print(score_data[int(q_id)][v][2])\n",
    "        # print(i)\n",
    "        if score_data[int(q_id)][v][2] == int(i):\n",
    "            score_data[int(q_id)][v][0] = float(value)\n",
    "            break\n",
    "for id in score_data.keys():\n",
    "    score_data[id].sort(key = lambda sub: (-sub[0], sub[1]))\n",
    "inputInfo=output[6]\n",
    "inputInfo=inputInfo[1:len(inputInfo)-1]\n",
    "modelInfo=output[4]\n",
    "file1 = open(\"myNewRankedLists.txt\",\"w\")\n",
    "for qid in score_data.keys():\n",
    "    cnt = 1\n",
    "    for doc in score_data[qid]:\n",
    "        s=str(qid)+\" Q0 docid = \"+str(doc[2])+\"_of_\"+query_name[qid]+\" \"+str(cnt)+\" \"+str(doc[0])+\" indri\\n\"\n",
    "        cnt = cnt+1\n",
    "        file1.write(s)\n",
    "file1.close()"
   ]
  },
  {
   "cell_type": "code",
   "execution_count": 19,
   "metadata": {},
   "outputs": [
    {
     "name": "stdout",
     "output_type": "stream",
     "text": [
      "4_Years_of_FAN\n"
     ]
    }
   ],
   "source": [
    "s = \" 3_of_4_Years_of_FAN\\n\"\n",
    "i = s.find(\"of\")\n",
    "s = s[i+3:]\n",
    "s = s[:len(s)-1]\n",
    "print(s)"
   ]
  },
  {
   "cell_type": "code",
   "execution_count": 3,
   "metadata": {},
   "outputs": [
    {
     "ename": "IndexError",
     "evalue": "list index out of range",
     "output_type": "error",
     "traceback": [
      "\u001b[1;31m---------------------------------------------------------------------------\u001b[0m",
      "\u001b[1;31mIndexError\u001b[0m                                Traceback (most recent call last)",
      "\u001b[1;32m<ipython-input-3-398031d9b893>\u001b[0m in \u001b[0;36m<module>\u001b[1;34m\u001b[0m\n\u001b[0;32m      8\u001b[0m \u001b[1;32mfor\u001b[0m \u001b[0mline\u001b[0m \u001b[1;32min\u001b[0m \u001b[0mlines\u001b[0m\u001b[1;33m:\u001b[0m\u001b[1;33m\u001b[0m\u001b[1;33m\u001b[0m\u001b[0m\n\u001b[0;32m      9\u001b[0m     \u001b[0mline_data\u001b[0m\u001b[1;33m=\u001b[0m\u001b[0mline\u001b[0m\u001b[1;33m.\u001b[0m\u001b[0msplit\u001b[0m\u001b[1;33m(\u001b[0m\u001b[1;34m\" \"\u001b[0m\u001b[1;33m)\u001b[0m\u001b[1;33m\u001b[0m\u001b[1;33m\u001b[0m\u001b[0m\n\u001b[1;32m---> 10\u001b[1;33m     \u001b[0mprint\u001b[0m\u001b[1;33m(\u001b[0m\u001b[0mline_data\u001b[0m\u001b[1;33m[\u001b[0m\u001b[1;36m4\u001b[0m\u001b[1;33m]\u001b[0m\u001b[1;33m)\u001b[0m\u001b[1;33m\u001b[0m\u001b[1;33m\u001b[0m\u001b[0m\n\u001b[0m\u001b[0;32m     11\u001b[0m     \u001b[0mqid\u001b[0m\u001b[1;33m=\u001b[0m\u001b[0mline_data\u001b[0m\u001b[1;33m[\u001b[0m\u001b[1;36m0\u001b[0m\u001b[1;33m]\u001b[0m\u001b[1;33m\u001b[0m\u001b[1;33m\u001b[0m\u001b[0m\n\u001b[0;32m     12\u001b[0m     \u001b[1;32mif\u001b[0m \u001b[0mqid\u001b[0m \u001b[1;32mnot\u001b[0m \u001b[1;32min\u001b[0m \u001b[0mtop_n\u001b[0m\u001b[1;33m:\u001b[0m\u001b[1;33m\u001b[0m\u001b[1;33m\u001b[0m\u001b[0m\n",
      "\u001b[1;31mIndexError\u001b[0m: list index out of range"
     ]
    }
   ],
   "source": [
    "#Step2 ranking(top-n)\n",
    "#get top-n tweets id\n",
    "n=150\n",
    "file = open(\"myNewRankedLists.txt\",\"r\")\n",
    "lines = file.readlines()\n",
    "counter=0\n",
    "top_n={}\n",
    "for line in lines:\n",
    "    line_data=line.split(\" \")\n",
    "    print(line_data[4])\n",
    "    qid=line_data[0]\n",
    "    if qid not in top_n:\n",
    "        top_n[qid]=[]\n",
    "        counter=0\n",
    "    if counter<n:\n",
    "        top_n[qid].append(line_data[4])\n",
    "    counter=counter+1"
   ]
  },
  {
   "cell_type": "code",
   "execution_count": 31,
   "metadata": {},
   "outputs": [],
   "source": [
    "#get details of top-n tweets and make new file for testing into second phase\n",
    "file1 = open(\"uploadedFiles/\"+file_name+\".txt\",\"r\")\n",
    "tweets={}\n",
    "for x in file1:\n",
    "    curr_row=x.split(\" \")\n",
    "    l=len(curr_row)\n",
    "    doc_id=curr_row[l-1]\n",
    "    doc_id=doc_id[:len(doc_id)-1]\n",
    "    tweets[doc_id]=x\n",
    "    \n",
    "file1 = open(\"uploadedFiles/intermidiate_\"+file_name+\".txt\",\"w\")\n",
    "for key in top_n.keys():\n",
    "    for doc in top_n[key]:\n",
    "        file1.write(tweets[doc])\n",
    "file1.close()"
   ]
  },
  {
   "cell_type": "code",
   "execution_count": 33,
   "metadata": {
    "scrolled": true
   },
   "outputs": [
    {
     "name": "stdout",
     "output_type": "stream",
     "text": [
      "\n",
      "Discard orig. features\n",
      "Model file: trainedModels/intermidiate_randomForests.txt\n",
      "Feature normalization: zscore\n",
      "Model:  Random Forests\n",
      "\\rReading feature file [uploadedFiles/intermidiate_MyFile8.txt]: 0... \\rReading feature file [uploadedFiles/intermidiate_MyFile8.txt]... [Done.]            \n",
      "(11 ranked lists, 1650 entries read)\n"
     ]
    }
   ],
   "source": [
    "#second phase ranking \n",
    "##Step1 ranking\n",
    "import os\n",
    "import subprocess\n",
    "intermidiate_file_name=\"intermidiate_\"+file_name\n",
    "intermidiate_ranking_method=\"intermidiate_\"+ranking_method\n",
    "cmd=[\"java\",\"-jar\",\"RankLib-2.13.jar\",\"-rank\",\"uploadedFiles/\"+intermidiate_file_name+\".txt\",\"-load\",\"trainedModels/\"+intermidiate_ranking_method+\".txt\",\"-norm\",\"zscore\",\"-indri\",\"intermidiateRankedLists.txt\"]\n",
    "output=[]\n",
    "proc = subprocess.Popen(cmd, stdout=subprocess.PIPE)\n",
    "for line in proc.stdout.readlines():\n",
    "    x=str(line)\n",
    "    x=x[2:len(x)-3]\n",
    "    x=x.replace('\\\\t',' ')\n",
    "    print(x)\n",
    "    output.append(x)"
   ]
  },
  {
   "cell_type": "code",
   "execution_count": 40,
   "metadata": {},
   "outputs": [],
   "source": [
    "file = open(\"myNewRankedLists.txt\",\"r\")\n",
    "lines = file.readlines()\n",
    "rankList={}\n",
    "for line in lines:\n",
    "    qid=int(line.split(\" \")[0])\n",
    "    if qid not in rankList:\n",
    "        rankList[qid]=[]\n",
    "    rankList[qid].append(line)\n",
    "file.close()\n",
    "file = open(\"intermidiateRankedLists.txt\",\"r\")\n",
    "lines = file.readlines()\n",
    "rankList2={}\n",
    "for line in lines:\n",
    "    qid=int(line.split(\" \")[0])\n",
    "    if qid not in rankList2:\n",
    "        rankList2[qid]=[]\n",
    "    rankList2[qid].append(line)\n",
    "file.close()\n",
    "\n",
    "for key in rankList2.keys():\n",
    "    for i in range(0, len(rankList2[key])):\n",
    "        rankList[key][i]=rankList2[key][i]\n",
    "file=open(\"myNewRankedLists.txt\",\"w\")\n",
    "for key in rankList.keys():\n",
    "    for i in range(0, len(rankList[key])):\n",
    "        file.write(rankList[key][i])\n",
    "file.close()\n"
   ]
  },
  {
   "cell_type": "code",
   "execution_count": 3,
   "metadata": {},
   "outputs": [],
   "source": [
    "score_data={}\n",
    "label_data = {}\n",
    "query={}\n",
    "file1 = open(\"uploadedFiles/\"+file_name+\".txt\",\"r\")\n",
    "for x in file1:\n",
    "    curr_row=x.split(\" \")\n",
    "    qid=int(curr_row[1].split(\":\")[1])\n",
    "    date=float(curr_row[14].split(\":\")[1])\n",
    "    index2=int(curr_row[26].split(\"_\")[0])-1\n",
    "    if qid not in score_data:\n",
    "        label_data[qid] = {}\n",
    "        score_data[qid] = []\n",
    "        query[qid]=curr_row[26].split(\"_\")[2]\n",
    "    label_data[qid][index2+1] = int(curr_row[0])\n",
    "    score_data[qid].append([0,date,index2+1])\n",
    "file1.close()"
   ]
  },
  {
   "cell_type": "code",
   "execution_count": null,
   "metadata": {},
   "outputs": [],
   "source": [
    "f = open(\"myNewRankedLists.txt\",\"r\")\n",
    "f1 = f.readlines()\n",
    "ans = {}\n",
    "for x in f1:\n",
    "    y = x.split()\n",
    "    value = y[len(y)-2]\n",
    "    q_id = y[0]\n",
    "    z = x.split('_')\n",
    "    i = z[0]\n",
    "    i = i.split()\n",
    "    # print(i)\n",
    "    i = i[4]\n",
    "    for v in range(len(score_data[int(q_id)])):\n",
    "        # print(score_data[int(q_id)][v][2])\n",
    "        # print(i)\n",
    "        if score_data[int(q_id)][v][2] == int(i):\n",
    "            score_data[int(q_id)][v][0] = float(value)\n",
    "            break\n",
    "for id in score_data.keys():\n",
    "    score_data[id].sort(key = lambda sub: (-sub[0], sub[1]))"
   ]
  }
 ],
 "metadata": {
  "kernelspec": {
   "display_name": "Python 3",
   "language": "python",
   "name": "python3"
  },
  "language_info": {
   "codemirror_mode": {
    "name": "ipython",
    "version": 3
   },
   "file_extension": ".py",
   "mimetype": "text/x-python",
   "name": "python",
   "nbconvert_exporter": "python",
   "pygments_lexer": "ipython3",
   "version": "3.7.3"
  }
 },
 "nbformat": 4,
 "nbformat_minor": 2
}
